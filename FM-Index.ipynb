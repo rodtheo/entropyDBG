{
 "cells": [
  {
   "cell_type": "markdown",
   "metadata": {},
   "source": [
    "## Burrows-Wheeler Transform\n",
    "\n",
    "A transformada de burrows-wheeler BW de uma string T de tamanho `m` é uma string com os caracteres de T permutados. Uma permutação possível da string T é a aplitação de uma função rotação resultando no deslocamento dos caracteres da string para a direita. O resultado desta operação `m` vezes seguido da ordenação das strings em ordem lexicográfica é a matriz `BWM`.\n",
    "\n",
    "Por exemplo, seja T=\"cat\". A rotação desta string m=3 vezes é:"
   ]
  },
  {
   "cell_type": "code",
   "execution_count": 1,
   "metadata": {
    "collapsed": true
   },
   "outputs": [],
   "source": [
    "def rotations(t):\n",
    "    # Return list of rotations of input string t\n",
    "    tt = t * 2\n",
    "    return [ tt[i:i+len(t)] for i in range(0, len(t)) ]"
   ]
  },
  {
   "cell_type": "code",
   "execution_count": 2,
   "metadata": {
    "collapsed": false
   },
   "outputs": [
    {
     "data": {
      "text/plain": [
       "['cat', 'atc', 'tca']"
      ]
     },
     "execution_count": 2,
     "metadata": {},
     "output_type": "execute_result"
    }
   ],
   "source": [
    "rotations('cat')"
   ]
  },
  {
   "cell_type": "markdown",
   "metadata": {},
   "source": [
    "A ordenação lexicograficamente destas strings resulta na matriz BW:"
   ]
  },
  {
   "cell_type": "code",
   "execution_count": 3,
   "metadata": {
    "collapsed": true
   },
   "outputs": [],
   "source": [
    "def bwm(t):\n",
    "    # Return lexicographically sorted list of t’s rotations\n",
    "    return sorted(rotations(t))"
   ]
  },
  {
   "cell_type": "code",
   "execution_count": 4,
   "metadata": {
    "collapsed": false
   },
   "outputs": [
    {
     "name": "stdout",
     "output_type": "stream",
     "text": [
      "$cat\n",
      "at$c\n",
      "cat$\n",
      "t$ca\n"
     ]
    }
   ],
   "source": [
    "print('\\n'.join(bwm('cat$')))"
   ]
  },
  {
   "cell_type": "markdown",
   "metadata": {},
   "source": [
    "Reference links:\n",
    "    - [FM-Index Langmead lecture](https://www.youtube.com/watch?v=kvVGj5V65io)\n",
    "    - [BWT-FM Index PDF](http://www.cs.jhu.edu/~langmea/resources/bwt_fm.pdf)\n",
    "    "
   ]
  },
  {
   "cell_type": "code",
   "execution_count": 5,
   "metadata": {
    "collapsed": false
   },
   "outputs": [
    {
     "data": {
      "text/plain": [
       "['$abaaba', 'a$abaab', 'aaba$ab', 'aba$aba', 'abaaba$', 'ba$abaa', 'baaba$a']"
      ]
     },
     "execution_count": 5,
     "metadata": {},
     "output_type": "execute_result"
    }
   ],
   "source": [
    "bwm('abaaba$')"
   ]
  },
  {
   "cell_type": "code",
   "execution_count": 6,
   "metadata": {
    "collapsed": false
   },
   "outputs": [
    {
     "name": "stdout",
     "output_type": "stream",
     "text": [
      "$abaaba\n",
      "a$abaab\n",
      "aaba$ab\n",
      "aba$aba\n",
      "abaaba$\n",
      "ba$abaa\n",
      "baaba$a\n"
     ]
    }
   ],
   "source": [
    "print('\\n'.join(bwm('abaaba$')))"
   ]
  },
  {
   "cell_type": "code",
   "execution_count": 7,
   "metadata": {
    "collapsed": true
   },
   "outputs": [],
   "source": [
    "def bwtViaBwm(t):\n",
    "    # Given T, returns BWT(T) by way of the BWM\n",
    "    return ''.join(map(lambda x: x[-1], bwm(t)))"
   ]
  },
  {
   "cell_type": "code",
   "execution_count": 8,
   "metadata": {
    "collapsed": false
   },
   "outputs": [
    {
     "data": {
      "text/plain": [
       "'abba$aa'"
      ]
     },
     "execution_count": 8,
     "metadata": {},
     "output_type": "execute_result"
    }
   ],
   "source": [
    "bwtViaBwm('abaaba$') # we can see the result equals the last column of the matrix above"
   ]
  },
  {
   "cell_type": "code",
   "execution_count": 9,
   "metadata": {
    "collapsed": false
   },
   "outputs": [],
   "source": [
    "def suffixArrayAll(s):\n",
    "    satups = sorted([(s[i:], i) for i in xrange(0, len(s))])\n",
    "    return satups\n",
    "\n",
    "def suffixArray(s):\n",
    "    satups = sorted([(s[i:], i) for i in xrange(0, len(s))])\n",
    "    print satups\n",
    "    return map(lambda x: x[1], satups)\n",
    "\n",
    "def bwtViaSa(t):\n",
    "    # Given T, returns BWT(T) by way of the suffix array\n",
    "    bw = []\n",
    "    for si in suffixArray(t):\n",
    "        if si == 0:\n",
    "            bw.append('$')\n",
    "        else:\n",
    "            bw.append(t[si-1])\n",
    "    return ''.join(bw) # return string-ized version of list bw"
   ]
  },
  {
   "cell_type": "code",
   "execution_count": 10,
   "metadata": {
    "collapsed": false
   },
   "outputs": [
    {
     "name": "stdout",
     "output_type": "stream",
     "text": [
      "[('$', 6), ('a$', 5), ('aaba$', 2), ('aba$', 3), ('abaaba$', 0), ('ba$', 4), ('baaba$', 1)]\n"
     ]
    },
    {
     "data": {
      "text/plain": [
       "[6, 5, 2, 3, 0, 4, 1]"
      ]
     },
     "execution_count": 10,
     "metadata": {},
     "output_type": "execute_result"
    }
   ],
   "source": [
    "suffixArray('abaaba$')"
   ]
  },
  {
   "cell_type": "code",
   "execution_count": 11,
   "metadata": {
    "collapsed": false
   },
   "outputs": [
    {
     "name": "stdout",
     "output_type": "stream",
     "text": [
      "[('$', 6), ('a$', 5), ('aaba$', 2), ('aba$', 3), ('abaaba$', 0), ('ba$', 4), ('baaba$', 1)]\n"
     ]
    },
    {
     "data": {
      "text/plain": [
       "('abba$aa', 'abba$aa')"
      ]
     },
     "execution_count": 11,
     "metadata": {},
     "output_type": "execute_result"
    }
   ],
   "source": [
    "bwtViaBwm('abaaba$'), bwtViaSa('abaaba$') # same result"
   ]
  },
  {
   "cell_type": "code",
   "execution_count": 12,
   "metadata": {
    "collapsed": true
   },
   "outputs": [],
   "source": [
    "def rankBwt(bw):\n",
    "    ''' Given BWT string bw, return parallel list of B-ranks (ranks in ascending order). Also\n",
    "    returns tots: map from character to # times it appears.\n",
    "    '''\n",
    "    tots = dict()\n",
    "    ranks = []\n",
    "    for c in bw:\n",
    "        if c not in tots: tots[c] = 0\n",
    "        ranks.append(tots[c])\n",
    "        tots[c] += 1\n",
    "    return ranks, tots\n",
    "\n",
    "def firstCol(tots):\n",
    "    '''\n",
    "    Return map from character to the range of rows prefixed by\n",
    "     the character.\n",
    "    '''\n",
    "    first = {}\n",
    "    totc = 0\n",
    "    for c, count in sorted(tots.iteritems()):\n",
    "        first[c] = (totc, totc + count)\n",
    "        totc += count\n",
    "    return first\n",
    "\n",
    "def reverseBwt(bw):\n",
    "    '''Make T from BWT(T)'''\n",
    "    ranks, tots = rankBwt(bw)\n",
    "    first = firstCol(tots)\n",
    "    print(first)\n",
    "    rowi = 0 #start in first row\n",
    "    t = '$'\n",
    "    while bw[rowi] != '$':\n",
    "        c = bw[rowi]\n",
    "        t = c + t #preped to answer\n",
    "        # jump to row that starts with c of same rank\n",
    "        rowi = first[c][0] + ranks[rowi]\n",
    "    return t"
   ]
  },
  {
   "cell_type": "code",
   "execution_count": 13,
   "metadata": {
    "collapsed": false
   },
   "outputs": [
    {
     "name": "stdout",
     "output_type": "stream",
     "text": [
      "{'a': (1, 5), 'b': (5, 7), '$': (0, 1)}\n"
     ]
    },
    {
     "data": {
      "text/plain": [
       "'abaaba$'"
      ]
     },
     "execution_count": 13,
     "metadata": {},
     "output_type": "execute_result"
    }
   ],
   "source": [
    "reverseBwt('abba$aa')"
   ]
  },
  {
   "cell_type": "code",
   "execution_count": 14,
   "metadata": {
    "collapsed": true
   },
   "outputs": [],
   "source": [
    "ranks, tots = rankBwt('abba$aa')"
   ]
  },
  {
   "cell_type": "code",
   "execution_count": 15,
   "metadata": {
    "collapsed": false
   },
   "outputs": [
    {
     "data": {
      "text/plain": [
       "[0, 0, 1, 1, 0, 2, 3]"
      ]
     },
     "execution_count": 15,
     "metadata": {},
     "output_type": "execute_result"
    }
   ],
   "source": [
    "ranks"
   ]
  },
  {
   "cell_type": "code",
   "execution_count": 16,
   "metadata": {
    "collapsed": false
   },
   "outputs": [
    {
     "data": {
      "text/plain": [
       "{'$': 1, 'a': 4, 'b': 2}"
      ]
     },
     "execution_count": 16,
     "metadata": {},
     "output_type": "execute_result"
    }
   ],
   "source": [
    "tots"
   ]
  },
  {
   "cell_type": "code",
   "execution_count": 17,
   "metadata": {
    "collapsed": true
   },
   "outputs": [],
   "source": [
    "def rankAllBwt(bw):\n",
    "    \"\"\" Given BWT string bw, returns a map of lists. Keys are characters and lists are\n",
    "     cumulative # of occurences up to and including the row.\n",
    "    \"\"\"\n",
    "    tots = {}\n",
    "    rankAll = {}\n",
    "    for c in bw:\n",
    "        if c not in tots:\n",
    "            tots[c] = 0\n",
    "            rankAll[c] = []\n",
    "    \n",
    "    for c in bw:\n",
    "        tots[c] += 1\n",
    "        for c in tots.iterkeys():\n",
    "            rankAll[c].append(tots[c])\n",
    "    return rankAll, tots\n",
    "\n",
    "def countMatches(bw, p):\n",
    "    \"\"\"\n",
    "    Given BWT(T) and a pattern string p, return the number of times p occurs in T.\n",
    "    \"\"\"\n",
    "    rankAll, tots = rankAllBwt(bw)\n",
    "    first = firstCol(tots)\n",
    "    if p[-1] not in first:\n",
    "        return 0 # character doesnt occur in T\n",
    "    l, r = first[p[-1]]\n",
    "    i = len(p)-2\n",
    "    while i >= 0 and r > l:\n",
    "        c = p[i]\n",
    "        l = first[c][0] + rankAll[c][l-1]\n",
    "        r = first[c][0] + rankAll[c][r-1]\n",
    "        i -= 1\n",
    "    return l, r\n",
    "    "
   ]
  },
  {
   "cell_type": "code",
   "execution_count": 18,
   "metadata": {
    "collapsed": false
   },
   "outputs": [
    {
     "name": "stdout",
     "output_type": "stream",
     "text": [
      "[('$', 10), ('i$', 9), ('ipi$', 7), ('issipi$', 4), ('ississipi$', 1), ('mississipi$', 0), ('pi$', 8), ('sipi$', 6), ('sissipi$', 3), ('ssipi$', 5), ('ssissipi$', 2)]\n"
     ]
    },
    {
     "data": {
      "text/plain": [
       "(3, 5)"
      ]
     },
     "execution_count": 18,
     "metadata": {},
     "output_type": "execute_result"
    }
   ],
   "source": [
    "countMatches( bwtViaSa('mississipi$'), 'iss')"
   ]
  },
  {
   "cell_type": "code",
   "execution_count": 19,
   "metadata": {
    "collapsed": false
   },
   "outputs": [
    {
     "name": "stdout",
     "output_type": "stream",
     "text": [
      "$mississipi\t('$', 10)\n",
      "i$mississip\t('i$', 9)\n",
      "ipi$mississ\t('ipi$', 7)\n",
      "issipi$miss\t('issipi$', 4)\n",
      "ississipi$m\t('ississipi$', 1)\n",
      "mississipi$\t('mississipi$', 0)\n",
      "pi$mississi\t('pi$', 8)\n",
      "sipi$missis\t('sipi$', 6)\n",
      "sissipi$mis\t('sissipi$', 3)\n",
      "ssipi$missi\t('ssipi$', 5)\n",
      "ssissipi$mi\t('ssissipi$', 2)\n"
     ]
    }
   ],
   "source": [
    "for s, t in zip(bwm('mississipi$'), suffixArrayAll('mississipi$')):\n",
    "    print (\"{0}\\t{1}\".format(s,t))"
   ]
  },
  {
   "cell_type": "code",
   "execution_count": 20,
   "metadata": {
    "collapsed": true
   },
   "outputs": [],
   "source": [
    "def countMatchesAlex(bw, p):\n",
    "    \"\"\"\n",
    "    Given BWT(T) and a pattern string p, return the number of times p occurs in T.\n",
    "    \"\"\"\n",
    "    rankAll, tots = rankAllBwt(bw)\n",
    "    first = firstCol(tots)\n",
    "    s = 1\n",
    "    e = len(bw)\n",
    "    i = len(p)-1\n",
    "    while i >= 0 and e > s:\n",
    "        c = p[i]\n",
    "        if c not in first.iterkeys():\n",
    "            return 0\n",
    "        s = first[c][0] + rankAll[c][s-1] \n",
    "        e = first[c][0] + rankAll[c][e-1]\n",
    "        i -= 1\n",
    "    return s, e"
   ]
  },
  {
   "cell_type": "code",
   "execution_count": 21,
   "metadata": {
    "collapsed": false
   },
   "outputs": [
    {
     "name": "stdout",
     "output_type": "stream",
     "text": [
      "[('$', 11), ('i$', 10), ('ippi$', 7), ('issippi$', 4), ('ississippi$', 1), ('mississippi$', 0), ('pi$', 9), ('ppi$', 8), ('sippi$', 6), ('sissippi$', 3), ('ssippi$', 5), ('ssissippi$', 2)]\n"
     ]
    },
    {
     "data": {
      "text/plain": [
       "({'$': [0, 0, 0, 0, 0, 1, 1, 1, 1, 1, 1, 1],\n",
       "  'i': [1, 1, 1, 1, 1, 1, 1, 2, 2, 2, 3, 4],\n",
       "  'm': [0, 0, 0, 0, 1, 1, 1, 1, 1, 1, 1, 1],\n",
       "  'p': [0, 1, 1, 1, 1, 1, 2, 2, 2, 2, 2, 2],\n",
       "  's': [0, 0, 1, 2, 2, 2, 2, 2, 3, 4, 4, 4]},\n",
       " {'$': 1, 'i': 4, 'm': 1, 'p': 2, 's': 4})"
      ]
     },
     "execution_count": 21,
     "metadata": {},
     "output_type": "execute_result"
    }
   ],
   "source": [
    "rankAllBwt(bwtViaSa('mississippi$'))"
   ]
  },
  {
   "cell_type": "code",
   "execution_count": 22,
   "metadata": {
    "collapsed": false
   },
   "outputs": [
    {
     "name": "stdout",
     "output_type": "stream",
     "text": [
      "[('$', 11), ('i$', 10), ('ippi$', 7), ('issippi$', 4), ('ississippi$', 1), ('mississippi$', 0), ('pi$', 9), ('ppi$', 8), ('sippi$', 6), ('sissippi$', 3), ('ssippi$', 5), ('ssissippi$', 2)]\n"
     ]
    },
    {
     "data": {
      "text/plain": [
       "'ipssm$pissii'"
      ]
     },
     "execution_count": 22,
     "metadata": {},
     "output_type": "execute_result"
    }
   ],
   "source": [
    "bwtViaSa('mississippi$')"
   ]
  },
  {
   "cell_type": "code",
   "execution_count": 23,
   "metadata": {
    "collapsed": false
   },
   "outputs": [
    {
     "name": "stdout",
     "output_type": "stream",
     "text": [
      "[('$', 11), ('i$', 10), ('ippi$', 7), ('issippi$', 4), ('ississippi$', 1), ('mississippi$', 0), ('pi$', 9), ('ppi$', 8), ('sippi$', 6), ('sissippi$', 3), ('ssippi$', 5), ('ssissippi$', 2)]\n"
     ]
    },
    {
     "data": {
      "text/plain": [
       "(3, 5)"
      ]
     },
     "execution_count": 23,
     "metadata": {},
     "output_type": "execute_result"
    }
   ],
   "source": [
    "countMatchesAlex( bwtViaSa('mississippi$'), 'iss')"
   ]
  },
  {
   "cell_type": "markdown",
   "metadata": {},
   "source": [
    "## Experiments over paper BWT - Iqbal (http://biorxiv.org/content/early/2016/07/25/059170)"
   ]
  },
  {
   "cell_type": "code",
   "execution_count": 55,
   "metadata": {
    "collapsed": false
   },
   "outputs": [
    {
     "data": {
      "text/plain": [
       "['$2113352414644144462512247183724',\n",
       " '113352414644144462512247183724$2',\n",
       " '12247183724$21133524146441444625',\n",
       " '13352414644144462512247183724$21',\n",
       " '144462512247183724$2113352414644',\n",
       " '14644144462512247183724$21133524',\n",
       " '183724$2113352414644144462512247',\n",
       " '2113352414644144462512247183724$',\n",
       " '2247183724$211335241464414446251',\n",
       " '24$21133524146441444625122471837',\n",
       " '2414644144462512247183724$211335',\n",
       " '247183724$2113352414644144462512',\n",
       " '2512247183724$211335241464414446',\n",
       " '3352414644144462512247183724$211',\n",
       " '352414644144462512247183724$2113',\n",
       " '3724$211335241464414446251224718',\n",
       " '4$211335241464414446251224718372',\n",
       " '4144462512247183724$211335241464',\n",
       " '414644144462512247183724$2113352',\n",
       " '44144462512247183724$21133524146',\n",
       " '44462512247183724$21133524146441',\n",
       " '4462512247183724$211335241464414',\n",
       " '462512247183724$2113352414644144',\n",
       " '4644144462512247183724$211335241',\n",
       " '47183724$21133524146441444625122',\n",
       " '512247183724$2113352414644144462',\n",
       " '52414644144462512247183724$21133',\n",
       " '62512247183724$21133524146441444',\n",
       " '644144462512247183724$2113352414',\n",
       " '7183724$211335241464414446251224',\n",
       " '724$2113352414644144462512247183',\n",
       " '83724$21133524146441444625122471']"
      ]
     },
     "execution_count": 55,
     "metadata": {},
     "output_type": "execute_result"
    }
   ],
   "source": [
    "prg = 'CAAGG5CTAT6TTATTT6C5ACCT7A8G7CT$'\n",
    "def toNumeric(s):\n",
    "    slist = []\n",
    "    for i in xrange(len(s)):\n",
    "        if s[i] == 'A':\n",
    "            slist.append(str(1))\n",
    "        elif s[i] == 'C':\n",
    "            slist.append(str(2))\n",
    "        elif s[i] == 'G':\n",
    "            slist.append(str(3))\n",
    "        elif s[i] == 'T':\n",
    "            slist.append(str(4))\n",
    "        else:\n",
    "            slist.append(s[i])\n",
    "    return ''.join(slist)\n",
    "\n",
    "bwm(toNumeric(prg))"
   ]
  },
  {
   "cell_type": "code",
   "execution_count": 56,
   "metadata": {
    "collapsed": false
   },
   "outputs": [
    {
     "data": {
      "text/plain": [
       "{'$': (0, 1),\n",
       " '1': (1, 7),\n",
       " '2': (7, 13),\n",
       " '3': (13, 16),\n",
       " '4': (16, 25),\n",
       " '5': (25, 27),\n",
       " '6': (27, 29),\n",
       " '7': (29, 31),\n",
       " '8': (31, 32)}"
      ]
     },
     "execution_count": 56,
     "metadata": {},
     "output_type": "execute_result"
    }
   ],
   "source": [
    "rankAll, tots = rankAllBwt(toNumeric(prg))\n",
    "first = firstCol(tots)\n",
    "first"
   ]
  },
  {
   "cell_type": "code",
   "execution_count": 57,
   "metadata": {
    "collapsed": false
   },
   "outputs": [
    {
     "data": {
      "text/plain": [
       "'caagg5ctat6ttattt6c5acct7a8g7ct$'"
      ]
     },
     "execution_count": 57,
     "metadata": {},
     "output_type": "execute_result"
    }
   ],
   "source": [
    "prg.lower()"
   ]
  },
  {
   "cell_type": "code",
   "execution_count": 154,
   "metadata": {
    "collapsed": true
   },
   "outputs": [],
   "source": [
    "def invToNumeric(s):\n",
    "    slist = []\n",
    "    for i in xrange(len(s)):\n",
    "        if s[i] == str(1):\n",
    "            slist.append('A')\n",
    "        elif s[i] == str(2):\n",
    "            slist.append('C')\n",
    "        elif s[i] == str(3):\n",
    "            slist.append('G')\n",
    "        elif s[i] == str(4):\n",
    "            slist.append('T')\n",
    "        else:\n",
    "            slist.append(s[i])\n",
    "    return ''.join(slist)"
   ]
  },
  {
   "cell_type": "code",
   "execution_count": 155,
   "metadata": {
    "collapsed": false
   },
   "outputs": [
    {
     "data": {
      "text/plain": [
       "['$',\n",
       " 'AAGG5CTAT6TTATTT6C5ACCT7A8G7CT$',\n",
       " 'ACCT7A8G7CT$',\n",
       " 'AGG5CTAT6TTATTT6C5ACCT7A8G7CT$',\n",
       " 'ATTT6C5ACCT7A8G7CT$',\n",
       " 'AT6TTATTT6C5ACCT7A8G7CT$',\n",
       " 'A8G7CT$',\n",
       " 'CAAGG5CTAT6TTATTT6C5ACCT7A8G7CT$',\n",
       " 'CCT7A8G7CT$',\n",
       " 'CT$',\n",
       " 'CTAT6TTATTT6C5ACCT7A8G7CT$',\n",
       " 'CT7A8G7CT$',\n",
       " 'C5ACCT7A8G7CT$',\n",
       " 'GG5CTAT6TTATTT6C5ACCT7A8G7CT$',\n",
       " 'G5CTAT6TTATTT6C5ACCT7A8G7CT$',\n",
       " 'G7CT$',\n",
       " 'T$',\n",
       " 'TATTT6C5ACCT7A8G7CT$',\n",
       " 'TAT6TTATTT6C5ACCT7A8G7CT$',\n",
       " 'TTATTT6C5ACCT7A8G7CT$',\n",
       " 'TTT6C5ACCT7A8G7CT$',\n",
       " 'TT6C5ACCT7A8G7CT$',\n",
       " 'T6C5ACCT7A8G7CT$',\n",
       " 'T6TTATTT6C5ACCT7A8G7CT$',\n",
       " 'T7A8G7CT$',\n",
       " '5ACCT7A8G7CT$',\n",
       " '5CTAT6TTATTT6C5ACCT7A8G7CT$',\n",
       " '6C5ACCT7A8G7CT$',\n",
       " '6TTATTT6C5ACCT7A8G7CT$',\n",
       " '7A8G7CT$',\n",
       " '7CT$',\n",
       " '8G7CT$']"
      ]
     },
     "execution_count": 155,
     "metadata": {},
     "output_type": "execute_result"
    }
   ],
   "source": [
    "map(lambda x: invToNumeric(x[0]), suffixArrayAll(toNumeric(prg)))"
   ]
  },
  {
   "cell_type": "code",
   "execution_count": 156,
   "metadata": {
    "collapsed": false
   },
   "outputs": [
    {
     "name": "stdout",
     "output_type": "stream",
     "text": [
      "$CAAGG5CTAT6TTATTT6C5ACCT7A8G7CT\t31\t$\n",
      "AAGG5CTAT6TTATTT6C5ACCT7A8G7CT$C\t1\tAAGG5CTAT6TTATTT6C5ACCT7A8G7CT$\n",
      "ACCT7A8G7CT$CAAGG5CTAT6TTATTT6C5\t20\tACCT7A8G7CT$\n",
      "AGG5CTAT6TTATTT6C5ACCT7A8G7CT$CA\t2\tAGG5CTAT6TTATTT6C5ACCT7A8G7CT$\n",
      "ATTT6C5ACCT7A8G7CT$CAAGG5CTAT6TT\t13\tATTT6C5ACCT7A8G7CT$\n",
      "AT6TTATTT6C5ACCT7A8G7CT$CAAGG5CT\t8\tAT6TTATTT6C5ACCT7A8G7CT$\n",
      "A8G7CT$CAAGG5CTAT6TTATTT6C5ACCT7\t25\tA8G7CT$\n",
      "CAAGG5CTAT6TTATTT6C5ACCT7A8G7CT$\t0\tCAAGG5CTAT6TTATTT6C5ACCT7A8G7CT$\n",
      "CCT7A8G7CT$CAAGG5CTAT6TTATTT6C5A\t21\tCCT7A8G7CT$\n",
      "CT$CAAGG5CTAT6TTATTT6C5ACCT7A8G7\t29\tCT$\n",
      "CTAT6TTATTT6C5ACCT7A8G7CT$CAAGG5\t6\tCTAT6TTATTT6C5ACCT7A8G7CT$\n",
      "CT7A8G7CT$CAAGG5CTAT6TTATTT6C5AC\t22\tCT7A8G7CT$\n",
      "C5ACCT7A8G7CT$CAAGG5CTAT6TTATTT6\t18\tC5ACCT7A8G7CT$\n",
      "GG5CTAT6TTATTT6C5ACCT7A8G7CT$CAA\t3\tGG5CTAT6TTATTT6C5ACCT7A8G7CT$\n",
      "G5CTAT6TTATTT6C5ACCT7A8G7CT$CAAG\t4\tG5CTAT6TTATTT6C5ACCT7A8G7CT$\n",
      "G7CT$CAAGG5CTAT6TTATTT6C5ACCT7A8\t27\tG7CT$\n",
      "T$CAAGG5CTAT6TTATTT6C5ACCT7A8G7C\t30\tT$\n",
      "TATTT6C5ACCT7A8G7CT$CAAGG5CTAT6T\t12\tTATTT6C5ACCT7A8G7CT$\n",
      "TAT6TTATTT6C5ACCT7A8G7CT$CAAGG5C\t7\tTAT6TTATTT6C5ACCT7A8G7CT$\n",
      "TTATTT6C5ACCT7A8G7CT$CAAGG5CTAT6\t11\tTTATTT6C5ACCT7A8G7CT$\n",
      "TTT6C5ACCT7A8G7CT$CAAGG5CTAT6TTA\t14\tTTT6C5ACCT7A8G7CT$\n",
      "TT6C5ACCT7A8G7CT$CAAGG5CTAT6TTAT\t15\tTT6C5ACCT7A8G7CT$\n",
      "T6C5ACCT7A8G7CT$CAAGG5CTAT6TTATT\t16\tT6C5ACCT7A8G7CT$\n",
      "T6TTATTT6C5ACCT7A8G7CT$CAAGG5CTA\t9\tT6TTATTT6C5ACCT7A8G7CT$\n",
      "T7A8G7CT$CAAGG5CTAT6TTATTT6C5ACC\t23\tT7A8G7CT$\n",
      "5ACCT7A8G7CT$CAAGG5CTAT6TTATTT6C\t19\t5ACCT7A8G7CT$\n",
      "5CTAT6TTATTT6C5ACCT7A8G7CT$CAAGG\t5\t5CTAT6TTATTT6C5ACCT7A8G7CT$\n",
      "6C5ACCT7A8G7CT$CAAGG5CTAT6TTATTT\t17\t6C5ACCT7A8G7CT$\n",
      "6TTATTT6C5ACCT7A8G7CT$CAAGG5CTAT\t10\t6TTATTT6C5ACCT7A8G7CT$\n",
      "7A8G7CT$CAAGG5CTAT6TTATTT6C5ACCT\t24\t7A8G7CT$\n",
      "7CT$CAAGG5CTAT6TTATTT6C5ACCT7A8G\t28\t7CT$\n",
      "8G7CT$CAAGG5CTAT6TTATTT6C5ACCT7A\t26\t8G7CT$\n"
     ]
    }
   ],
   "source": [
    "for s, t, c in zip(map(invToNumeric, bwm(toNumeric(prg))), \n",
    "                   map(lambda x: x[1], suffixArrayAll(toNumeric(prg))),\n",
    "                    map(lambda x: invToNumeric(x[0]), suffixArrayAll(toNumeric(prg)))):\n",
    "    print (\"{0}\\t{1}\\t{2}\".format(s,t,c))\n",
    "\n",
    "#print('\\n'.join(map(invToNumeric, bwm(toNumeric(prg)))))"
   ]
  },
  {
   "cell_type": "code",
   "execution_count": 157,
   "metadata": {
    "collapsed": false
   },
   "outputs": [],
   "source": [
    "import os\n",
    "from collections import OrderedDict\n",
    "from operator import itemgetter\n",
    "\n",
    "#os.chdir(\".\")\n",
    "#f=open(\"seq2.in\",\"r\")\n",
    "#lines=f.readlines()\n",
    "#s=lines[0].strip()+'$'\n",
    "#p=lines[1].strip()\n",
    "#msa=list()\n",
    "#for i in range(2,len(lines)):\n",
    "#    msa.append((int(lines[i].split()[0]),int(lines[i].split()[1]),int(lines[i].split()[2])))\n",
    "\n",
    "#print(p)\n",
    "\n",
    "def suffixarray(s):\n",
    "    suff=list()\n",
    "    for i in range(len(s)):\n",
    "        suff.append((i,s[i:]))\n",
    "    suff_arr=sorted(suff,key=itemgetter(1))\n",
    "    return list(map(lambda x: x[0], suff_arr))\n",
    "\n",
    "def bwt(s):\n",
    "    bw=list()\n",
    "    for i in suffixarray(s):\n",
    "        if i==0: bw.append(\"$\")\n",
    "        else: bw.append(s[i-1])\n",
    "    return ''.join(bw)\n",
    "\n",
    "def rankbwt(bw):\n",
    "    rank=list()\n",
    "    totals={}\n",
    "    for c in bw:\n",
    "        if c not in totals:\n",
    "            totals[c]=1\n",
    "            rank.append(0)\n",
    "        else:\n",
    "            rank.append(totals[c])\n",
    "            totals[c]+=1\n",
    "    return totals, rank\n",
    "\n",
    "\n",
    "def firstcol(tots):\n",
    "    first={}\n",
    "    i=0\n",
    "    for c in sorted(tots):\n",
    "        first[c]=i\n",
    "        i+=tots[c]\n",
    "    return first\n",
    "\n",
    "#totals, rank=rankbwt(bw)\n",
    "#first=firstcol(totals)\n",
    "#print(first)\n",
    "#bits=list()\n",
    "#print(first)\n",
    "#print(\"rank=\", rank)\n",
    "#print(\"totals:\", totals)\n",
    "#print(\"msa:\", msa)\n",
    "    \n",
    "def bsearch(bw,p):\n",
    "    totals, rank=rankbwt(bw)\n",
    "    first=firstcol(totals)\n",
    "    print(\"FIRST:\", first)\n",
    "    print(\"TOTALS:\", totals)\n",
    "    l=first[p[-1]]\n",
    "    r=l+totals[p[-1]]\n",
    "    i=len(p)-2\n",
    "    n_occ=0\n",
    "    l_extra=list()\n",
    "    while i>=0 and (l<r or l_extra):\n",
    "        extra=[]\n",
    "        l_last_extra=[]\n",
    "    #    print(l_extra)\n",
    "    #    print(list(map(lambda x:sa[x],l_extra)))\n",
    "        z=l\n",
    "        if i!=0:\n",
    "            for j in range(5, 8):\n",
    "                while bw[z:r].find(str(j))!=-1:\n",
    "                    f=bw[z:r].find(str(j))\n",
    "                    jc=str(j)\n",
    "                    print(\"c:\", jc)\n",
    "                    print(\"z:\",z,\"r:\",r, \"f:\", f)\n",
    "                    print(\"sa[z+f]=\", sa[z+f])\n",
    "                    # a operacao abaixo eh verdadeira quando a marcacao\n",
    "                    # do sitio analisada no BWT marca o final do mesmo\n",
    "                    if sa[z+f]==msa[j][0]+(msa[j][1]+1)*msa[j][2]:\n",
    "                        print(\"msa[j][0]=\", str(msa[j][0]+(msa[j][1]+1)*msa[j][2]))\n",
    "                        # quando este eh o caso adicionamos a lista\n",
    "                        # extra da posicao dos alelos\n",
    "                        l_alts=first[str(j)]\n",
    "                        r_alts=l_alts+totals[str(j)]\n",
    "                        extra.extend(range(l_alts,r_alts))\n",
    "                    elif sa.index(msa[j][0]) not in extra:\n",
    "                        print(\"extra not in\")\n",
    "                        # inicio do sitio\n",
    "                        extra.append(sa.index(msa[j][0]))\n",
    "                    print(\"extra=\", extra)\n",
    "                    z=z+f+1\n",
    "                for jj in l_extra:\n",
    "                    jc=str(j)\n",
    "                    #print(\"c:\", jc)\n",
    "                    if bw[jj]==str(j):\n",
    "                        if sa[jj]==msa[j][0]+(msa[j][1]+1)*msa[j][2]:\n",
    "                            l_alts=first[str(j)]\n",
    "                            r_alts=l_alts+totals[str(j)]\n",
    "                            extra.extend(range(l_alts,r_alts))\n",
    "                        elif sa.index(msa[j][0]) not in extra:\n",
    "                            extra.append(sa.index(msa[j][0]))\n",
    "        #print(list(map(lambda x:sa[x],extra)))\n",
    "        print(\"l=\",l,\"r=\",r,\"p[i]=\",p[i])\n",
    "        if extra:\n",
    "            for j in extra:\n",
    "                if bw[j]==p[i]:\n",
    "                    l_last_extra.append(j)\n",
    "                    print(\"l_last extra:\", l_last_extra)\n",
    "        if l_extra:\n",
    "            for jj in l_extra:\n",
    "                if bw[jj]==p[i]:\n",
    "                    l_last_extra.append(jj)\n",
    "                    print(\"l_last l_extra:\", l_last_extra)\n",
    "        if bw[l:r].find(p[i])!=-1:\n",
    "            print(\"l={},r={},find bw[l:r].find(p[i]={})={}\".format(l,r,p[i],bw[l:r].find(p[i])))\n",
    "            l_last=l+bw[l:r].find(p[i])\n",
    "            l_last=l+bw[l:r].find(p[i])\n",
    "            print(\"l=\",l,\"l_last=\", l_last)\n",
    "        else:\n",
    "            l=-1\n",
    "            r=-1\n",
    "            print(\"else l_last_extra\", l_last_extra)\n",
    "            if not l_last_extra:\n",
    "                return 0, 'n'\n",
    "        if bw[l:r].rfind(p[i])!=-1:\n",
    "            # repare que aqui usamou rfind (hightest index)\n",
    "            r_last=l+bw[l:r].rfind(p[i])\n",
    "            print(\"r=\",r,\"r_last=\", r_last)\n",
    "        if l>=0:\n",
    "            l=first[p[i]]+rank[l_last]\n",
    "            r=first[p[i]]+rank[r_last]+1\n",
    "            print(\"Update: l=\",l,\"r=\", r)\n",
    "        if l>=r:\n",
    "            l=-1\n",
    "            r=-1\n",
    "            if not l_last_extra:\n",
    "                return 0, 'n'\n",
    "        if l_last_extra:\n",
    "            l_extra=list(map(lambda x:first[p[i]]+rank[x],l_last_extra))\n",
    "            print (\"l_extra map=\", l_extra, \"p[i]=\", p[i])\n",
    "        else: l_extra=[]\n",
    "        i=i-1\n",
    "        print(\"i decremented ---------------\")\n",
    "    offsets=list()\n",
    "    if i<0:\n",
    "        if r<l:\n",
    "            n_occ=r-l\n",
    "            offsets.extend(sa[l:r])\n",
    "            offsets.append('o')\n",
    "        if l_extra:\n",
    "            n_occ+=len(l_extra)\n",
    "            offsets.extend(list(map(lambda x:sa[x],l_extra)))\n",
    "    return n_occ,offsets"
   ]
  },
  {
   "cell_type": "code",
   "execution_count": 170,
   "metadata": {
    "collapsed": false
   },
   "outputs": [
    {
     "name": "stdout",
     "output_type": "stream",
     "text": [
      "11122$545241426662424633231224411241514442112341333131131111133432212323321113323\n",
      "('sa:', [80, 79, 78, 77, 2, 0, 7, 27, 15, 30, 51, 3, 20, 64, 48, 42, 54, 71, 45, 39, 33, 36, 5, 13, 9, 76, 1, 29, 63, 70, 38, 8, 28, 62, 61, 16, 11, 31, 68, 59, 57, 17, 52, 4, 12, 75, 74, 21, 22, 23, 24, 65, 25, 49, 43, 66, 55, 72, 46, 40, 34, 26, 50, 19, 44, 32, 69, 37, 60, 67, 58, 56, 73, 18, 6, 14, 10, 47, 41, 53, 35])\n"
     ]
    }
   ],
   "source": [
    "seqin = 'acaaga0aca0cga0accttagggggtaccactag1atcag1agtag1agtac1agtctctcccaggtagtctc2ctcagt2ggcaaa$'\n",
    "seqinvar = 'acaaga5aca5cga5accttagggggtaccactag6atcag6agtag6agtac6agtctctcccaggtctcagtggcaaa$'\n",
    "seqintonum = toNumeric(seqinvar.upper())\n",
    "sa=suffixarray(seqintonum)\n",
    "bw=bwt(seqintonum)\n",
    "print(bw)\n",
    "print(\"sa:\", sa)"
   ]
  },
  {
   "cell_type": "code",
   "execution_count": 171,
   "metadata": {
    "collapsed": false
   },
   "outputs": [],
   "source": [
    "totals, rank=rankbwt(bw)\n",
    "#print (\"\\n\".join(str(x) for x in rank))"
   ]
  },
  {
   "cell_type": "code",
   "execution_count": 186,
   "metadata": {
    "collapsed": false,
    "scrolled": false
   },
   "outputs": [
    {
     "name": "stdout",
     "output_type": "stream",
     "text": [
      "$\n",
      "A$\n",
      "AA$\n",
      "AAA$\n",
      "ACA5AGA6ACA6CGA5ACCTTAGGGGGTACC7ACTAG8ATCAG8AGTAG8AGTAC7AGTCTCTCCCAGGTCTCAGTGGCAAA$\n",
      "ACA6CGA5ACCTTAGGGGGTACC7ACTAG8ATCAG8AGTAG8AGTAC7AGTCTCTCCCAGGTCTCAGTGGCAAA$\n",
      "ACCTTAGGGGGTACC7ACTAG8ATCAG8AGTAG8AGTAC7AGTCTCTCCCAGGTCTCAGTGGCAAA$\n",
      "ACC7ACTAG8ATCAG8AGTAG8AGTAC7AGTCTCTCCCAGGTCTCAGTGGCAAA$\n",
      "ACTAG8ATCAG8AGTAG8AGTAC7AGTCTCTCCCAGGTCTCAGTGGCAAA$\n",
      "AC7AGTCTCTCCCAGGTCTCAGTGGCAAA$\n",
      "AGA6ACA6CGA5ACCTTAGGGGGTACC7ACTAG8ATCAG8AGTAG8AGTAC7AGTCTCTCCCAGGTCTCAGTGGCAAA$\n",
      "AGGGGGTACC7ACTAG8ATCAG8AGTAG8AGTAC7AGTCTCTCCCAGGTCTCAGTGGCAAA$\n",
      "AGGTCTCAGTGGCAAA$\n",
      "AGTAC7AGTCTCTCCCAGGTCTCAGTGGCAAA$\n",
      "AGTAG8AGTAC7AGTCTCTCCCAGGTCTCAGTGGCAAA$\n",
      "AGTCTCTCCCAGGTCTCAGTGGCAAA$\n",
      "AGTGGCAAA$\n",
      "AG8AGTAC7AGTCTCTCCCAGGTCTCAGTGGCAAA$\n",
      "AG8AGTAG8AGTAC7AGTCTCTCCCAGGTCTCAGTGGCAAA$\n",
      "AG8ATCAG8AGTAG8AGTAC7AGTCTCTCCCAGGTCTCAGTGGCAAA$\n",
      "ATCAG8AGTAG8AGTAC7AGTCTCTCCCAGGTCTCAGTGGCAAA$\n",
      "A5ACCTTAGGGGGTACC7ACTAG8ATCAG8AGTAG8AGTAC7AGTCTCTCCCAGGTCTCAGTGGCAAA$\n",
      "A5AGA6ACA6CGA5ACCTTAGGGGGTACC7ACTAG8ATCAG8AGTAG8AGTAC7AGTCTCTCCCAGGTCTCAGTGGCAAA$\n",
      "A6ACA6CGA5ACCTTAGGGGGTACC7ACTAG8ATCAG8AGTAG8AGTAC7AGTCTCTCCCAGGTCTCAGTGGCAAA$\n",
      "A6CGA5ACCTTAGGGGGTACC7ACTAG8ATCAG8AGTAG8AGTAC7AGTCTCTCCCAGGTCTCAGTGGCAAA$\n",
      "CAAA$\n",
      "CAGGTCTCAGTGGCAAA$\n",
      "CAGTGGCAAA$\n",
      "CAG8AGTAG8AGTAC7AGTCTCTCCCAGGTCTCAGTGGCAAA$\n",
      "CA5AGA6ACA6CGA5ACCTTAGGGGGTACC7ACTAG8ATCAG8AGTAG8AGTAC7AGTCTCTCCCAGGTCTCAGTGGCAAA$\n",
      "CA6CGA5ACCTTAGGGGGTACC7ACTAG8ATCAG8AGTAG8AGTAC7AGTCTCTCCCAGGTCTCAGTGGCAAA$\n",
      "CCAGGTCTCAGTGGCAAA$\n",
      "CCCAGGTCTCAGTGGCAAA$\n",
      "CCTTAGGGGGTACC7ACTAG8ATCAG8AGTAG8AGTAC7AGTCTCTCCCAGGTCTCAGTGGCAAA$\n",
      "CC7ACTAG8ATCAG8AGTAG8AGTAC7AGTCTCTCCCAGGTCTCAGTGGCAAA$\n",
      "CGA5ACCTTAGGGGGTACC7ACTAG8ATCAG8AGTAG8AGTAC7AGTCTCTCCCAGGTCTCAGTGGCAAA$\n",
      "CTAG8ATCAG8AGTAG8AGTAC7AGTCTCTCCCAGGTCTCAGTGGCAAA$\n",
      "CTCAGTGGCAAA$\n",
      "CTCCCAGGTCTCAGTGGCAAA$\n",
      "CTCTCCCAGGTCTCAGTGGCAAA$\n",
      "CTTAGGGGGTACC7ACTAG8ATCAG8AGTAG8AGTAC7AGTCTCTCCCAGGTCTCAGTGGCAAA$\n",
      "C7ACTAG8ATCAG8AGTAG8AGTAC7AGTCTCTCCCAGGTCTCAGTGGCAAA$\n",
      "C7AGTCTCTCCCAGGTCTCAGTGGCAAA$\n",
      "GA5ACCTTAGGGGGTACC7ACTAG8ATCAG8AGTAG8AGTAC7AGTCTCTCCCAGGTCTCAGTGGCAAA$\n",
      "GA6ACA6CGA5ACCTTAGGGGGTACC7ACTAG8ATCAG8AGTAG8AGTAC7AGTCTCTCCCAGGTCTCAGTGGCAAA$\n",
      "GCAAA$\n",
      "GGCAAA$\n",
      "GGGGGTACC7ACTAG8ATCAG8AGTAG8AGTAC7AGTCTCTCCCAGGTCTCAGTGGCAAA$\n",
      "GGGGTACC7ACTAG8ATCAG8AGTAG8AGTAC7AGTCTCTCCCAGGTCTCAGTGGCAAA$\n",
      "GGGTACC7ACTAG8ATCAG8AGTAG8AGTAC7AGTCTCTCCCAGGTCTCAGTGGCAAA$\n",
      "GGTACC7ACTAG8ATCAG8AGTAG8AGTAC7AGTCTCTCCCAGGTCTCAGTGGCAAA$\n",
      "GGTCTCAGTGGCAAA$\n",
      "GTACC7ACTAG8ATCAG8AGTAG8AGTAC7AGTCTCTCCCAGGTCTCAGTGGCAAA$\n",
      "GTAC7AGTCTCTCCCAGGTCTCAGTGGCAAA$\n",
      "GTAG8AGTAC7AGTCTCTCCCAGGTCTCAGTGGCAAA$\n",
      "GTCTCAGTGGCAAA$\n",
      "GTCTCTCCCAGGTCTCAGTGGCAAA$\n",
      "GTGGCAAA$\n",
      "G8AGTAC7AGTCTCTCCCAGGTCTCAGTGGCAAA$\n",
      "G8AGTAG8AGTAC7AGTCTCTCCCAGGTCTCAGTGGCAAA$\n",
      "G8ATCAG8AGTAG8AGTAC7AGTCTCTCCCAGGTCTCAGTGGCAAA$\n",
      "TACC7ACTAG8ATCAG8AGTAG8AGTAC7AGTCTCTCCCAGGTCTCAGTGGCAAA$\n",
      "TAC7AGTCTCTCCCAGGTCTCAGTGGCAAA$\n",
      "TAGGGGGTACC7ACTAG8ATCAG8AGTAG8AGTAC7AGTCTCTCCCAGGTCTCAGTGGCAAA$\n",
      "TAG8AGTAC7AGTCTCTCCCAGGTCTCAGTGGCAAA$\n",
      "TAG8ATCAG8AGTAG8AGTAC7AGTCTCTCCCAGGTCTCAGTGGCAAA$\n",
      "TCAGTGGCAAA$\n",
      "TCAG8AGTAG8AGTAC7AGTCTCTCCCAGGTCTCAGTGGCAAA$\n",
      "TCCCAGGTCTCAGTGGCAAA$\n",
      "TCTCAGTGGCAAA$\n",
      "TCTCCCAGGTCTCAGTGGCAAA$\n",
      "TCTCTCCCAGGTCTCAGTGGCAAA$\n",
      "TGGCAAA$\n",
      "TTAGGGGGTACC7ACTAG8ATCAG8AGTAG8AGTAC7AGTCTCTCCCAGGTCTCAGTGGCAAA$\n",
      "5ACCTTAGGGGGTACC7ACTAG8ATCAG8AGTAG8AGTAC7AGTCTCTCCCAGGTCTCAGTGGCAAA$\n",
      "5AGA6ACA6CGA5ACCTTAGGGGGTACC7ACTAG8ATCAG8AGTAG8AGTAC7AGTCTCTCCCAGGTCTCAGTGGCAAA$\n",
      "6ACA6CGA5ACCTTAGGGGGTACC7ACTAG8ATCAG8AGTAG8AGTAC7AGTCTCTCCCAGGTCTCAGTGGCAAA$\n",
      "6CGA5ACCTTAGGGGGTACC7ACTAG8ATCAG8AGTAG8AGTAC7AGTCTCTCCCAGGTCTCAGTGGCAAA$\n",
      "7ACTAG8ATCAG8AGTAG8AGTAC7AGTCTCTCCCAGGTCTCAGTGGCAAA$\n",
      "7AGTCTCTCCCAGGTCTCAGTGGCAAA$\n",
      "8AGTAC7AGTCTCTCCCAGGTCTCAGTGGCAAA$\n",
      "8AGTAG8AGTAC7AGTCTCTCCCAGGTCTCAGTGGCAAA$\n",
      "8ATCAG8AGTAG8AGTAC7AGTCTCTCCCAGGTCTCAGTGGCAAA$\n"
     ]
    }
   ],
   "source": [
    "\n",
    "#sa_seqin = map( lambda x: x[1],suffixArrayAll(seqintonum) )\n",
    "#sa_seqin.index(3)\n",
    "#for s, t, c in zip(map(invToNumeric, bwm(toNumeric(seqin))), \n",
    "#                   map(lambda x: x[1], suffixArrayAll(toNumeric(prg))),\n",
    "#                    map(lambda x: invToNumeric(x[0]), suffixArrayAll(toNumeric(prg)))):\n",
    "#    print (\"{0}\\t{1}\\t{2}\".format(s,t,c))\n",
    "#print (\"\\n\".join())\n",
    "\n",
    "print(\"\\n\".join(invToNumeric(x) for x in map(lambda x: x[0], suffixArrayAll (seqintonum) ) ))\n",
    "#print(\"\\n\".join(invToNumeric(x) for x in bwm(seqintonum) ) )\n",
    "#print( \"\\n\".join(str(x) for x in sa))"
   ]
  },
  {
   "cell_type": "code",
   "execution_count": 173,
   "metadata": {
    "collapsed": false,
    "scrolled": false
   },
   "outputs": [
    {
     "name": "stdout",
     "output_type": "stream",
     "text": [
      "('FIRST:', {'$': 0, '1': 1, '3': 43, '2': 25, '5': 74, '4': 61, '6': 77})\n",
      "('TOTALS:', {'$': 1, '1': 24, '3': 18, '2': 18, '5': 3, '4': 13, '6': 4})\n",
      "('c:', '5')\n",
      "('z:', 1, 'r:', 25, 'f:', 5)\n",
      "('sa[z+f]=', 7)\n",
      "extra not in\n",
      "('extra=', [11])\n",
      "('c:', '5')\n",
      "('z:', 7, 'r:', 25, 'f:', 1)\n",
      "('sa[z+f]=', 15)\n",
      "('msa[j][0]=', '15')\n",
      "('extra=', [11, 74, 75, 76])\n",
      "('c:', '6')\n",
      "('z:', 9, 'r:', 25, 'f:', 5)\n",
      "('sa[z+f]=', 48)\n",
      "extra not in\n",
      "('extra=', [11, 74, 75, 76, 9])\n",
      "('c:', '6')\n",
      "('z:', 15, 'r:', 25, 'f:', 0)\n",
      "('sa[z+f]=', 42)\n",
      "('extra=', [11, 74, 75, 76, 9])\n",
      "('c:', '6')\n",
      "('z:', 16, 'r:', 25, 'f:', 0)\n",
      "('sa[z+f]=', 54)\n",
      "('msa[j][0]=', '54')\n",
      "('extra=', [11, 74, 75, 76, 9, 77, 78, 79, 80])\n",
      "('c:', '6')\n",
      "('z:', 17, 'r:', 25, 'f:', 4)\n",
      "('sa[z+f]=', 36)\n",
      "('extra=', [11, 74, 75, 76, 9, 77, 78, 79, 80])\n",
      "('l=', 1, 'r=', 25, 'p[i]=', '1')\n",
      "('l_last extra:', [11])\n",
      "('l_last extra:', [11, 74])\n",
      "('l_last extra:', [11, 74, 75])\n",
      "('l_last extra:', [11, 74, 75, 76])\n",
      "l=1,r=25,find bw[l:r].find(p[i]=1)=0\n",
      "('l=', 1, 'l_last=', 1)\n",
      "('r=', 25, 'r_last=', 11)\n",
      "('Update: l=', 2, 'r=', 5)\n",
      "('l_extra map=', [4, 22, 23, 24], 'p[i]=', '1')\n",
      "i decremented ---------------\n",
      "('l=', 2, 'r=', 5, 'p[i]=', '1')\n",
      "l=2,r=5,find bw[l:r].find(p[i]=1)=0\n",
      "('l=', 2, 'l_last=', 2)\n",
      "('r=', 5, 'r_last=', 2)\n",
      "('Update: l=', 3, 'r=', 4)\n",
      "i decremented ---------------\n",
      "('l=', 3, 'r=', 4, 'p[i]=', '2')\n",
      "l=3,r=4,find bw[l:r].find(p[i]=2)=0\n",
      "('l=', 3, 'l_last=', 3)\n",
      "('r=', 4, 'r_last=', 3)\n",
      "('Update: l=', 25, 'r=', 26)\n",
      "i decremented ---------------\n",
      "('l=', 25, 'r=', 26, 'p[i]=', '3')\n",
      "l=25,r=26,find bw[l:r].find(p[i]=3)=0\n",
      "('l=', 25, 'l_last=', 25)\n",
      "('r=', 26, 'r_last=', 25)\n",
      "('Update: l=', 45, 'r=', 46)\n",
      "i decremented ---------------\n",
      "('l=', 45, 'r=', 46, 'p[i]=', '3')\n",
      "l=45,r=46,find bw[l:r].find(p[i]=3)=0\n",
      "('l=', 45, 'l_last=', 45)\n",
      "('r=', 46, 'r_last=', 45)\n",
      "('Update: l=', 46, 'r=', 47)\n",
      "i decremented ---------------\n",
      "('l=', 46, 'r=', 47, 'p[i]=', '4')\n",
      "l=46,r=47,find bw[l:r].find(p[i]=4)=0\n",
      "('l=', 46, 'l_last=', 46)\n",
      "('r=', 47, 'r_last=', 46)\n",
      "('Update: l=', 72, 'r=', 73)\n",
      "i decremented ---------------\n",
      "('l=', 72, 'r=', 73, 'p[i]=', '3')\n",
      "l=72,r=73,find bw[l:r].find(p[i]=3)=0\n",
      "('l=', 72, 'l_last=', 72)\n",
      "('r=', 73, 'r_last=', 72)\n",
      "('Update: l=', 57, 'r=', 58)\n",
      "i decremented ---------------\n",
      "('l=', 57, 'r=', 58, 'p[i]=', '1')\n",
      "l=57,r=58,find bw[l:r].find(p[i]=1)=0\n",
      "('l=', 57, 'l_last=', 57)\n",
      "('r=', 58, 'r_last=', 57)\n",
      "('Update: l=', 17, 'r=', 18)\n",
      "i decremented ---------------\n",
      "('l=', 17, 'r=', 18, 'p[i]=', '2')\n",
      "l=17,r=18,find bw[l:r].find(p[i]=2)=0\n",
      "('l=', 17, 'l_last=', 17)\n",
      "('r=', 18, 'r_last=', 17)\n",
      "('Update: l=', 29, 'r=', 30)\n",
      "i decremented ---------------\n",
      "('l=', 29, 'r=', 30, 'p[i]=', '4')\n",
      "l=29,r=30,find bw[l:r].find(p[i]=4)=0\n",
      "('l=', 29, 'l_last=', 29)\n",
      "('r=', 30, 'r_last=', 29)\n",
      "('Update: l=', 66, 'r=', 67)\n",
      "i decremented ---------------\n",
      "('l=', 66, 'r=', 67, 'p[i]=', '2')\n",
      "l=66,r=67,find bw[l:r].find(p[i]=2)=0\n",
      "('l=', 66, 'l_last=', 66)\n",
      "('r=', 67, 'r_last=', 66)\n",
      "('Update: l=', 38, 'r=', 39)\n",
      "i decremented ---------------\n",
      "('l=', 38, 'r=', 39, 'p[i]=', '4')\n",
      "l=38,r=39,find bw[l:r].find(p[i]=4)=0\n",
      "('l=', 38, 'l_last=', 38)\n",
      "('r=', 39, 'r_last=', 38)\n",
      "('Update: l=', 69, 'r=', 70)\n",
      "i decremented ---------------\n",
      "('l=', 69, 'r=', 70, 'p[i]=', '3')\n",
      "l=69,r=70,find bw[l:r].find(p[i]=3)=0\n",
      "('l=', 69, 'l_last=', 69)\n",
      "('r=', 70, 'r_last=', 69)\n",
      "('Update: l=', 55, 'r=', 56)\n",
      "i decremented ---------------\n",
      "('l=', 55, 'r=', 56, 'p[i]=', '3')\n",
      "l=55,r=56,find bw[l:r].find(p[i]=3)=0\n",
      "('l=', 55, 'l_last=', 55)\n",
      "('r=', 56, 'r_last=', 55)\n",
      "('Update: l=', 51, 'r=', 52)\n",
      "i decremented ---------------\n",
      "('l=', 51, 'r=', 52, 'p[i]=', '1')\n",
      "l=51,r=52,find bw[l:r].find(p[i]=1)=0\n",
      "('l=', 51, 'l_last=', 51)\n",
      "('r=', 52, 'r_last=', 51)\n",
      "('Update: l=', 13, 'r=', 14)\n",
      "i decremented ---------------\n",
      "('l=', 13, 'r=', 14, 'p[i]=', '2')\n",
      "l=13,r=14,find bw[l:r].find(p[i]=2)=0\n",
      "('l=', 13, 'l_last=', 13)\n",
      "('r=', 14, 'r_last=', 13)\n",
      "('Update: l=', 28, 'r=', 29)\n",
      "i decremented ---------------\n",
      "('l=', 28, 'r=', 29, 'p[i]=', '2')\n",
      "l=28,r=29,find bw[l:r].find(p[i]=2)=0\n",
      "('l=', 28, 'l_last=', 28)\n",
      "('r=', 29, 'r_last=', 28)\n",
      "('Update: l=', 33, 'r=', 34)\n",
      "i decremented ---------------\n",
      "('l=', 33, 'r=', 34, 'p[i]=', '2')\n",
      "l=33,r=34,find bw[l:r].find(p[i]=2)=0\n",
      "('l=', 33, 'l_last=', 33)\n",
      "('r=', 34, 'r_last=', 33)\n",
      "('Update: l=', 34, 'r=', 35)\n",
      "i decremented ---------------\n",
      "('l=', 34, 'r=', 35, 'p[i]=', '4')\n",
      "l=34,r=35,find bw[l:r].find(p[i]=4)=0\n",
      "('l=', 34, 'l_last=', 34)\n",
      "('r=', 35, 'r_last=', 34)\n",
      "('Update: l=', 68, 'r=', 69)\n",
      "i decremented ---------------\n",
      "('l=', 68, 'r=', 69, 'p[i]=', '2')\n",
      "l=68,r=69,find bw[l:r].find(p[i]=2)=0\n",
      "('l=', 68, 'l_last=', 68)\n",
      "('r=', 69, 'r_last=', 68)\n",
      "('Update: l=', 39, 'r=', 40)\n",
      "i decremented ---------------\n",
      "('l=', 39, 'r=', 40, 'p[i]=', '4')\n",
      "l=39,r=40,find bw[l:r].find(p[i]=4)=0\n",
      "('l=', 39, 'l_last=', 39)\n",
      "('r=', 40, 'r_last=', 39)\n",
      "('Update: l=', 70, 'r=', 71)\n",
      "i decremented ---------------\n",
      "('l=', 70, 'r=', 71, 'p[i]=', '2')\n",
      "l=70,r=71,find bw[l:r].find(p[i]=2)=0\n",
      "('l=', 70, 'l_last=', 70)\n",
      "('r=', 71, 'r_last=', 70)\n",
      "('Update: l=', 40, 'r=', 41)\n",
      "i decremented ---------------\n",
      "('l=', 40, 'r=', 41, 'p[i]=', '4')\n",
      "l=40,r=41,find bw[l:r].find(p[i]=4)=0\n",
      "('l=', 40, 'l_last=', 40)\n",
      "('r=', 41, 'r_last=', 40)\n",
      "('Update: l=', 71, 'r=', 72)\n",
      "i decremented ---------------\n",
      "('l=', 71, 'r=', 72, 'p[i]=', '3')\n",
      "l=71,r=72,find bw[l:r].find(p[i]=3)=0\n",
      "('l=', 71, 'l_last=', 71)\n",
      "('r=', 72, 'r_last=', 71)\n",
      "('Update: l=', 56, 'r=', 57)\n",
      "i decremented ---------------\n",
      "('l=', 56, 'r=', 57, 'p[i]=', '1')\n",
      "l=56,r=57,find bw[l:r].find(p[i]=1)=0\n",
      "('l=', 56, 'l_last=', 56)\n",
      "('r=', 57, 'r_last=', 56)\n",
      "('Update: l=', 16, 'r=', 17)\n",
      "i decremented ---------------\n",
      "('c:', '6')\n",
      "('z:', 16, 'r:', 17, 'f:', 0)\n",
      "('sa[z+f]=', 54)\n",
      "('msa[j][0]=', '54')\n",
      "('extra=', [77, 78, 79, 80])\n",
      "('l=', 16, 'r=', 17, 'p[i]=', '3')\n",
      "('l_last extra:', [77])\n",
      "('l_last extra:', [77, 78])\n",
      "('l_last extra:', [77, 78, 80])\n",
      "('else l_last_extra', [77, 78, 80])\n",
      "('l_extra map=', [58, 59, 60], 'p[i]=', '3')\n",
      "i decremented ---------------\n",
      "('l=', -1, 'r=', -1, 'p[i]=', '1')\n",
      "('l_last l_extra:', [58])\n",
      "('l_last l_extra:', [58, 59])\n",
      "('l_last l_extra:', [58, 59, 60])\n",
      "('else l_last_extra', [58, 59, 60])\n",
      "('l_extra map=', [18, 19, 20], 'p[i]=', '1')\n",
      "i decremented ---------------\n",
      "('l=', -1, 'r=', -1, 'p[i]=', '2')\n",
      "('l_last l_extra:', [19])\n",
      "('else l_last_extra', [19])\n",
      "('l_extra map=', [30], 'p[i]=', '2')\n",
      "i decremented ---------------\n",
      "('l=', -1, 'r=', -1, 'p[i]=', '4')\n",
      "('l_last l_extra:', [30])\n",
      "('else l_last_extra', [30])\n",
      "('l_extra map=', [67], 'p[i]=', '4')\n",
      "i decremented ---------------\n",
      "('l=', -1, 'r=', -1, 'p[i]=', '1')\n",
      "('l_last l_extra:', [67])\n",
      "('else l_last_extra', [67])\n",
      "('l_extra map=', [21], 'p[i]=', '1')\n",
      "i decremented ---------------\n",
      "('l=', -1, 'r=', -1, 'p[i]=', '2')\n",
      "('l_last extra:', [9])\n",
      "('else l_last_extra', [9])\n",
      "('l_extra map=', [27], 'p[i]=', '2')\n",
      "i decremented ---------------\n",
      "('l=', -1, 'r=', -1, 'p[i]=', '2')\n",
      "('l_last l_extra:', [27])\n",
      "('else l_last_extra', [27])\n",
      "('l_extra map=', [32], 'p[i]=', '2')\n",
      "i decremented ---------------\n",
      "('l=', -1, 'r=', -1, 'p[i]=', '1')\n",
      "('l_last l_extra:', [32])\n",
      "('else l_last_extra', [32])\n",
      "('l_extra map=', [7], 'p[i]=', '1')\n",
      "i decremented ---------------\n",
      "('l=', -1, 'r=', -1, 'p[i]=', '4')\n",
      "('l_last l_extra:', [7])\n",
      "('else l_last_extra', [7])\n",
      "('l_extra map=', [61], 'p[i]=', '4')\n",
      "i decremented ---------------\n",
      "('l=', -1, 'r=', -1, 'p[i]=', '3')\n",
      "('l_last l_extra:', [61])\n",
      "('else l_last_extra', [61])\n",
      "('l_extra map=', [52], 'p[i]=', '3')\n",
      "i decremented ---------------\n",
      "('l=', -1, 'r=', -1, 'p[i]=', '3')\n",
      "('l_last l_extra:', [52])\n",
      "('else l_last_extra', [52])\n",
      "('l_extra map=', [50], 'p[i]=', '3')\n",
      "i decremented ---------------\n",
      "('l=', -1, 'r=', -1, 'p[i]=', '3')\n",
      "('l_last l_extra:', [50])\n",
      "('else l_last_extra', [50])\n",
      "('l_extra map=', [49], 'p[i]=', '3')\n",
      "i decremented ---------------\n",
      "('l=', -1, 'r=', -1, 'p[i]=', '3')\n",
      "('l_last l_extra:', [49])\n",
      "('else l_last_extra', [49])\n",
      "('l_extra map=', [48], 'p[i]=', '3')\n",
      "i decremented ---------------\n",
      "('l=', -1, 'r=', -1, 'p[i]=', '3')\n",
      "('l_last l_extra:', [48])\n",
      "('else l_last_extra', [48])\n",
      "('l_extra map=', [47], 'p[i]=', '3')\n",
      "i decremented ---------------\n",
      "('l=', -1, 'r=', -1, 'p[i]=', '1')\n",
      "('l_last l_extra:', [47])\n",
      "('else l_last_extra', [47])\n",
      "('l_extra map=', [12], 'p[i]=', '1')\n",
      "i decremented ---------------\n",
      "('l=', -1, 'r=', -1, 'p[i]=', '4')\n",
      "('l_last l_extra:', [12])\n",
      "('else l_last_extra', [12])\n",
      "('l_extra map=', [63], 'p[i]=', '4')\n",
      "i decremented ---------------\n",
      "('l=', -1, 'r=', -1, 'p[i]=', '4')\n",
      "('l_last l_extra:', [63])\n",
      "('else l_last_extra', [63])\n",
      "('l_extra map=', [73], 'p[i]=', '4')\n",
      "i decremented ---------------\n",
      "('l=', -1, 'r=', -1, 'p[i]=', '2')\n",
      "('l_last l_extra:', [73])\n",
      "('else l_last_extra', [73])\n",
      "('l_extra map=', [41], 'p[i]=', '2')\n",
      "i decremented ---------------\n",
      "('l=', -1, 'r=', -1, 'p[i]=', '2')\n",
      "('l_last l_extra:', [41])\n",
      "('else l_last_extra', [41])\n",
      "('l_extra map=', [35], 'p[i]=', '2')\n",
      "i decremented ---------------\n",
      "('l=', -1, 'r=', -1, 'p[i]=', '1')\n",
      "('l_last l_extra:', [35])\n",
      "('else l_last_extra', [35])\n",
      "('l_extra map=', [8], 'p[i]=', '1')\n",
      "i decremented ---------------\n",
      "('l=', -1, 'r=', -1, 'p[i]=', '1')\n",
      "('l_last extra:', [74])\n",
      "('l_last extra:', [74, 75])\n",
      "('l_last extra:', [74, 75, 76])\n",
      "('else l_last_extra', [74, 75, 76])\n",
      "('l_extra map=', [22, 23, 24], 'p[i]=', '1')\n",
      "i decremented ---------------\n",
      "('l=', -1, 'r=', -1, 'p[i]=', '3')\n",
      "('l_last l_extra:', [22])\n",
      "('l_last l_extra:', [22, 23])\n",
      "('else l_last_extra', [22, 23])\n",
      "('l_extra map=', [43, 44], 'p[i]=', '3')\n",
      "i decremented ---------------\n",
      "('l=', -1, 'r=', -1, 'p[i]=', '2')\n",
      "('l_last l_extra:', [44])\n",
      "('else l_last_extra', [44])\n",
      "('l_extra map=', [36], 'p[i]=', '2')\n",
      "i decremented ---------------\n"
     ]
    },
    {
     "data": {
      "text/plain": [
       "(1, [11])"
      ]
     },
     "execution_count": 173,
     "metadata": {},
     "output_type": "execute_result"
    }
   ],
   "source": [
    "p =  'cgaaccttagggggtaccatcagagtctctcccaggtctcagtggcaaa'\n",
    "pnum = toNumeric(p.upper())\n",
    "msa = [ [], [], [], [], [], [3,3,3], [30, 5, 4], [68, 6, 2] ]\n",
    "bsearch (bw, pnum)"
   ]
  },
  {
   "cell_type": "code",
   "execution_count": null,
   "metadata": {
    "collapsed": true
   },
   "outputs": [],
   "source": []
  },
  {
   "cell_type": "code",
   "execution_count": 187,
   "metadata": {
    "collapsed": true
   },
   "outputs": [],
   "source": [
    "import os\n",
    "from collections import OrderedDict\n",
    "from operator import itemgetter\n",
    "\n",
    "#os.chdir(\".\")\n",
    "#f=open(\"seq2.in\",\"r\")\n",
    "#lines=f.readlines()\n",
    "#s=lines[0].strip()+'$'\n",
    "#p=lines[1].strip()\n",
    "#msa=list()\n",
    "#for i in range(2,len(lines)):\n",
    "#    msa.append((int(lines[i].split()[0]),int(lines[i].split()[1]),int(lines[i].split()[2])))\n",
    "\n",
    "#print(p)\n",
    "\n",
    "def suffixarray(s):\n",
    "    suff=list()\n",
    "    for i in range(len(s)):\n",
    "        suff.append((i,s[i:]))\n",
    "    suff_arr=sorted(suff,key=itemgetter(1))\n",
    "    return list(map(lambda x: x[0], suff_arr))\n",
    "\n",
    "def bwt(s):\n",
    "    bw=list()\n",
    "    for i in suffixarray(s):\n",
    "        if i==0: bw.append(\"$\")\n",
    "        else: bw.append(s[i-1])\n",
    "    return ''.join(bw)\n",
    "\n",
    "def rankbwt(bw):\n",
    "    rank=list()\n",
    "    totals={}\n",
    "    for c in bw:\n",
    "        if c not in totals:\n",
    "            totals[c]=1\n",
    "            rank.append(0)\n",
    "        else:\n",
    "            rank.append(totals[c])\n",
    "            totals[c]+=1\n",
    "    return totals, rank\n",
    "\n",
    "\n",
    "def firstcol(tots):\n",
    "    first={}\n",
    "    i=0\n",
    "    for c in sorted(tots):\n",
    "        first[c]=i\n",
    "        i+=tots[c]\n",
    "    return first\n",
    "\n",
    "#totals, rank=rankbwt(bw)\n",
    "#first=firstcol(totals)\n",
    "#print(first)\n",
    "#bits=list()\n",
    "#print(first)\n",
    "#print(\"rank=\", rank)\n",
    "#print(\"totals:\", totals)\n",
    "#print(\"msa:\", msa)\n",
    "    \n",
    "def bsearch(bw,p):\n",
    "    totals, rank=rankbwt(bw)\n",
    "    first=firstcol(totals)\n",
    "    l=first[p[-1]]\n",
    "    r=l+totals[p[-1]]\n",
    "    i=len(p)-2\n",
    "    n_occ=0\n",
    "    l_extra=list()\n",
    "    print(\"FIRST:\", first)\n",
    "    print(\"TOTALS:\", totals)\n",
    "    while i>=0 and (l<r or l_extra):\n",
    "        extra=[]\n",
    "        l_last_extra=[]\n",
    "    #    print(l_extra)\n",
    "    #    print(list(map(lambda x:sa[x],l_extra)))\n",
    "        z=l\n",
    "        if i!=0:\n",
    "            for j in range(5, 10):\n",
    "                while bw[z:r].find(str(j))!=-1:\n",
    "                    f=bw[z:r].find(str(j))\n",
    "                    jc=str(j)\n",
    "                    print(\"c:\", jc)\n",
    "                    print(\"z:\",z,\"r:\",r, \"f:\", f)\n",
    "                    print(\"sa[z+f]=\", sa[z+f])\n",
    "                    # a operacao abaixo eh verdadeira quando a marcacao\n",
    "                    # do sitio analisada no BWT marca o final do mesmo\n",
    "                    if int(jc)%2 == 0:\n",
    "                        odd_num = int(jc) - 1\n",
    "                    else:\n",
    "                        odd_num = int(jc)\n",
    "                    if sa[first[str(odd_num)]] < sa[first[str(odd_num)]+1]:\n",
    "                        start_site = first[str(odd_num)]\n",
    "                        end_site = first[str(odd_num)]+1\n",
    "                    else:\n",
    "                        start_site = first[str(odd_num)]+1\n",
    "                        end_site = first[str(odd_num)]\n",
    "                    print(\"start_site={}, end_site={}\".format(start_site, end_site))\n",
    "                    if int(jc)%2 == 1 and sa[z+f] == sa[end_site] + 1:\n",
    "                        print(\"sa[end_site]={}, sa[z+f]={}\".format(sa[end_site] + 1 ,sa[z+f]))\n",
    "                        l_alts=first[str(j)]\n",
    "                        r_alts=l_alts+totals[str(j)]+totals[str(j+1)]\n",
    "                        extra.extend(range(l_alts,r_alts))\n",
    "#                     if sa[z+f]==msa[j][0]+(msa[j][1]+1)*msa[j][2]:\n",
    "#                         print(\"msa[j][0]=\", str(msa[j][0]+(msa[j][1]+1)*msa[j][2]))\n",
    "#                         # quando este eh o caso adicionamos a lista\n",
    "#                         # extra da posicao dos alelos\n",
    "#                         l_alts=first[str(j)]\n",
    "#                         r_alts=l_alts+totals[str(j)]\n",
    "#                         extra.extend(range(l_alts,r_alts))\n",
    "                    elif sa[start_site] not in extra:\n",
    "                        print(\"extra not in sa.index(sa[{}])={}\".format(start_site, sa[start_site]))\n",
    "                        # inicio do sitio\n",
    "                        # extra.append(sa.index(msa[j][0]))\n",
    "                        extra.append(sa[start_site])\n",
    "                    print(\"extra=\", extra)\n",
    "                    z=z+f+1\n",
    "                for jj in l_extra:\n",
    "                    jc=str(j)\n",
    "                    #print(\"c:\", jc)\n",
    "                    if bw[jj]==str(j):\n",
    "                        #if sa[jj]==msa[j][0]+(msa[j][1]+1)*msa[j][2]:\n",
    "                        if sa[jj]==msa[j][0]+(msa[j][1]+1)*msa[j][2]:\n",
    "                            l_alts=first[str(j)]\n",
    "                            r_alts=l_alts+totals[str(j)]\n",
    "                            extra.extend(range(l_alts,r_alts))\n",
    "                        elif sa.index(msa[j][0]) not in extra:\n",
    "                            extra.append(sa.index(msa[j][0]))\n",
    "        #print(list(map(lambda x:sa[x],extra)))\n",
    "        print(\"l=\",l,\"r=\",r,\"p[i]=\",p[i])\n",
    "        if extra:\n",
    "            for j in extra:\n",
    "                if bw[j]==p[i]:\n",
    "                    l_last_extra.append(j)\n",
    "                    print(\"l_last extra:\", l_last_extra)\n",
    "        if l_extra:\n",
    "            for jj in l_extra:\n",
    "                if bw[jj]==p[i]:\n",
    "                    l_last_extra.append(jj)\n",
    "                    print(\"l_last l_extra:\", l_last_extra)\n",
    "        if bw[l:r].find(p[i])!=-1:\n",
    "            print(\"l={},r={},find bw[l:r].find(p[i]={})={}\".format(l,r,p[i],bw[l:r].find(p[i])))\n",
    "            l_last=l+bw[l:r].find(p[i])\n",
    "            l_last=l+bw[l:r].find(p[i])\n",
    "            print(\"l=\",l,\"l_last=\", l_last)\n",
    "        else:\n",
    "            l=-1\n",
    "            r=-1\n",
    "            print(\"else l_last_extra\", l_last_extra)\n",
    "            if not l_last_extra:\n",
    "                return 0, 'n'\n",
    "        if bw[l:r].rfind(p[i])!=-1:\n",
    "            # repare que aqui usamou rfind (hightest index)\n",
    "            r_last=l+bw[l:r].rfind(p[i])\n",
    "            print(\"r=\",r,\"r_last=\", r_last)\n",
    "        if l>=0:\n",
    "            l=first[p[i]]+rank[l_last]\n",
    "            r=first[p[i]]+rank[r_last]+1\n",
    "            print(\"Update: l=\",l,\"r=\", r)\n",
    "        if l>=r:\n",
    "            l=-1\n",
    "            r=-1\n",
    "            if not l_last_extra:\n",
    "                return 0, 'n'\n",
    "        if l_last_extra:\n",
    "            l_extra=list(map(lambda x:first[p[i]]+rank[x],l_last_extra))\n",
    "            print (\"l_extra map=\", l_extra, \"p[i]=\", p[i])\n",
    "        else: l_extra=[]\n",
    "        i=i-1\n",
    "        print(\"i decremented ---------------\")\n",
    "    offsets=list()\n",
    "    if i<0:\n",
    "        if r<l:\n",
    "            n_occ=r-l\n",
    "            offsets.extend(sa[l:r])\n",
    "            offsets.append('o')\n",
    "        if l_extra:\n",
    "            n_occ+=len(l_extra)\n",
    "            offsets.extend(list(map(lambda x:sa[x],l_extra)))\n",
    "    return n_occ,offsets"
   ]
  },
  {
   "cell_type": "code",
   "execution_count": 188,
   "metadata": {
    "collapsed": false
   },
   "outputs": [
    {
     "name": "stdout",
     "output_type": "stream",
     "text": [
      "1112$654745428872424832323244112411614442212134133313113111113343221232332111122333\n",
      "('sa:', [82, 81, 80, 79, 0, 8, 16, 28, 32, 53, 4, 21, 66, 50, 44, 56, 73, 47, 41, 35, 38, 14, 2, 6, 10, 78, 65, 72, 40, 1, 9, 64, 63, 17, 29, 12, 33, 70, 61, 59, 18, 30, 54, 13, 5, 77, 76, 22, 23, 24, 25, 67, 26, 51, 45, 68, 57, 74, 48, 42, 36, 27, 52, 20, 46, 34, 71, 39, 62, 69, 60, 58, 75, 19, 15, 3, 7, 11, 31, 55, 49, 43, 37])\n"
     ]
    }
   ],
   "source": [
    "seqin = 'acaaga5aca6cga5accttagggggtaccactag7atcag8ag8ag8agtac7agtctctcccaggtagtctc9ctcagt9ggcaaa$'\n",
    "seqinvar = 'aca5aga6aca6cga5accttagggggtacc7actag8atcag8agtag8agtac7agtctctcccaggtctcagtggcaaa$'\n",
    "seqintonum = toNumeric(seqinvar.upper())\n",
    "sa=suffixarray(seqintonum)\n",
    "bw=bwt(seqintonum)\n",
    "print(bw)\n",
    "print(\"sa:\", sa)"
   ]
  },
  {
   "cell_type": "code",
   "execution_count": 189,
   "metadata": {
    "collapsed": false,
    "scrolled": false
   },
   "outputs": [
    {
     "name": "stdout",
     "output_type": "stream",
     "text": [
      "('FIRST:', {'$': 0, '1': 1, '3': 43, '2': 25, '5': 74, '4': 61, '7': 78, '6': 76, '8': 80})\n",
      "('TOTALS:', {'$': 1, '1': 24, '3': 18, '2': 18, '5': 2, '4': 13, '7': 2, '6': 2, '8': 3})\n",
      "('c:', '5')\n",
      "('z:', 1, 'r:', 25, 'f:', 5)\n",
      "('sa[z+f]=', 16)\n",
      "start_site=75, end_site=74\n",
      "sa[end_site]=16, sa[z+f]=16\n",
      "('extra=', [74, 75, 76, 77])\n",
      "('c:', '5')\n",
      "('z:', 7, 'r:', 25, 'f:', 3)\n",
      "('sa[z+f]=', 4)\n",
      "start_site=75, end_site=74\n",
      "extra not in sa.index(sa[75])=3\n",
      "('extra=', [74, 75, 76, 77, 3])\n",
      "('c:', '7')\n",
      "('z:', 11, 'r:', 25, 'f:', 4)\n",
      "('sa[z+f]=', 56)\n",
      "start_site=78, end_site=79\n",
      "sa[end_site]=56, sa[z+f]=56\n",
      "('extra=', [74, 75, 76, 77, 3, 78, 79, 80, 81, 82])\n",
      "('c:', '8')\n",
      "('z:', 16, 'r:', 25, 'f:', 4)\n",
      "('sa[z+f]=', 38)\n",
      "start_site=78, end_site=79\n",
      "extra not in sa.index(sa[78])=31\n",
      "('extra=', [74, 75, 76, 77, 3, 78, 79, 80, 81, 82, 31])\n",
      "('l=', 1, 'r=', 25, 'p[i]=', '1')\n",
      "('l_last extra:', [74])\n",
      "('l_last extra:', [74, 75])\n",
      "('l_last extra:', [74, 75, 76])\n",
      "('l_last extra:', [74, 75, 76, 77])\n",
      "l=1,r=25,find bw[l:r].find(p[i]=1)=0\n",
      "('l=', 1, 'l_last=', 1)\n",
      "('r=', 25, 'r_last=', 2)\n",
      "('Update: l=', 2, 'r=', 4)\n",
      "('l_extra map=', [21, 22, 23, 24], 'p[i]=', '1')\n",
      "i decremented ---------------\n",
      "('l=', 2, 'r=', 4, 'p[i]=', '1')\n",
      "l=2,r=4,find bw[l:r].find(p[i]=1)=0\n",
      "('l=', 2, 'l_last=', 2)\n",
      "('r=', 4, 'r_last=', 2)\n",
      "('Update: l=', 3, 'r=', 4)\n",
      "i decremented ---------------\n",
      "('l=', 3, 'r=', 4, 'p[i]=', '2')\n",
      "l=3,r=4,find bw[l:r].find(p[i]=2)=0\n",
      "('l=', 3, 'l_last=', 3)\n",
      "('r=', 4, 'r_last=', 3)\n",
      "('Update: l=', 25, 'r=', 26)\n",
      "i decremented ---------------\n",
      "('l=', 25, 'r=', 26, 'p[i]=', '3')\n",
      "l=25,r=26,find bw[l:r].find(p[i]=3)=0\n",
      "('l=', 25, 'l_last=', 25)\n",
      "('r=', 26, 'r_last=', 25)\n",
      "('Update: l=', 45, 'r=', 46)\n",
      "i decremented ---------------\n",
      "('l=', 45, 'r=', 46, 'p[i]=', '3')\n",
      "l=45,r=46,find bw[l:r].find(p[i]=3)=0\n",
      "('l=', 45, 'l_last=', 45)\n",
      "('r=', 46, 'r_last=', 45)\n",
      "('Update: l=', 46, 'r=', 47)\n",
      "i decremented ---------------\n",
      "('l=', 46, 'r=', 47, 'p[i]=', '4')\n",
      "l=46,r=47,find bw[l:r].find(p[i]=4)=0\n",
      "('l=', 46, 'l_last=', 46)\n",
      "('r=', 47, 'r_last=', 46)\n",
      "('Update: l=', 72, 'r=', 73)\n",
      "i decremented ---------------\n",
      "('l=', 72, 'r=', 73, 'p[i]=', '3')\n",
      "l=72,r=73,find bw[l:r].find(p[i]=3)=0\n",
      "('l=', 72, 'l_last=', 72)\n",
      "('r=', 73, 'r_last=', 72)\n",
      "('Update: l=', 57, 'r=', 58)\n",
      "i decremented ---------------\n",
      "('l=', 57, 'r=', 58, 'p[i]=', '1')\n",
      "l=57,r=58,find bw[l:r].find(p[i]=1)=0\n",
      "('l=', 57, 'l_last=', 57)\n",
      "('r=', 58, 'r_last=', 57)\n",
      "('Update: l=', 16, 'r=', 17)\n",
      "i decremented ---------------\n",
      "('l=', 16, 'r=', 17, 'p[i]=', '2')\n",
      "l=16,r=17,find bw[l:r].find(p[i]=2)=0\n",
      "('l=', 16, 'l_last=', 16)\n",
      "('r=', 17, 'r_last=', 16)\n",
      "('Update: l=', 27, 'r=', 28)\n",
      "i decremented ---------------\n",
      "('l=', 27, 'r=', 28, 'p[i]=', '4')\n",
      "l=27,r=28,find bw[l:r].find(p[i]=4)=0\n",
      "('l=', 27, 'l_last=', 27)\n",
      "('r=', 28, 'r_last=', 27)\n",
      "('Update: l=', 66, 'r=', 67)\n",
      "i decremented ---------------\n",
      "('l=', 66, 'r=', 67, 'p[i]=', '2')\n",
      "l=66,r=67,find bw[l:r].find(p[i]=2)=0\n",
      "('l=', 66, 'l_last=', 66)\n",
      "('r=', 67, 'r_last=', 66)\n",
      "('Update: l=', 37, 'r=', 38)\n",
      "i decremented ---------------\n",
      "('l=', 37, 'r=', 38, 'p[i]=', '4')\n",
      "l=37,r=38,find bw[l:r].find(p[i]=4)=0\n",
      "('l=', 37, 'l_last=', 37)\n",
      "('r=', 38, 'r_last=', 37)\n",
      "('Update: l=', 69, 'r=', 70)\n",
      "i decremented ---------------\n",
      "('l=', 69, 'r=', 70, 'p[i]=', '3')\n",
      "l=69,r=70,find bw[l:r].find(p[i]=3)=0\n",
      "('l=', 69, 'l_last=', 69)\n",
      "('r=', 70, 'r_last=', 69)\n",
      "('Update: l=', 55, 'r=', 56)\n",
      "i decremented ---------------\n",
      "('l=', 55, 'r=', 56, 'p[i]=', '3')\n",
      "l=55,r=56,find bw[l:r].find(p[i]=3)=0\n",
      "('l=', 55, 'l_last=', 55)\n",
      "('r=', 56, 'r_last=', 55)\n",
      "('Update: l=', 51, 'r=', 52)\n",
      "i decremented ---------------\n",
      "('l=', 51, 'r=', 52, 'p[i]=', '1')\n",
      "l=51,r=52,find bw[l:r].find(p[i]=1)=0\n",
      "('l=', 51, 'l_last=', 51)\n",
      "('r=', 52, 'r_last=', 51)\n",
      "('Update: l=', 12, 'r=', 13)\n",
      "i decremented ---------------\n",
      "('l=', 12, 'r=', 13, 'p[i]=', '2')\n",
      "l=12,r=13,find bw[l:r].find(p[i]=2)=0\n",
      "('l=', 12, 'l_last=', 12)\n",
      "('r=', 13, 'r_last=', 12)\n",
      "('Update: l=', 26, 'r=', 27)\n",
      "i decremented ---------------\n",
      "('l=', 26, 'r=', 27, 'p[i]=', '2')\n",
      "l=26,r=27,find bw[l:r].find(p[i]=2)=0\n",
      "('l=', 26, 'l_last=', 26)\n",
      "('r=', 27, 'r_last=', 26)\n",
      "('Update: l=', 31, 'r=', 32)\n",
      "i decremented ---------------\n",
      "('l=', 31, 'r=', 32, 'p[i]=', '2')\n",
      "l=31,r=32,find bw[l:r].find(p[i]=2)=0\n",
      "('l=', 31, 'l_last=', 31)\n",
      "('r=', 32, 'r_last=', 31)\n",
      "('Update: l=', 32, 'r=', 33)\n",
      "i decremented ---------------\n",
      "('l=', 32, 'r=', 33, 'p[i]=', '4')\n",
      "l=32,r=33,find bw[l:r].find(p[i]=4)=0\n",
      "('l=', 32, 'l_last=', 32)\n",
      "('r=', 33, 'r_last=', 32)\n",
      "('Update: l=', 68, 'r=', 69)\n",
      "i decremented ---------------\n",
      "('l=', 68, 'r=', 69, 'p[i]=', '2')\n",
      "l=68,r=69,find bw[l:r].find(p[i]=2)=0\n",
      "('l=', 68, 'l_last=', 68)\n",
      "('r=', 69, 'r_last=', 68)\n",
      "('Update: l=', 38, 'r=', 39)\n",
      "i decremented ---------------\n",
      "('l=', 38, 'r=', 39, 'p[i]=', '4')\n",
      "l=38,r=39,find bw[l:r].find(p[i]=4)=0\n",
      "('l=', 38, 'l_last=', 38)\n",
      "('r=', 39, 'r_last=', 38)\n",
      "('Update: l=', 70, 'r=', 71)\n",
      "i decremented ---------------\n",
      "('l=', 70, 'r=', 71, 'p[i]=', '2')\n",
      "l=70,r=71,find bw[l:r].find(p[i]=2)=0\n",
      "('l=', 70, 'l_last=', 70)\n",
      "('r=', 71, 'r_last=', 70)\n",
      "('Update: l=', 39, 'r=', 40)\n",
      "i decremented ---------------\n",
      "('l=', 39, 'r=', 40, 'p[i]=', '4')\n",
      "l=39,r=40,find bw[l:r].find(p[i]=4)=0\n",
      "('l=', 39, 'l_last=', 39)\n",
      "('r=', 40, 'r_last=', 39)\n",
      "('Update: l=', 71, 'r=', 72)\n",
      "i decremented ---------------\n",
      "('l=', 71, 'r=', 72, 'p[i]=', '3')\n",
      "l=71,r=72,find bw[l:r].find(p[i]=3)=0\n",
      "('l=', 71, 'l_last=', 71)\n",
      "('r=', 72, 'r_last=', 71)\n",
      "('Update: l=', 56, 'r=', 57)\n",
      "i decremented ---------------\n",
      "('l=', 56, 'r=', 57, 'p[i]=', '1')\n",
      "l=56,r=57,find bw[l:r].find(p[i]=1)=0\n",
      "('l=', 56, 'l_last=', 56)\n",
      "('r=', 57, 'r_last=', 56)\n",
      "('Update: l=', 15, 'r=', 16)\n",
      "i decremented ---------------\n",
      "('c:', '7')\n",
      "('z:', 15, 'r:', 16, 'f:', 0)\n",
      "('sa[z+f]=', 56)\n",
      "start_site=78, end_site=79\n",
      "sa[end_site]=56, sa[z+f]=56\n",
      "('extra=', [78, 79, 80, 81, 82])\n",
      "('l=', 15, 'r=', 16, 'p[i]=', '3')\n",
      "('l_last extra:', [80])\n",
      "('l_last extra:', [80, 81])\n",
      "('l_last extra:', [80, 81, 82])\n",
      "('else l_last_extra', [80, 81, 82])\n",
      "('l_extra map=', [58, 59, 60], 'p[i]=', '3')\n",
      "i decremented ---------------\n",
      "('l=', -1, 'r=', -1, 'p[i]=', '1')\n",
      "('l_last l_extra:', [58])\n",
      "('l_last l_extra:', [58, 59])\n",
      "('l_last l_extra:', [58, 59, 60])\n",
      "('else l_last_extra', [58, 59, 60])\n",
      "('l_extra map=', [17, 18, 19], 'p[i]=', '1')\n",
      "i decremented ---------------\n",
      "('l=', -1, 'r=', -1, 'p[i]=', '2')\n",
      "('l_last l_extra:', [18])\n",
      "('else l_last_extra', [18])\n",
      "('l_extra map=', [28], 'p[i]=', '2')\n",
      "i decremented ---------------\n",
      "('l=', -1, 'r=', -1, 'p[i]=', '4')\n",
      "('l_last l_extra:', [28])\n",
      "('else l_last_extra', [28])\n",
      "('l_extra map=', [67], 'p[i]=', '4')\n",
      "i decremented ---------------\n",
      "('l=', -1, 'r=', -1, 'p[i]=', '1')\n",
      "('l_last l_extra:', [67])\n",
      "('else l_last_extra', [67])\n",
      "('l_extra map=', [20], 'p[i]=', '1')\n",
      "i decremented ---------------\n"
     ]
    },
    {
     "ename": "IndexError",
     "evalue": "list index out of range",
     "output_type": "error",
     "traceback": [
      "\u001b[0;31m---------------------------------------------------------------------------\u001b[0m",
      "\u001b[0;31mIndexError\u001b[0m                                Traceback (most recent call last)",
      "\u001b[0;32m<ipython-input-189-f0ce865662b1>\u001b[0m in \u001b[0;36m<module>\u001b[0;34m()\u001b[0m\n\u001b[1;32m      2\u001b[0m \u001b[0mpnum\u001b[0m \u001b[0;34m=\u001b[0m \u001b[0mtoNumeric\u001b[0m\u001b[0;34m(\u001b[0m\u001b[0mp\u001b[0m\u001b[0;34m.\u001b[0m\u001b[0mupper\u001b[0m\u001b[0;34m(\u001b[0m\u001b[0;34m)\u001b[0m\u001b[0;34m)\u001b[0m\u001b[0;34m\u001b[0m\u001b[0m\n\u001b[1;32m      3\u001b[0m \u001b[0mmsa\u001b[0m \u001b[0;34m=\u001b[0m \u001b[0;34m[\u001b[0m \u001b[0;34m[\u001b[0m\u001b[0;34m]\u001b[0m\u001b[0;34m,\u001b[0m \u001b[0;34m[\u001b[0m\u001b[0;34m]\u001b[0m\u001b[0;34m,\u001b[0m \u001b[0;34m[\u001b[0m\u001b[0;34m]\u001b[0m\u001b[0;34m,\u001b[0m \u001b[0;34m[\u001b[0m\u001b[0;34m]\u001b[0m\u001b[0;34m,\u001b[0m \u001b[0;34m[\u001b[0m\u001b[0;34m]\u001b[0m\u001b[0;34m,\u001b[0m \u001b[0;34m[\u001b[0m\u001b[0;36m3\u001b[0m\u001b[0;34m,\u001b[0m\u001b[0;36m3\u001b[0m\u001b[0;34m,\u001b[0m\u001b[0;36m3\u001b[0m\u001b[0;34m]\u001b[0m\u001b[0;34m,\u001b[0m \u001b[0;34m[\u001b[0m\u001b[0;36m30\u001b[0m\u001b[0;34m,\u001b[0m \u001b[0;36m5\u001b[0m\u001b[0;34m,\u001b[0m \u001b[0;36m4\u001b[0m\u001b[0;34m]\u001b[0m\u001b[0;34m,\u001b[0m \u001b[0;34m[\u001b[0m\u001b[0;36m68\u001b[0m\u001b[0;34m,\u001b[0m \u001b[0;36m6\u001b[0m\u001b[0;34m,\u001b[0m \u001b[0;36m2\u001b[0m\u001b[0;34m]\u001b[0m \u001b[0;34m]\u001b[0m\u001b[0;34m\u001b[0m\u001b[0m\n\u001b[0;32m----> 4\u001b[0;31m \u001b[0mbsearch\u001b[0m \u001b[0;34m(\u001b[0m\u001b[0mbw\u001b[0m\u001b[0;34m,\u001b[0m \u001b[0mpnum\u001b[0m\u001b[0;34m)\u001b[0m\u001b[0;34m\u001b[0m\u001b[0m\n\u001b[0m",
      "\u001b[0;32m<ipython-input-187-200e07ecee77>\u001b[0m in \u001b[0;36mbsearch\u001b[0;34m(bw, p)\u001b[0m\n\u001b[1;32m    119\u001b[0m                     \u001b[0;32mif\u001b[0m \u001b[0mbw\u001b[0m\u001b[0;34m[\u001b[0m\u001b[0mjj\u001b[0m\u001b[0;34m]\u001b[0m\u001b[0;34m==\u001b[0m\u001b[0mstr\u001b[0m\u001b[0;34m(\u001b[0m\u001b[0mj\u001b[0m\u001b[0;34m)\u001b[0m\u001b[0;34m:\u001b[0m\u001b[0;34m\u001b[0m\u001b[0m\n\u001b[1;32m    120\u001b[0m                         \u001b[0;31m#if sa[jj]==msa[j][0]+(msa[j][1]+1)*msa[j][2]:\u001b[0m\u001b[0;34m\u001b[0m\u001b[0;34m\u001b[0m\u001b[0m\n\u001b[0;32m--> 121\u001b[0;31m                         \u001b[0;32mif\u001b[0m \u001b[0msa\u001b[0m\u001b[0;34m[\u001b[0m\u001b[0mjj\u001b[0m\u001b[0;34m]\u001b[0m\u001b[0;34m==\u001b[0m\u001b[0mmsa\u001b[0m\u001b[0;34m[\u001b[0m\u001b[0mj\u001b[0m\u001b[0;34m]\u001b[0m\u001b[0;34m[\u001b[0m\u001b[0;36m0\u001b[0m\u001b[0;34m]\u001b[0m\u001b[0;34m+\u001b[0m\u001b[0;34m(\u001b[0m\u001b[0mmsa\u001b[0m\u001b[0;34m[\u001b[0m\u001b[0mj\u001b[0m\u001b[0;34m]\u001b[0m\u001b[0;34m[\u001b[0m\u001b[0;36m1\u001b[0m\u001b[0;34m]\u001b[0m\u001b[0;34m+\u001b[0m\u001b[0;36m1\u001b[0m\u001b[0;34m)\u001b[0m\u001b[0;34m*\u001b[0m\u001b[0mmsa\u001b[0m\u001b[0;34m[\u001b[0m\u001b[0mj\u001b[0m\u001b[0;34m]\u001b[0m\u001b[0;34m[\u001b[0m\u001b[0;36m2\u001b[0m\u001b[0;34m]\u001b[0m\u001b[0;34m:\u001b[0m\u001b[0;34m\u001b[0m\u001b[0m\n\u001b[0m\u001b[1;32m    122\u001b[0m                             \u001b[0ml_alts\u001b[0m\u001b[0;34m=\u001b[0m\u001b[0mfirst\u001b[0m\u001b[0;34m[\u001b[0m\u001b[0mstr\u001b[0m\u001b[0;34m(\u001b[0m\u001b[0mj\u001b[0m\u001b[0;34m)\u001b[0m\u001b[0;34m]\u001b[0m\u001b[0;34m\u001b[0m\u001b[0m\n\u001b[1;32m    123\u001b[0m                             \u001b[0mr_alts\u001b[0m\u001b[0;34m=\u001b[0m\u001b[0ml_alts\u001b[0m\u001b[0;34m+\u001b[0m\u001b[0mtotals\u001b[0m\u001b[0;34m[\u001b[0m\u001b[0mstr\u001b[0m\u001b[0;34m(\u001b[0m\u001b[0mj\u001b[0m\u001b[0;34m)\u001b[0m\u001b[0;34m]\u001b[0m\u001b[0;34m\u001b[0m\u001b[0m\n",
      "\u001b[0;31mIndexError\u001b[0m: list index out of range"
     ]
    }
   ],
   "source": [
    "p =  'cgaaccttagggggtaccatcagagtctctcccaggtctcagtggcaaa'\n",
    "pnum = toNumeric(p.upper())\n",
    "msa = [ [], [], [], [], [], [3,3,3], [30, 5, 4], [68, 6, 2] ]\n",
    "bsearch (bw, pnum)"
   ]
  },
  {
   "cell_type": "code",
   "execution_count": 104,
   "metadata": {
    "collapsed": false
   },
   "outputs": [],
   "source": [
    "#print(\"\\n\".join(invToNumeric(x) for x in map(lambda x: x[0], suffixArrayAll (seqintonum) ) ))\n",
    "#print(\"\\n\".join(invToNumeric(x)[-1] for x in bwm(seqintonum) ) )\n",
    "#print( \"\\n\".join(str(x) for x in sa))"
   ]
  },
  {
   "cell_type": "code",
   "execution_count": 41,
   "metadata": {
    "collapsed": false
   },
   "outputs": [
    {
     "data": {
      "text/plain": [
       "'actag'"
      ]
     },
     "execution_count": 41,
     "metadata": {},
     "output_type": "execute_result"
    }
   ],
   "source": [
    "seqin[30:35]"
   ]
  },
  {
   "cell_type": "code",
   "execution_count": 61,
   "metadata": {
    "collapsed": true
   },
   "outputs": [],
   "source": [
    "def rankbwtmar(bw):\n",
    "    rank=list()\n",
    "    totals={}\n",
    "    for c in bw:\n",
    "        if c not in totals:\n",
    "            totals[c]=1\n",
    "            rank.append(0)\n",
    "        else:\n",
    "            rank.append(totals[c])\n",
    "            totals[c]+=1\n",
    "    return totals, rank"
   ]
  },
  {
   "cell_type": "code",
   "execution_count": 63,
   "metadata": {
    "collapsed": false
   },
   "outputs": [
    {
     "name": "stdout",
     "output_type": "stream",
     "text": [
      "0\n",
      "1\n",
      "2\n",
      "3\n",
      "0\n",
      "1\n",
      "0\n",
      "2\n",
      "1\n",
      "0\n",
      "4\n",
      "3\n",
      "4\n",
      "2\n",
      "5\n",
      "3\n",
      "4\n",
      "1\n",
      "0\n",
      "0\n",
      "2\n",
      "1\n",
      "5\n",
      "3\n",
      "6\n",
      "4\n",
      "6\n",
      "5\n",
      "7\n",
      "8\n",
      "0\n",
      "1\n",
      "6\n",
      "2\n",
      "3\n",
      "7\n",
      "7\n",
      "8\n",
      "5\n",
      "9\n",
      "9\n",
      "8\n",
      "10\n",
      "9\n",
      "10\n",
      "11\n",
      "10\n",
      "11\n",
      "2\n",
      "12\n",
      "11\n",
      "0\n",
      "12\n",
      "13\n",
      "12\n",
      "13\n",
      "14\n",
      "15\n",
      "16\n",
      "13\n",
      "6\n",
      "1\n",
      "17\n",
      "7\n",
      "8\n",
      "9\n",
      "18\n",
      "19\n",
      "20\n",
      "10\n",
      "21\n",
      "11\n",
      "22\n",
      "23\n",
      "12\n",
      "13\n",
      "14\n",
      "15\n",
      "14\n",
      "14\n",
      "16\n",
      "15\n",
      "24\n",
      "16\n",
      "17\n",
      "17\n",
      "18\n",
      "18\n",
      "19\n"
     ]
    }
   ],
   "source": [
    "totals, rankmar = rankbwtmar (bwt_seqin)\n",
    "print( \"\\n\".join(str(x) for x in rankmar) ) "
   ]
  },
  {
   "cell_type": "code",
   "execution_count": 29,
   "metadata": {
    "collapsed": false
   },
   "outputs": [],
   "source": [
    "def range_search_2d (bw, l, r, lowerSizeAlph=5, highSizeAlph=10):\n",
    "    M = []\n",
    "    i=l\n",
    "    while (i < r):\n",
    "        c = bw[i]\n",
    "        if c == '$':\n",
    "            c = 0\n",
    "        if int(lowerSizeAlph) <= int(c) <= int(highSizeAlph):\n",
    "            M.append((i, c))\n",
    "        i=i+1\n",
    "    return M\n",
    "            \n",
    "        \n",
    "\n",
    "\n",
    "def countMatches(bw, p, SA):\n",
    "    \"\"\"\n",
    "    Given BWT(T) and a pattern string p, return the number of times p occurs in T.\n",
    "    \"\"\"\n",
    "    rankAll, tots = rankAllBwt(bw)\n",
    "    first = firstCol(tots)\n",
    "    sizeAlph = 8\n",
    "    if p[-1] not in first:\n",
    "        return 0 # character doesnt occur in T\n",
    "    l, r = first[p[-1]]\n",
    "    i = len(p)-1\n",
    "    SA_int = [(l,r)]\n",
    "    Extra_int = []\n",
    "    print \"F:\", first\n",
    "    print \"RKA:\", rankAll\n",
    "    while (i >= 0 and len(SA_int)!=0):\n",
    "        print \"p[i]:\",invToNumeric(p[i]),l,r\n",
    "        for (l, r) in SA_int:\n",
    "            print \"L:\",l,\"R:\",r\n",
    "            M = range_search_2d (bw, l, r-1)\n",
    "            print \"M:\", M\n",
    "            for idx, num in M:\n",
    "                print (\"idx:\", idx, \"num:\", num)\n",
    "                if int(num)%2 == 0:\n",
    "                    odd_num = str(int(num)-1)\n",
    "                else:\n",
    "                    odd_num = str(num)\n",
    "                if SA[first[odd_num][0]] < SA[first[odd_num][0]+1]:\n",
    "                    start_site = first[odd_num][0]\n",
    "                    end_site = first[odd_num][0]+1\n",
    "                else:\n",
    "                    start_site = first[odd_num][0]+1\n",
    "                    end_site = first[odd_num][0]\n",
    "                print (\"start_site:\", start_site, \"end_site:\", end_site)\n",
    "                print (\"SA[idx]:\",SA[idx], \"SA[end_site]:\",SA[end_site])\n",
    "                if (int(num)%2 == 1) and (SA[idx] == SA[end_site] + 1):\n",
    "                    end_inter = int(num)+2\n",
    "                    if end_inter > sizeAlph:\n",
    "                        end_inter = sizeAlph  \n",
    "                    #Extra_int.append ( (first[num][0], first[str(end_inter)][0]) )\n",
    "                    for x in xrange(first[num][0], first[str(end_inter)][0]):\n",
    "                        print (\"alelos\")\n",
    "                        print(SA.index(x)-1, SA.index(x))\n",
    "                        Extra_int.append ( (SA.index(x)-1, SA.index(x)) )\n",
    "                else:\n",
    "                    print\"aqui\"\n",
    "                    Extra_int.append ( (start_site, start_site+1) )\n",
    "                print (\"Extra_int:\", Extra_int)\n",
    "                print (\"-------------------\")\n",
    "        i = i-1\n",
    "        SA_int.extend(Extra_int)\n",
    "        print (\"SA_int:\", set(SA_int))\n",
    "        print (\"===================================\")\n",
    "        for (l,r) in set(SA_int):\n",
    "            print \"for l:\",l, \"r:\",r\n",
    "            c = p[i]\n",
    "            print \"c:\", invToNumeric(c)\n",
    "            l = first[c][0] + rankAll[c][l-1]\n",
    "            r = first[c][0] + rankAll[c][r-1]\n",
    "\n",
    "        print (\"===================================\")\n",
    "#            i -= 1\n",
    "    return l, r"
   ]
  },
  {
   "cell_type": "code",
   "execution_count": 197,
   "metadata": {
    "collapsed": false
   },
   "outputs": [
    {
     "name": "stdout",
     "output_type": "stream",
     "text": [
      "1 2\n",
      "5 6\n",
      "3 4\n"
     ]
    }
   ],
   "source": [
    "K = [(1,2), (3,4), (1,2), (5,6)]\n",
    "for (l, r) in set(K):\n",
    "    print l,r"
   ]
  },
  {
   "cell_type": "code",
   "execution_count": 198,
   "metadata": {
    "collapsed": false
   },
   "outputs": [
    {
     "data": {
      "text/plain": [
       "29"
      ]
     },
     "execution_count": 198,
     "metadata": {},
     "output_type": "execute_result"
    }
   ],
   "source": [
    "suffixArray(toNumeric(prg)).index(24)"
   ]
  },
  {
   "cell_type": "code",
   "execution_count": 199,
   "metadata": {
    "collapsed": false
   },
   "outputs": [
    {
     "data": {
      "text/plain": [
       "4"
      ]
     },
     "execution_count": 199,
     "metadata": {},
     "output_type": "execute_result"
    }
   ],
   "source": [
    "a = [1,2,3,4,5]\n",
    "a[3]"
   ]
  },
  {
   "cell_type": "code",
   "execution_count": 201,
   "metadata": {
    "collapsed": false,
    "scrolled": false
   },
   "outputs": [
    {
     "name": "stdout",
     "output_type": "stream",
     "text": [
      "F: {'$': (0, 1), '1': (1, 7), '3': (13, 16), '2': (7, 13), '5': (25, 27), '4': (16, 25), '7': (29, 31), '6': (27, 29), '8': (31, 32)}\n",
      "RKA: {'$': [0, 0, 0, 0, 0, 0, 0, 1, 1, 1, 1, 1, 1, 1, 1, 1, 1, 1, 1, 1, 1, 1, 1, 1, 1, 1, 1, 1, 1, 1, 1, 1], '1': [0, 0, 0, 1, 1, 1, 1, 1, 2, 2, 2, 2, 2, 3, 3, 3, 3, 3, 3, 3, 4, 4, 4, 5, 5, 5, 5, 5, 5, 5, 5, 6], '3': [0, 0, 0, 0, 0, 0, 0, 0, 0, 0, 0, 0, 0, 0, 1, 1, 1, 1, 1, 1, 1, 1, 1, 1, 1, 1, 2, 2, 2, 2, 3, 3], '2': [0, 1, 1, 1, 1, 1, 1, 1, 1, 1, 1, 2, 2, 2, 2, 2, 3, 3, 4, 4, 4, 4, 4, 4, 5, 6, 6, 6, 6, 6, 6, 6], '5': [0, 0, 1, 1, 1, 1, 1, 1, 1, 1, 2, 2, 2, 2, 2, 2, 2, 2, 2, 2, 2, 2, 2, 2, 2, 2, 2, 2, 2, 2, 2, 2], '4': [1, 1, 1, 1, 2, 3, 3, 3, 3, 3, 3, 3, 3, 3, 3, 3, 3, 4, 4, 4, 4, 5, 6, 6, 6, 6, 6, 7, 8, 9, 9, 9], '7': [0, 0, 0, 0, 0, 0, 1, 1, 1, 2, 2, 2, 2, 2, 2, 2, 2, 2, 2, 2, 2, 2, 2, 2, 2, 2, 2, 2, 2, 2, 2, 2], '6': [0, 0, 0, 0, 0, 0, 0, 0, 0, 0, 0, 0, 1, 1, 1, 1, 1, 1, 1, 2, 2, 2, 2, 2, 2, 2, 2, 2, 2, 2, 2, 2], '8': [0, 0, 0, 0, 0, 0, 0, 0, 0, 0, 0, 0, 0, 0, 0, 1, 1, 1, 1, 1, 1, 1, 1, 1, 1, 1, 1, 1, 1, 1, 1, 1]}\n",
      "p[i]: C 7 13\n",
      "L: 7 R: 13\n",
      "M: [(9, '7'), (10, '5'), (12, '6')]\n",
      "('idx:', 9, 'num:', '7')\n",
      "('start_site:', 29, 'end_site:', 30)\n",
      "('SA[idx]:', 29, 'SA[end_site]:', 28)\n",
      "alelos\n",
      "(8, 9)\n",
      "alelos\n",
      "(15, 16)\n",
      "('Extra_int:', [(8, 9), (15, 16)])\n",
      "-------------------\n",
      "('idx:', 10, 'num:', '5')\n",
      "('start_site:', 26, 'end_site:', 25)\n",
      "('SA[idx]:', 6, 'SA[end_site]:', 19)\n",
      "aqui\n",
      "('Extra_int:', [(8, 9), (15, 16), (26, 27)])\n",
      "-------------------\n",
      "('idx:', 12, 'num:', '6')\n",
      "('start_site:', 26, 'end_site:', 25)\n",
      "('SA[idx]:', 18, 'SA[end_site]:', 19)\n",
      "aqui\n",
      "('Extra_int:', [(8, 9), (15, 16), (26, 27), (26, 27)])\n",
      "-------------------\n",
      "('SA_int:', set([(8, 9), (26, 27), (7, 13), (15, 16)]))\n",
      "===================================\n",
      "for l: 8 r: 9\n",
      "c: A\n",
      "for l: 26 r: 27\n",
      "c: A\n",
      "for l: 7 r: 13\n",
      "c: A\n",
      "for l: 15 r: 16\n",
      "c: A\n",
      "===================================\n",
      "p[i]: A 4 4\n",
      "L: 7 R: 13\n",
      "M: [(9, '7'), (10, '5'), (12, '6')]\n",
      "('idx:', 9, 'num:', '7')\n",
      "('start_site:', 29, 'end_site:', 30)\n",
      "('SA[idx]:', 29, 'SA[end_site]:', 28)\n",
      "alelos\n",
      "(8, 9)\n",
      "alelos\n",
      "(15, 16)\n",
      "('Extra_int:', [(8, 9), (15, 16), (26, 27), (26, 27), (8, 9), (15, 16)])\n",
      "-------------------\n",
      "('idx:', 10, 'num:', '5')\n",
      "('start_site:', 26, 'end_site:', 25)\n",
      "('SA[idx]:', 6, 'SA[end_site]:', 19)\n",
      "aqui\n",
      "('Extra_int:', [(8, 9), (15, 16), (26, 27), (26, 27), (8, 9), (15, 16), (26, 27)])\n",
      "-------------------\n",
      "('idx:', 12, 'num:', '6')\n",
      "('start_site:', 26, 'end_site:', 25)\n",
      "('SA[idx]:', 18, 'SA[end_site]:', 19)\n",
      "aqui\n",
      "('Extra_int:', [(8, 9), (15, 16), (26, 27), (26, 27), (8, 9), (15, 16), (26, 27), (26, 27)])\n",
      "-------------------\n",
      "L: 8 R: 9\n",
      "M: []\n",
      "L: 15 R: 16\n",
      "M: [(15, '8')]\n",
      "('idx:', 15, 'num:', '8')\n",
      "('start_site:', 29, 'end_site:', 30)\n",
      "('SA[idx]:', 27, 'SA[end_site]:', 28)\n",
      "aqui\n",
      "('Extra_int:', [(8, 9), (15, 16), (26, 27), (26, 27), (8, 9), (15, 16), (26, 27), (26, 27), (29, 30)])\n",
      "-------------------\n",
      "L: 26 R: 27\n",
      "M: []\n",
      "L: 26 R: 27\n",
      "M: []\n",
      "('SA_int:', set([(8, 9), (26, 27), (7, 13), (15, 16), (29, 30)]))\n",
      "===================================\n",
      "for l: 8 r: 9\n",
      "c: T\n",
      "for l: 26 r: 27\n",
      "c: T\n",
      "for l: 7 r: 13\n",
      "c: T\n",
      "for l: 15 r: 16\n",
      "c: T\n",
      "for l: 29 r: 30\n",
      "c: T\n",
      "===================================\n",
      "p[i]: T 24 25\n",
      "L: 7 R: 13\n",
      "M: [(9, '7'), (10, '5'), (12, '6')]\n",
      "('idx:', 9, 'num:', '7')\n",
      "('start_site:', 29, 'end_site:', 30)\n",
      "('SA[idx]:', 29, 'SA[end_site]:', 28)\n",
      "alelos\n",
      "(8, 9)\n",
      "alelos\n",
      "(15, 16)\n",
      "('Extra_int:', [(8, 9), (15, 16), (26, 27), (26, 27), (8, 9), (15, 16), (26, 27), (26, 27), (29, 30), (8, 9), (15, 16)])\n",
      "-------------------\n",
      "('idx:', 10, 'num:', '5')\n",
      "('start_site:', 26, 'end_site:', 25)\n",
      "('SA[idx]:', 6, 'SA[end_site]:', 19)\n",
      "aqui\n",
      "('Extra_int:', [(8, 9), (15, 16), (26, 27), (26, 27), (8, 9), (15, 16), (26, 27), (26, 27), (29, 30), (8, 9), (15, 16), (26, 27)])\n",
      "-------------------\n",
      "('idx:', 12, 'num:', '6')\n",
      "('start_site:', 26, 'end_site:', 25)\n",
      "('SA[idx]:', 18, 'SA[end_site]:', 19)\n",
      "aqui\n",
      "('Extra_int:', [(8, 9), (15, 16), (26, 27), (26, 27), (8, 9), (15, 16), (26, 27), (26, 27), (29, 30), (8, 9), (15, 16), (26, 27), (26, 27)])\n",
      "-------------------\n",
      "L: 8 R: 9\n",
      "M: []\n",
      "L: 15 R: 16\n",
      "M: [(15, '8')]\n",
      "('idx:', 15, 'num:', '8')\n",
      "('start_site:', 29, 'end_site:', 30)\n",
      "('SA[idx]:', 27, 'SA[end_site]:', 28)\n",
      "aqui\n",
      "('Extra_int:', [(8, 9), (15, 16), (26, 27), (26, 27), (8, 9), (15, 16), (26, 27), (26, 27), (29, 30), (8, 9), (15, 16), (26, 27), (26, 27), (29, 30)])\n",
      "-------------------\n",
      "L: 26 R: 27\n",
      "M: []\n",
      "L: 26 R: 27\n",
      "M: []\n",
      "L: 8 R: 9\n",
      "M: []\n",
      "L: 15 R: 16\n",
      "M: [(15, '8')]\n",
      "('idx:', 15, 'num:', '8')\n",
      "('start_site:', 29, 'end_site:', 30)\n",
      "('SA[idx]:', 27, 'SA[end_site]:', 28)\n",
      "aqui\n",
      "('Extra_int:', [(8, 9), (15, 16), (26, 27), (26, 27), (8, 9), (15, 16), (26, 27), (26, 27), (29, 30), (8, 9), (15, 16), (26, 27), (26, 27), (29, 30), (29, 30)])\n",
      "-------------------\n",
      "L: 26 R: 27\n",
      "M: []\n",
      "L: 26 R: 27\n",
      "M: []\n",
      "L: 8 R: 9\n",
      "M: []\n",
      "L: 15 R: 16\n",
      "M: [(15, '8')]\n",
      "('idx:', 15, 'num:', '8')\n",
      "('start_site:', 29, 'end_site:', 30)\n",
      "('SA[idx]:', 27, 'SA[end_site]:', 28)\n",
      "aqui\n",
      "('Extra_int:', [(8, 9), (15, 16), (26, 27), (26, 27), (8, 9), (15, 16), (26, 27), (26, 27), (29, 30), (8, 9), (15, 16), (26, 27), (26, 27), (29, 30), (29, 30), (29, 30)])\n",
      "-------------------\n",
      "L: 26 R: 27\n",
      "M: []\n",
      "L: 26 R: 27\n",
      "M: []\n",
      "L: 29 R: 30\n",
      "M: []\n",
      "('SA_int:', set([(8, 9), (26, 27), (7, 13), (15, 16), (29, 30)]))\n",
      "===================================\n",
      "for l: 8 r: 9\n",
      "c: T\n",
      "for l: 26 r: 27\n",
      "c: T\n",
      "for l: 7 r: 13\n",
      "c: T\n",
      "for l: 15 r: 16\n",
      "c: T\n",
      "for l: 29 r: 30\n",
      "c: T\n",
      "===================================\n",
      "p[i]: T 24 25\n",
      "L: 7 R: 13\n",
      "M: [(9, '7'), (10, '5'), (12, '6')]\n",
      "('idx:', 9, 'num:', '7')\n",
      "('start_site:', 29, 'end_site:', 30)\n",
      "('SA[idx]:', 29, 'SA[end_site]:', 28)\n",
      "alelos\n",
      "(8, 9)\n",
      "alelos\n",
      "(15, 16)\n",
      "('Extra_int:', [(8, 9), (15, 16), (26, 27), (26, 27), (8, 9), (15, 16), (26, 27), (26, 27), (29, 30), (8, 9), (15, 16), (26, 27), (26, 27), (29, 30), (29, 30), (29, 30), (8, 9), (15, 16)])\n",
      "-------------------\n",
      "('idx:', 10, 'num:', '5')\n",
      "('start_site:', 26, 'end_site:', 25)\n",
      "('SA[idx]:', 6, 'SA[end_site]:', 19)\n",
      "aqui\n",
      "('Extra_int:', [(8, 9), (15, 16), (26, 27), (26, 27), (8, 9), (15, 16), (26, 27), (26, 27), (29, 30), (8, 9), (15, 16), (26, 27), (26, 27), (29, 30), (29, 30), (29, 30), (8, 9), (15, 16), (26, 27)])\n",
      "-------------------\n",
      "('idx:', 12, 'num:', '6')\n",
      "('start_site:', 26, 'end_site:', 25)\n",
      "('SA[idx]:', 18, 'SA[end_site]:', 19)\n",
      "aqui\n",
      "('Extra_int:', [(8, 9), (15, 16), (26, 27), (26, 27), (8, 9), (15, 16), (26, 27), (26, 27), (29, 30), (8, 9), (15, 16), (26, 27), (26, 27), (29, 30), (29, 30), (29, 30), (8, 9), (15, 16), (26, 27), (26, 27)])\n",
      "-------------------\n",
      "L: 8 R: 9\n",
      "M: []\n",
      "L: 15 R: 16\n",
      "M: [(15, '8')]\n",
      "('idx:', 15, 'num:', '8')\n",
      "('start_site:', 29, 'end_site:', 30)\n",
      "('SA[idx]:', 27, 'SA[end_site]:', 28)\n",
      "aqui\n",
      "('Extra_int:', [(8, 9), (15, 16), (26, 27), (26, 27), (8, 9), (15, 16), (26, 27), (26, 27), (29, 30), (8, 9), (15, 16), (26, 27), (26, 27), (29, 30), (29, 30), (29, 30), (8, 9), (15, 16), (26, 27), (26, 27), (29, 30)])\n",
      "-------------------\n",
      "L: 26 R: 27\n",
      "M: []\n",
      "L: 26 R: 27\n",
      "M: []\n",
      "L: 8 R: 9\n",
      "M: []\n",
      "L: 15 R: 16\n",
      "M: [(15, '8')]\n",
      "('idx:', 15, 'num:', '8')\n",
      "('start_site:', 29, 'end_site:', 30)\n",
      "('SA[idx]:', 27, 'SA[end_site]:', 28)\n",
      "aqui\n",
      "('Extra_int:', [(8, 9), (15, 16), (26, 27), (26, 27), (8, 9), (15, 16), (26, 27), (26, 27), (29, 30), (8, 9), (15, 16), (26, 27), (26, 27), (29, 30), (29, 30), (29, 30), (8, 9), (15, 16), (26, 27), (26, 27), (29, 30), (29, 30)])\n",
      "-------------------\n",
      "L: 26 R: 27\n",
      "M: []\n",
      "L: 26 R: 27\n",
      "M: []\n",
      "L: 8 R: 9\n",
      "M: []\n",
      "L: 15 R: 16\n",
      "M: [(15, '8')]\n",
      "('idx:', 15, 'num:', '8')\n",
      "('start_site:', 29, 'end_site:', 30)\n",
      "('SA[idx]:', 27, 'SA[end_site]:', 28)\n",
      "aqui\n",
      "('Extra_int:', [(8, 9), (15, 16), (26, 27), (26, 27), (8, 9), (15, 16), (26, 27), (26, 27), (29, 30), (8, 9), (15, 16), (26, 27), (26, 27), (29, 30), (29, 30), (29, 30), (8, 9), (15, 16), (26, 27), (26, 27), (29, 30), (29, 30), (29, 30)])\n",
      "-------------------\n",
      "L: 26 R: 27\n",
      "M: []\n",
      "L: 26 R: 27\n",
      "M: []\n",
      "L: 29 R: 30\n",
      "M: []\n",
      "L: 8 R: 9\n",
      "M: []\n",
      "L: 15 R: 16\n",
      "M: [(15, '8')]\n",
      "('idx:', 15, 'num:', '8')\n",
      "('start_site:', 29, 'end_site:', 30)\n",
      "('SA[idx]:', 27, 'SA[end_site]:', 28)\n",
      "aqui\n",
      "('Extra_int:', [(8, 9), (15, 16), (26, 27), (26, 27), (8, 9), (15, 16), (26, 27), (26, 27), (29, 30), (8, 9), (15, 16), (26, 27), (26, 27), (29, 30), (29, 30), (29, 30), (8, 9), (15, 16), (26, 27), (26, 27), (29, 30), (29, 30), (29, 30), (29, 30)])\n",
      "-------------------\n",
      "L: 26 R: 27\n",
      "M: []\n",
      "L: 26 R: 27\n",
      "M: []\n",
      "L: 8 R: 9\n",
      "M: []\n",
      "L: 15 R: 16\n",
      "M: [(15, '8')]\n",
      "('idx:', 15, 'num:', '8')\n",
      "('start_site:', 29, 'end_site:', 30)\n",
      "('SA[idx]:', 27, 'SA[end_site]:', 28)\n",
      "aqui\n",
      "('Extra_int:', [(8, 9), (15, 16), (26, 27), (26, 27), (8, 9), (15, 16), (26, 27), (26, 27), (29, 30), (8, 9), (15, 16), (26, 27), (26, 27), (29, 30), (29, 30), (29, 30), (8, 9), (15, 16), (26, 27), (26, 27), (29, 30), (29, 30), (29, 30), (29, 30), (29, 30)])\n",
      "-------------------\n",
      "L: 26 R: 27\n",
      "M: []\n",
      "L: 26 R: 27\n",
      "M: []\n",
      "L: 29 R: 30\n",
      "M: []\n",
      "L: 8 R: 9\n",
      "M: []\n",
      "L: 15 R: 16\n",
      "M: [(15, '8')]\n",
      "('idx:', 15, 'num:', '8')\n",
      "('start_site:', 29, 'end_site:', 30)\n",
      "('SA[idx]:', 27, 'SA[end_site]:', 28)\n",
      "aqui\n",
      "('Extra_int:', [(8, 9), (15, 16), (26, 27), (26, 27), (8, 9), (15, 16), (26, 27), (26, 27), (29, 30), (8, 9), (15, 16), (26, 27), (26, 27), (29, 30), (29, 30), (29, 30), (8, 9), (15, 16), (26, 27), (26, 27), (29, 30), (29, 30), (29, 30), (29, 30), (29, 30), (29, 30)])\n",
      "-------------------\n",
      "L: 26 R: 27\n",
      "M: []\n",
      "L: 26 R: 27\n",
      "M: []\n",
      "L: 29 R: 30\n",
      "M: []\n",
      "L: 29 R: 30\n",
      "M: []\n",
      "L: 29 R: 30\n",
      "M: []\n",
      "('SA_int:', set([(8, 9), (26, 27), (7, 13), (15, 16), (29, 30)]))\n",
      "===================================\n",
      "for l: 8 r: 9\n",
      "c: T\n",
      "for l: 26 r: 27\n",
      "c: T\n",
      "for l: 7 r: 13\n",
      "c: T\n",
      "for l: 15 r: 16\n",
      "c: T\n",
      "for l: 29 r: 30\n",
      "c: T\n",
      "===================================\n",
      "p[i]: T 24 25\n",
      "L: 7 R: 13\n",
      "M: [(9, '7'), (10, '5'), (12, '6')]\n",
      "('idx:', 9, 'num:', '7')\n",
      "('start_site:', 29, 'end_site:', 30)\n",
      "('SA[idx]:', 29, 'SA[end_site]:', 28)\n",
      "alelos\n",
      "(8, 9)\n",
      "alelos\n",
      "(15, 16)\n",
      "('Extra_int:', [(8, 9), (15, 16), (26, 27), (26, 27), (8, 9), (15, 16), (26, 27), (26, 27), (29, 30), (8, 9), (15, 16), (26, 27), (26, 27), (29, 30), (29, 30), (29, 30), (8, 9), (15, 16), (26, 27), (26, 27), (29, 30), (29, 30), (29, 30), (29, 30), (29, 30), (29, 30), (8, 9), (15, 16)])\n",
      "-------------------\n",
      "('idx:', 10, 'num:', '5')\n",
      "('start_site:', 26, 'end_site:', 25)\n",
      "('SA[idx]:', 6, 'SA[end_site]:', 19)\n",
      "aqui\n",
      "('Extra_int:', [(8, 9), (15, 16), (26, 27), (26, 27), (8, 9), (15, 16), (26, 27), (26, 27), (29, 30), (8, 9), (15, 16), (26, 27), (26, 27), (29, 30), (29, 30), (29, 30), (8, 9), (15, 16), (26, 27), (26, 27), (29, 30), (29, 30), (29, 30), (29, 30), (29, 30), (29, 30), (8, 9), (15, 16), (26, 27)])\n",
      "-------------------\n",
      "('idx:', 12, 'num:', '6')\n",
      "('start_site:', 26, 'end_site:', 25)\n",
      "('SA[idx]:', 18, 'SA[end_site]:', 19)\n",
      "aqui\n",
      "('Extra_int:', [(8, 9), (15, 16), (26, 27), (26, 27), (8, 9), (15, 16), (26, 27), (26, 27), (29, 30), (8, 9), (15, 16), (26, 27), (26, 27), (29, 30), (29, 30), (29, 30), (8, 9), (15, 16), (26, 27), (26, 27), (29, 30), (29, 30), (29, 30), (29, 30), (29, 30), (29, 30), (8, 9), (15, 16), (26, 27), (26, 27)])\n",
      "-------------------\n",
      "L: 8 R: 9\n",
      "M: []\n",
      "L: 15 R: 16\n",
      "M: [(15, '8')]\n",
      "('idx:', 15, 'num:', '8')\n",
      "('start_site:', 29, 'end_site:', 30)\n",
      "('SA[idx]:', 27, 'SA[end_site]:', 28)\n",
      "aqui\n",
      "('Extra_int:', [(8, 9), (15, 16), (26, 27), (26, 27), (8, 9), (15, 16), (26, 27), (26, 27), (29, 30), (8, 9), (15, 16), (26, 27), (26, 27), (29, 30), (29, 30), (29, 30), (8, 9), (15, 16), (26, 27), (26, 27), (29, 30), (29, 30), (29, 30), (29, 30), (29, 30), (29, 30), (8, 9), (15, 16), (26, 27), (26, 27), (29, 30)])\n",
      "-------------------\n",
      "L: 26 R: 27\n",
      "M: []\n",
      "L: 26 R: 27\n",
      "M: []\n",
      "L: 8 R: 9\n",
      "M: []\n",
      "L: 15 R: 16\n",
      "M: [(15, '8')]\n",
      "('idx:', 15, 'num:', '8')\n",
      "('start_site:', 29, 'end_site:', 30)\n",
      "('SA[idx]:', 27, 'SA[end_site]:', 28)\n",
      "aqui\n",
      "('Extra_int:', [(8, 9), (15, 16), (26, 27), (26, 27), (8, 9), (15, 16), (26, 27), (26, 27), (29, 30), (8, 9), (15, 16), (26, 27), (26, 27), (29, 30), (29, 30), (29, 30), (8, 9), (15, 16), (26, 27), (26, 27), (29, 30), (29, 30), (29, 30), (29, 30), (29, 30), (29, 30), (8, 9), (15, 16), (26, 27), (26, 27), (29, 30), (29, 30)])\n",
      "-------------------\n",
      "L: 26 R: 27\n",
      "M: []\n",
      "L: 26 R: 27\n",
      "M: []\n",
      "L: 8 R: 9\n",
      "M: []\n",
      "L: 15 R: 16\n",
      "M: [(15, '8')]\n",
      "('idx:', 15, 'num:', '8')\n",
      "('start_site:', 29, 'end_site:', 30)\n",
      "('SA[idx]:', 27, 'SA[end_site]:', 28)\n",
      "aqui\n",
      "('Extra_int:', [(8, 9), (15, 16), (26, 27), (26, 27), (8, 9), (15, 16), (26, 27), (26, 27), (29, 30), (8, 9), (15, 16), (26, 27), (26, 27), (29, 30), (29, 30), (29, 30), (8, 9), (15, 16), (26, 27), (26, 27), (29, 30), (29, 30), (29, 30), (29, 30), (29, 30), (29, 30), (8, 9), (15, 16), (26, 27), (26, 27), (29, 30), (29, 30), (29, 30)])\n",
      "-------------------\n",
      "L: 26 R: 27\n",
      "M: []\n",
      "L: 26 R: 27\n",
      "M: []\n",
      "L: 29 R: 30\n",
      "M: []\n",
      "L: 8 R: 9\n",
      "M: []\n",
      "L: 15 R: 16\n",
      "M: [(15, '8')]\n",
      "('idx:', 15, 'num:', '8')\n",
      "('start_site:', 29, 'end_site:', 30)\n",
      "('SA[idx]:', 27, 'SA[end_site]:', 28)\n",
      "aqui\n",
      "('Extra_int:', [(8, 9), (15, 16), (26, 27), (26, 27), (8, 9), (15, 16), (26, 27), (26, 27), (29, 30), (8, 9), (15, 16), (26, 27), (26, 27), (29, 30), (29, 30), (29, 30), (8, 9), (15, 16), (26, 27), (26, 27), (29, 30), (29, 30), (29, 30), (29, 30), (29, 30), (29, 30), (8, 9), (15, 16), (26, 27), (26, 27), (29, 30), (29, 30), (29, 30), (29, 30)])\n",
      "-------------------\n",
      "L: 26 R: 27\n",
      "M: []\n",
      "L: 26 R: 27\n",
      "M: []\n",
      "L: 8 R: 9\n",
      "M: []\n",
      "L: 15 R: 16\n",
      "M: [(15, '8')]\n",
      "('idx:', 15, 'num:', '8')\n",
      "('start_site:', 29, 'end_site:', 30)\n",
      "('SA[idx]:', 27, 'SA[end_site]:', 28)\n",
      "aqui\n",
      "('Extra_int:', [(8, 9), (15, 16), (26, 27), (26, 27), (8, 9), (15, 16), (26, 27), (26, 27), (29, 30), (8, 9), (15, 16), (26, 27), (26, 27), (29, 30), (29, 30), (29, 30), (8, 9), (15, 16), (26, 27), (26, 27), (29, 30), (29, 30), (29, 30), (29, 30), (29, 30), (29, 30), (8, 9), (15, 16), (26, 27), (26, 27), (29, 30), (29, 30), (29, 30), (29, 30), (29, 30)])\n",
      "-------------------\n",
      "L: 26 R: 27\n",
      "M: []\n",
      "L: 26 R: 27\n",
      "M: []\n",
      "L: 29 R: 30\n",
      "M: []\n",
      "L: 8 R: 9\n",
      "M: []\n",
      "L: 15 R: 16\n",
      "M: [(15, '8')]\n",
      "('idx:', 15, 'num:', '8')\n",
      "('start_site:', 29, 'end_site:', 30)\n",
      "('SA[idx]:', 27, 'SA[end_site]:', 28)\n",
      "aqui\n",
      "('Extra_int:', [(8, 9), (15, 16), (26, 27), (26, 27), (8, 9), (15, 16), (26, 27), (26, 27), (29, 30), (8, 9), (15, 16), (26, 27), (26, 27), (29, 30), (29, 30), (29, 30), (8, 9), (15, 16), (26, 27), (26, 27), (29, 30), (29, 30), (29, 30), (29, 30), (29, 30), (29, 30), (8, 9), (15, 16), (26, 27), (26, 27), (29, 30), (29, 30), (29, 30), (29, 30), (29, 30), (29, 30)])\n",
      "-------------------\n",
      "L: 26 R: 27\n",
      "M: []\n",
      "L: 26 R: 27\n",
      "M: []\n",
      "L: 29 R: 30\n",
      "M: []\n",
      "L: 29 R: 30\n",
      "M: []\n",
      "L: 29 R: 30\n",
      "M: []\n",
      "L: 8 R: 9\n",
      "M: []\n",
      "L: 15 R: 16\n",
      "M: [(15, '8')]\n",
      "('idx:', 15, 'num:', '8')\n",
      "('start_site:', 29, 'end_site:', 30)\n",
      "('SA[idx]:', 27, 'SA[end_site]:', 28)\n",
      "aqui\n",
      "('Extra_int:', [(8, 9), (15, 16), (26, 27), (26, 27), (8, 9), (15, 16), (26, 27), (26, 27), (29, 30), (8, 9), (15, 16), (26, 27), (26, 27), (29, 30), (29, 30), (29, 30), (8, 9), (15, 16), (26, 27), (26, 27), (29, 30), (29, 30), (29, 30), (29, 30), (29, 30), (29, 30), (8, 9), (15, 16), (26, 27), (26, 27), (29, 30), (29, 30), (29, 30), (29, 30), (29, 30), (29, 30), (29, 30)])\n",
      "-------------------\n",
      "L: 26 R: 27\n",
      "M: []\n",
      "L: 26 R: 27\n",
      "M: []\n",
      "L: 8 R: 9\n",
      "M: []\n",
      "L: 15 R: 16\n",
      "M: [(15, '8')]\n",
      "('idx:', 15, 'num:', '8')\n",
      "('start_site:', 29, 'end_site:', 30)\n",
      "('SA[idx]:', 27, 'SA[end_site]:', 28)\n",
      "aqui\n",
      "('Extra_int:', [(8, 9), (15, 16), (26, 27), (26, 27), (8, 9), (15, 16), (26, 27), (26, 27), (29, 30), (8, 9), (15, 16), (26, 27), (26, 27), (29, 30), (29, 30), (29, 30), (8, 9), (15, 16), (26, 27), (26, 27), (29, 30), (29, 30), (29, 30), (29, 30), (29, 30), (29, 30), (8, 9), (15, 16), (26, 27), (26, 27), (29, 30), (29, 30), (29, 30), (29, 30), (29, 30), (29, 30), (29, 30), (29, 30)])\n",
      "-------------------\n",
      "L: 26 R: 27\n",
      "M: []\n",
      "L: 26 R: 27\n",
      "M: []\n",
      "L: 29 R: 30\n",
      "M: []\n",
      "L: 8 R: 9\n",
      "M: []\n",
      "L: 15 R: 16\n",
      "M: [(15, '8')]\n",
      "('idx:', 15, 'num:', '8')\n",
      "('start_site:', 29, 'end_site:', 30)\n",
      "('SA[idx]:', 27, 'SA[end_site]:', 28)\n",
      "aqui\n",
      "('Extra_int:', [(8, 9), (15, 16), (26, 27), (26, 27), (8, 9), (15, 16), (26, 27), (26, 27), (29, 30), (8, 9), (15, 16), (26, 27), (26, 27), (29, 30), (29, 30), (29, 30), (8, 9), (15, 16), (26, 27), (26, 27), (29, 30), (29, 30), (29, 30), (29, 30), (29, 30), (29, 30), (8, 9), (15, 16), (26, 27), (26, 27), (29, 30), (29, 30), (29, 30), (29, 30), (29, 30), (29, 30), (29, 30), (29, 30), (29, 30)])\n",
      "-------------------\n",
      "L: 26 R: 27\n",
      "M: []\n",
      "L: 26 R: 27\n",
      "M: []\n",
      "L: 29 R: 30\n",
      "M: []\n",
      "L: 29 R: 30\n",
      "M: []\n",
      "L: 29 R: 30\n",
      "M: []\n",
      "L: 8 R: 9\n",
      "M: []\n",
      "L: 15 R: 16\n",
      "M: [(15, '8')]\n",
      "('idx:', 15, 'num:', '8')\n",
      "('start_site:', 29, 'end_site:', 30)\n",
      "('SA[idx]:', 27, 'SA[end_site]:', 28)\n",
      "aqui\n",
      "('Extra_int:', [(8, 9), (15, 16), (26, 27), (26, 27), (8, 9), (15, 16), (26, 27), (26, 27), (29, 30), (8, 9), (15, 16), (26, 27), (26, 27), (29, 30), (29, 30), (29, 30), (8, 9), (15, 16), (26, 27), (26, 27), (29, 30), (29, 30), (29, 30), (29, 30), (29, 30), (29, 30), (8, 9), (15, 16), (26, 27), (26, 27), (29, 30), (29, 30), (29, 30), (29, 30), (29, 30), (29, 30), (29, 30), (29, 30), (29, 30), (29, 30)])\n",
      "-------------------\n",
      "L: 26 R: 27\n",
      "M: []\n",
      "L: 26 R: 27\n",
      "M: []\n",
      "L: 29 R: 30\n",
      "M: []\n",
      "L: 29 R: 30\n",
      "M: []\n",
      "L: 29 R: 30\n",
      "M: []\n",
      "L: 29 R: 30\n",
      "M: []\n",
      "L: 29 R: 30\n",
      "M: []\n",
      "L: 29 R: 30\n",
      "M: []\n",
      "('SA_int:', set([(8, 9), (26, 27), (7, 13), (15, 16), (29, 30)]))\n",
      "===================================\n",
      "for l: 8 r: 9\n",
      "c: C\n",
      "for l: 26 r: 27\n",
      "c: C\n",
      "for l: 7 r: 13\n",
      "c: C\n",
      "for l: 15 r: 16\n",
      "c: C\n",
      "for l: 29 r: 30\n",
      "c: C\n",
      "===================================\n"
     ]
    },
    {
     "data": {
      "text/plain": [
       "(13, 13)"
      ]
     },
     "execution_count": 201,
     "metadata": {},
     "output_type": "execute_result"
    }
   ],
   "source": [
    "bwt_prg = bwtFromSa(toNumeric(prg))[0]\n",
    "#p = 'GTTATTTAC'\n",
    "p = '44412'\n",
    "countMatches(bwt_prg, p, suffixArray(toNumeric(prg)))\n",
    "#countMatchesAlex (bwt_prg, p)\n",
    "# bwt_prg"
   ]
  },
  {
   "cell_type": "code",
   "execution_count": 188,
   "metadata": {
    "collapsed": false
   },
   "outputs": [
    {
     "data": {
      "text/plain": [
       "[7,\n",
       " 31,\n",
       " 23,\n",
       " 13,\n",
       " 20,\n",
       " 3,\n",
       " 8,\n",
       " 24,\n",
       " 25,\n",
       " 16,\n",
       " 1,\n",
       " 11,\n",
       " 18,\n",
       " 30,\n",
       " 26,\n",
       " 14,\n",
       " 22,\n",
       " 0,\n",
       " 17,\n",
       " 29,\n",
       " 21,\n",
       " 28,\n",
       " 27,\n",
       " 4,\n",
       " 5,\n",
       " 2,\n",
       " 10,\n",
       " 12,\n",
       " 19,\n",
       " 6,\n",
       " 9,\n",
       " 15]"
      ]
     },
     "execution_count": 188,
     "metadata": {},
     "output_type": "execute_result"
    }
   ],
   "source": [
    "suffixArray(bwt_prg)"
   ]
  },
  {
   "cell_type": "code",
   "execution_count": 32,
   "metadata": {
    "collapsed": false
   },
   "outputs": [
    {
     "ename": "NameError",
     "evalue": "name 'bwtFromSs' is not defined",
     "output_type": "error",
     "traceback": [
      "\u001b[0;31m---------------------------------------------------------------------------\u001b[0m",
      "\u001b[0;31mNameError\u001b[0m                                 Traceback (most recent call last)",
      "\u001b[0;32m<ipython-input-32-705615ba509f>\u001b[0m in \u001b[0;36m<module>\u001b[0;34m()\u001b[0m\n\u001b[0;32m----> 1\u001b[0;31m \u001b[0mrange_search_2d\u001b[0m \u001b[0;34m(\u001b[0m\u001b[0mbwtFromSs\u001b[0m\u001b[0;34m(\u001b[0m\u001b[0mtoNumeric\u001b[0m\u001b[0;34m(\u001b[0m\u001b[0mprg\u001b[0m\u001b[0;34m)\u001b[0m\u001b[0;34m)\u001b[0m\u001b[0;34m)\u001b[0m\u001b[0;34m\u001b[0m\u001b[0m\n\u001b[0m",
      "\u001b[0;31mNameError\u001b[0m: name 'bwtFromSs' is not defined"
     ]
    }
   ],
   "source": [
    "range_search_2d (bwtFromSs(toNumeric(prg)))"
   ]
  },
  {
   "cell_type": "code",
   "execution_count": 34,
   "metadata": {
    "collapsed": true
   },
   "outputs": [],
   "source": [
    "def suffixArray(s):\n",
    "    ''' Given T return suffix array SA(T).  Uses \"sorted\"\n",
    "        function for simplicity, which is probably very slow. '''\n",
    "    satups = sorted([(s[i:], i) for i in xrange(0, len(s))])\n",
    "    return map(lambda x: x[1], satups) # extract, return just offsets\n",
    "\n",
    "def bwtFromSa(t, sa=None):\n",
    "    ''' Given T, returns BWT(T) by way of the suffix array. '''\n",
    "    bw = []\n",
    "    dollarRow = None\n",
    "    if sa is None:\n",
    "        sa = suffixArray(t)\n",
    "    for si in sa:\n",
    "        if si == 0:\n",
    "            dollarRow = len(bw)\n",
    "            bw.append('$')\n",
    "        else:\n",
    "            bw.append(t[si-1])\n",
    "    return (''.join(bw), dollarRow) # return string-ized version of list bw"
   ]
  },
  {
   "cell_type": "code",
   "execution_count": 159,
   "metadata": {
    "collapsed": true
   },
   "outputs": [],
   "source": [
    "class FmCheckpoints(object):\n",
    "    ''' Manages rank checkpoints and handles rank queries, which are\n",
    "        O(1) time, with the checkpoints taking O(m) space, where m is\n",
    "        length of text. '''\n",
    "    \n",
    "    def __init__(self, bw, cpIval=4):\n",
    "        ''' Scan BWT, creating periodic checkpoints as we go '''\n",
    "        self.cps = {}        # checkpoints\n",
    "        self.cpIval = cpIval # spacing between checkpoints\n",
    "        tally = {}           # tally so far\n",
    "        # Create an entry in tally dictionary and checkpoint map for\n",
    "        # each distinct character in text\n",
    "        for c in bw:\n",
    "            if c not in tally:\n",
    "                tally[c] = 0\n",
    "                self.cps[c] = []\n",
    "        # Now build the checkpoints\n",
    "        for i in xrange(0, len(bw)):\n",
    "            tally[bw[i]] += 1 # up to *and including*\n",
    "            if (i % cpIval) == 0:\n",
    "                for c in tally.iterkeys():\n",
    "                    self.cps[c].append(tally[c])\n",
    "    \n",
    "    def rank(self, bw, c, row):\n",
    "        ''' Return # c's there are in bw up to and including row '''\n",
    "        if row < 0 or c not in self.cps:\n",
    "            return 0\n",
    "        i, nocc = row, 0\n",
    "        # Always walk to left (up) when calculating rank\n",
    "        while (i % self.cpIval) != 0:\n",
    "            if bw[i] == c:\n",
    "                nocc += 1\n",
    "            i -= 1\n",
    "        return self.cps[c][i // self.cpIval] + nocc"
   ]
  },
  {
   "cell_type": "code",
   "execution_count": 160,
   "metadata": {
    "collapsed": true
   },
   "outputs": [],
   "source": [
    "st = 'teststring'\n",
    "#     0123456789\n",
    "cps = FmCheckpoints(st)"
   ]
  },
  {
   "cell_type": "code",
   "execution_count": 161,
   "metadata": {
    "collapsed": false
   },
   "outputs": [
    {
     "data": {
      "text/plain": [
       "[1, 1, 1, 2, 2, 3, 3, 3, 3, 3]"
      ]
     },
     "execution_count": 161,
     "metadata": {},
     "output_type": "execute_result"
    }
   ],
   "source": [
    "# should get back list of integers, where elt i gives\n",
    "# # times 't' appears up to and including offset i\n",
    "[ cps.rank(st, 't', i) for i in xrange(10) ]"
   ]
  },
  {
   "cell_type": "code",
   "execution_count": 163,
   "metadata": {
    "collapsed": false
   },
   "outputs": [
    {
     "data": {
      "text/plain": [
       "[0, 0, 0, 0, 0, 0, 0, 0, 0, 1]"
      ]
     },
     "execution_count": 163,
     "metadata": {},
     "output_type": "execute_result"
    }
   ],
   "source": [
    "# likewise for 'g'\n",
    "[ cps.rank(st, 'g', i) for i in xrange(10) ]"
   ]
  },
  {
   "cell_type": "code",
   "execution_count": 164,
   "metadata": {
    "collapsed": true
   },
   "outputs": [],
   "source": [
    "class FmIndex():\n",
    "    ''' O(m) size FM Index, where checkpoints and suffix array samples are\n",
    "        spaced O(1) elements apart.  Queries like count() and range() are\n",
    "        O(n) where n is the length of the query.  Finding all k\n",
    "        occurrences of a length-n query string takes O(n + k) time.\n",
    "        \n",
    "        Note: The spacings in the suffix array sample and checkpoints can\n",
    "        be chosen differently to achieve different bounds. '''\n",
    "    \n",
    "    @staticmethod\n",
    "    def downsampleSuffixArray(sa, n=4):\n",
    "        ''' Take only the suffix-array entries for every nth suffix.  Keep\n",
    "            suffixes at offsets 0, n, 2n, etc with respect to the text.\n",
    "            Return map from the rows to their suffix-array values. '''\n",
    "        ssa = {}\n",
    "        for i in xrange(0, len(sa)):\n",
    "            # We could use i % n instead of sa[i] % n, but we lose the\n",
    "            # constant-time guarantee for resolutions\n",
    "            if sa[i] % n == 0:\n",
    "                ssa[i] = sa[i]\n",
    "        return ssa\n",
    "    \n",
    "    def __init__(self, t, cpIval=4, ssaIval=4):\n",
    "        if t[-1] != '$':\n",
    "            t += '$' # add dollar if not there already\n",
    "        # Get BWT string and offset of $ within it\n",
    "        sa = suffixArray(t)\n",
    "        self.bwt, self.dollarRow = bwtFromSa(t, sa)\n",
    "        # Get downsampled suffix array, taking every 1 out of 'ssaIval'\n",
    "        # elements w/r/t T\n",
    "        self.ssa = self.downsampleSuffixArray(sa, ssaIval)\n",
    "        self.slen = len(self.bwt)\n",
    "        # Make rank checkpoints\n",
    "        self.cps = FmCheckpoints(self.bwt, cpIval)\n",
    "        # Calculate # occurrences of each character\n",
    "        tots = dict()\n",
    "        for c in self.bwt:\n",
    "            tots[c] = tots.get(c, 0) + 1\n",
    "        # Calculate concise representation of first column\n",
    "        self.first = {}\n",
    "        totc = 0\n",
    "        for c, count in sorted(tots.iteritems()):\n",
    "            self.first[c] = totc\n",
    "            totc += count\n",
    "    \n",
    "    def count(self, c):\n",
    "        ''' Return number of occurrences of characters < c '''\n",
    "        if c not in self.first:\n",
    "            # (Unusual) case where c does not occur in text\n",
    "            for cc in sorted(self.first.iterkeys()):\n",
    "                if c < cc: return self.first[cc]\n",
    "            return self.first[cc]\n",
    "        else:\n",
    "            return self.first[c]\n",
    "    \n",
    "    def range(self, p):\n",
    "        ''' Return range of BWM rows having p as a prefix '''\n",
    "        l, r = 0, self.slen - 1 # closed (inclusive) interval\n",
    "        for i in xrange(len(p)-1, -1, -1): # from right to left\n",
    "            l = self.cps.rank(self.bwt, p[i], l-1) + self.count(p[i])\n",
    "            r = self.cps.rank(self.bwt, p[i], r)   + self.count(p[i]) - 1\n",
    "            if r < l:\n",
    "                break\n",
    "        return l, r+1\n",
    "    \n",
    "    def resolve(self, row):\n",
    "        ''' Given BWM row, return its offset w/r/t T '''\n",
    "        def stepLeft(row):\n",
    "            ''' Step left according to character in given BWT row '''\n",
    "            c = self.bwt[row]\n",
    "            return self.cps.rank(self.bwt, c, row-1) + self.count(c)\n",
    "        nsteps = 0\n",
    "        while row not in self.ssa:\n",
    "            row = stepLeft(row)\n",
    "            nsteps += 1\n",
    "        return self.ssa[row] + nsteps\n",
    "    \n",
    "    def hasSubstring(self, p):\n",
    "        ''' Return true if and only if p is substring of indexed text '''\n",
    "        l, r = self.range(p)\n",
    "        return r > l\n",
    "    \n",
    "    def hasSuffix(self, p):\n",
    "        ''' Return true if and only if p is suffix of indexed text '''\n",
    "        l, r = self.range(p)\n",
    "        off = self.resolve(l)\n",
    "        return r > l and off + len(p) == self.slen-1\n",
    "    \n",
    "    def occurrences(self, p):\n",
    "        ''' Return offsets for all occurrences of p, in no particular order '''\n",
    "        l, r = self.range(p)\n",
    "        return [ self.resolve(x) for x in xrange(l, r) ]"
   ]
  },
  {
   "cell_type": "code",
   "execution_count": 165,
   "metadata": {
    "collapsed": true
   },
   "outputs": [],
   "source": [
    "fm = FmIndex('abaaba')"
   ]
  },
  {
   "cell_type": "code",
   "execution_count": 166,
   "metadata": {
    "collapsed": false
   },
   "outputs": [
    {
     "data": {
      "text/plain": [
       "True"
      ]
     },
     "execution_count": 166,
     "metadata": {},
     "output_type": "execute_result"
    }
   ],
   "source": [
    "fm.hasSubstring('aaba')"
   ]
  },
  {
   "cell_type": "code",
   "execution_count": 168,
   "metadata": {
    "collapsed": false
   },
   "outputs": [
    {
     "data": {
      "text/plain": [
       "False"
      ]
     },
     "execution_count": 168,
     "metadata": {},
     "output_type": "execute_result"
    }
   ],
   "source": [
    "fm.hasSubstring('aabb')"
   ]
  },
  {
   "cell_type": "code",
   "execution_count": 169,
   "metadata": {
    "collapsed": false
   },
   "outputs": [
    {
     "data": {
      "text/plain": [
       "(1, 5)"
      ]
     },
     "execution_count": 169,
     "metadata": {},
     "output_type": "execute_result"
    }
   ],
   "source": [
    "fm.range('a')"
   ]
  },
  {
   "cell_type": "code",
   "execution_count": 170,
   "metadata": {
    "collapsed": false
   },
   "outputs": [
    {
     "data": {
      "text/plain": [
       "(6, 7)"
      ]
     },
     "execution_count": 170,
     "metadata": {},
     "output_type": "execute_result"
    }
   ],
   "source": [
    "fm.range('baaba')"
   ]
  },
  {
   "cell_type": "code",
   "execution_count": 171,
   "metadata": {
    "collapsed": false
   },
   "outputs": [
    {
     "data": {
      "text/plain": [
       "True"
      ]
     },
     "execution_count": 171,
     "metadata": {},
     "output_type": "execute_result"
    }
   ],
   "source": [
    "p, t = \"CAT\", \"TTGTGTGCATGTTGTTTCATCATTTAGAGATACATTGCGCTGCATCATGGTCA\"\n",
    "#              01234567890123456789012345678901234567890123456789012\n",
    "# Occurrences:        *         *  *           *         *  *\n",
    "fm = FmIndex(t)\n",
    "matches = sorted(fm.occurrences(p))\n",
    "matches == [7, 17, 20, 32, 42, 45]"
   ]
  },
  {
   "cell_type": "code",
   "execution_count": null,
   "metadata": {
    "collapsed": true
   },
   "outputs": [],
   "source": []
  }
 ],
 "metadata": {
  "kernelspec": {
   "display_name": "Python 2",
   "language": "python",
   "name": "python2"
  },
  "language_info": {
   "codemirror_mode": {
    "name": "ipython",
    "version": 2
   },
   "file_extension": ".py",
   "mimetype": "text/x-python",
   "name": "python",
   "nbconvert_exporter": "python",
   "pygments_lexer": "ipython2",
   "version": "2.7.13"
  }
 },
 "nbformat": 4,
 "nbformat_minor": 0
}
