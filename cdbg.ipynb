{
 "cells": [
  {
   "cell_type": "markdown",
   "metadata": {},
   "source": [
    "#### Notebook Config"
   ]
  },
  {
   "cell_type": "code",
   "execution_count": 1,
   "metadata": {
    "collapsed": false
   },
   "outputs": [
    {
     "name": "stdout",
     "output_type": "stream",
     "text": [
      "Couldn't import dot_parser, loading of dot files will not be possible.\n"
     ]
    }
   ],
   "source": [
    "from IPython.core.display import display, HTML\n",
    "from string import Template\n",
    "import json, random\n",
    "import networkx as nx\n",
    "import numpy as np"
   ]
  },
  {
   "cell_type": "code",
   "execution_count": 2,
   "metadata": {
    "collapsed": false
   },
   "outputs": [
    {
     "name": "stderr",
     "output_type": "stream",
     "text": [
      "/opt/local/Library/Frameworks/Python.framework/Versions/2.7/lib/python2.7/site-packages/matplotlib/__init__.py:872: UserWarning: axes.color_cycle is deprecated and replaced with axes.prop_cycle; please use the latter.\n",
      "  warnings.warn(self.msg_depr % (key, alt_key))\n"
     ]
    }
   ],
   "source": [
    "%matplotlib inline\n",
    "import matplotlib.pyplot as plt\n",
    "plt.rcParams[\"figure.figsize\"] = (12,9)"
   ]
  },
  {
   "cell_type": "code",
   "execution_count": 3,
   "metadata": {
    "collapsed": false
   },
   "outputs": [],
   "source": [
    "# import sys\n",
    "# sys.path.append('/usr/local/lib/python2.7/site-packages')"
   ]
  },
  {
   "cell_type": "code",
   "execution_count": 4,
   "metadata": {
    "collapsed": false
   },
   "outputs": [
    {
     "data": {
      "text/html": [
       "<script src=\"lib/d3/d3.min.js\"></script>"
      ],
      "text/plain": [
       "<IPython.core.display.HTML object>"
      ]
     },
     "execution_count": 4,
     "metadata": {},
     "output_type": "execute_result"
    }
   ],
   "source": [
    "HTML('<script src=\"lib/d3/d3.min.js\"></script>')"
   ]
  },
  {
   "cell_type": "code",
   "execution_count": 5,
   "metadata": {
    "collapsed": true
   },
   "outputs": [],
   "source": [
    "def replace_nodes(G0, Ns, N0):\n",
    "    G0.add_node(N0, X=\"X\")\n",
    "\n",
    "    head = Ns[0]\n",
    "    tail = Ns[-1]\n",
    "    \n",
    "    p = G0.predecessors(Ns[0])\n",
    "    if len(p) == 1:\n",
    "        p = p[0]\n",
    "        G0.add_edge(p, N0)\n",
    "        \n",
    "    n = G0.successors(Ns[-1])\n",
    "    if len(n) == 1:\n",
    "        n = n[0]\n",
    "        G0.add_edge(N0, n)\n",
    "    \n",
    "    G0.remove_nodes_from(Ns)\n",
    "\n",
    "def reduce_graph(G0):\n",
    "    G1 = G0.copy()\n",
    "    G2 = G0.copy()\n",
    "    nodes_to_remove = []\n",
    "    for n in G1.nodes():\n",
    "        if len(G1.successors(n)) > 1 or len(G1.predecessors(n)) > 1:\n",
    "            if n[0] != \"^\" and n[-1] != \"$\":\n",
    "                nodes_to_remove.append(n)\n",
    "    G1.remove_nodes_from(nodes_to_remove)\n",
    "\n",
    "    for ns in nx.weakly_connected_components(G1):\n",
    "        ns = [n for n in ns if n[0] != \"^\" and n[-1] != \"$\"]\n",
    "        if len(ns) == 0: continue\n",
    "        contig = []\n",
    "        n_sorted = nx.topological_sort(G1, ns)\n",
    "        n_sorted = [n for n in n_sorted if n[0] != \"^\" and n[-1] != \"$\"]\n",
    "        if len(n_sorted) <= 1: continue\n",
    "\n",
    "        for kmer in n_sorted:\n",
    "            assert len(G1.successors(kmer)) <= 1\n",
    "            if len(contig) == 0:\n",
    "                contig.append(kmer)\n",
    "            else:\n",
    "                contig.append(kmer[-1])\n",
    "        replace_nodes(G2, n_sorted, \"\".join(contig))\n",
    "        \n",
    "    return G2"
   ]
  },
  {
   "cell_type": "markdown",
   "metadata": {},
   "source": [
    "Generate the JSON for the force layout."
   ]
  },
  {
   "cell_type": "code",
   "execution_count": 6,
   "metadata": {
    "collapsed": true
   },
   "outputs": [],
   "source": [
    "def get_group(w, w1):\n",
    "    c = 0\n",
    "    for c1, c2 in zip(w,w1):\n",
    "        if c1 == c2:\n",
    "            c += 1\n",
    "            continue\n",
    "        break\n",
    "    return c\n",
    "\n",
    "def set_g_json(seq, k, color, reduce_g = False):\n",
    "    G=nx.DiGraph()\n",
    "    #seq = \"^\"+seq+\"$\"\n",
    "    for i in range(len(seq)-k+1):\n",
    "        w1 = seq[i:i+k-1]\n",
    "        w2 = seq[i+1:i+k]\n",
    "        G.add_edge(w1, w2)\n",
    "    if reduce_g == True:\n",
    "        G = reduce_graph(G)\n",
    "    def generateD3JSONForG(G, color):\n",
    "        s = {\"nodes\":[], \"links\":[], \"linksInteger\":[]}\n",
    "        name2Idx = {}\n",
    "        c = 0\n",
    "        for n in G.nodes():\n",
    "            #print n\n",
    "            g = len(G.neighbors(n))\n",
    "            if \"^\" in n:\n",
    "                s[\"nodes\"].append({\"name\":n, \"group\":g, \"fixed\":True, \"x\":0,\"y\":150})\n",
    "            elif \"$\" in n:\n",
    "                s[\"nodes\"].append({\"name\":n, \"group\":g, \"fixed\":True, \"x\":850,\"y\":150})\n",
    "            else:\n",
    "                s[\"nodes\"].append({\"name\":n, \"group\":g})\n",
    "            name2Idx[n] = c\n",
    "            c += 1\n",
    "        for e in G.edges():\n",
    "            col = \"rgb(0,0,255)\"\n",
    "            width = 1\n",
    "            s[\"linksInteger\"].append({\"source\":name2Idx[e[0]], \"target\":name2Idx[e[1]], \"color\":col, \"width\":width})\n",
    "            s[\"links\"].append({\"source\": e[0], \"target\": e[1], \"type\": color, \"width\":width})\n",
    "#        return json.dumps(s)     \n",
    "        return(s)\n",
    "    n_json = generateD3JSONForG(G, color)\n",
    "    return n_json\n",
    "\n",
    "\n",
    "def buildDBG(seq, k, reduce_g = False):\n",
    "    G=nx.DiGraph()\n",
    "    #seq = \"^\"+seq+\"$\"\n",
    "    for i in range(len(seq)-k+1):\n",
    "        w1 = seq[i:i+k-1]\n",
    "        w2 = seq[i+1:i+k]\n",
    "        G.add_edge(w1, w2)\n",
    "    if reduce_g == True:\n",
    "        G = reduce_graph(G)\n",
    "    return G\n",
    "    #vis_cell.set_js_var(\"n_json\", n_json)\n",
    "   "
   ]
  },
  {
   "cell_type": "code",
   "execution_count": 7,
   "metadata": {
    "collapsed": false
   },
   "outputs": [],
   "source": [
    "dicSeqDummy1 = set_g_json(\"AATCGAGATAGA\",5, \"licensing\", reduce_g=True)\n",
    "dicSeqDummy2 = set_g_json(\"AATCGATATAGA\",5, \"suit\", reduce_g=True)"
   ]
  },
  {
   "cell_type": "markdown",
   "metadata": {},
   "source": [
    "#### CSS and JavaScript based on bl.ocks example"
   ]
  },
  {
   "cell_type": "markdown",
   "metadata": {},
   "source": [
    "Note that in the below css_text, we have removed the 'body' style reference from the original bl.ocks text. This is to avoid this style changing the rest of the notebook."
   ]
  },
  {
   "cell_type": "code",
   "execution_count": 8,
   "metadata": {
    "collapsed": true
   },
   "outputs": [],
   "source": [
    "css_text = '''\n",
    "path.link {\n",
    "  fill: none;\n",
    "  stroke: #666;\n",
    "  stroke-width: 1.5px;\n",
    "}\n",
    "\n",
    "marker#licensing {\n",
    "  fill: green;\n",
    "}\n",
    "\n",
    "path.link.licensing {\n",
    "  stroke: green;\n",
    "}\n",
    "\n",
    "path.link.resolved {\n",
    "  stroke-dasharray: 0,2 1;\n",
    "}\n",
    "\n",
    "circle {\n",
    "  fill: #ccc;\n",
    "  stroke: #333;\n",
    "  stroke-width: 1.5px;\n",
    "}\n",
    "\n",
    "text {\n",
    "  font: 10px sans-serif;\n",
    "  pointer-events: none;\n",
    "}\n",
    "\n",
    "text.shadow {\n",
    "  stroke: #fff;\n",
    "  stroke-width: 3px;\n",
    "  stroke-opacity: .8;\n",
    "}\n",
    "'''"
   ]
  },
  {
   "cell_type": "markdown",
   "metadata": {},
   "source": [
    "The javascript below was copied directly from the bl.ocks script text, and then six lines were changed, as noted by // **** (the double-backslash is a comment in javascript, so these lines will not be executed). The first set of changes is to the width and height of the image. The second change is simply to reference a different DOM element as the starting point. The remaining changes are to replace the data-file reading step with a direct infusion of data into the script. (Note that the $ characters denote replacement points in the Template object.) "
   ]
  },
  {
   "cell_type": "code",
   "execution_count": 9,
   "metadata": {
    "collapsed": true
   },
   "outputs": [],
   "source": [
    "js_text_template = Template('''\n",
    "var margin = {top: 20, right: 20, bottom: 30, left: 40},\n",
    "// ****    width = 960 - margin.left - margin.right, ****\n",
    "// ****    height = 500 - margin.top - margin.bottom; ****\n",
    "    width = 960 - margin.left - margin.right,\n",
    "    height = 375 - margin.top - margin.bottom;\n",
    "\n",
    "var x = d3.scale.linear()\n",
    "    .range([0, width]);\n",
    "\n",
    "var y = d3.scale.linear()\n",
    "    .range([height, 0]);\n",
    "\n",
    "var color = d3.scale.category10();\n",
    "\n",
    "var xAxis = d3.svg.axis()\n",
    "    .scale(x)\n",
    "    .orient(\"bottom\");\n",
    "\n",
    "var yAxis = d3.svg.axis()\n",
    "    .scale(y)\n",
    "    .orient(\"left\");\n",
    "\n",
    "// **** var svg = d3.select(\"body\").append(\"svg\") ****\n",
    "var svg = d3.select(\"#$graphdiv\").append(\"svg\")\n",
    "    .attr(\"width\", width + margin.left + margin.right)\n",
    "    .attr(\"height\", height + margin.top + margin.bottom)\n",
    "  .append(\"g\")\n",
    "    .attr(\"transform\", \"translate(\" + margin.left + \",\" + margin.top + \")\");\n",
    "\n",
    "// **** d3.tsv(\"data.tsv\", function(error, data) { ****\n",
    "// ****  if (error) throw error; ****\n",
    "\n",
    "var data = $python_data ;\n",
    "\n",
    "  data.forEach(function(d) {\n",
    "    d.sepalLength = +d.sepalLength;\n",
    "    d.sepalWidth = +d.sepalWidth;\n",
    "  });\n",
    "\n",
    "  x.domain(d3.extent(data, function(d) { return d.sepalWidth; })).nice();\n",
    "  y.domain(d3.extent(data, function(d) { return d.sepalLength; })).nice();\n",
    "\n",
    "  svg.append(\"g\")\n",
    "      .attr(\"class\", \"x axis\")\n",
    "      .attr(\"transform\", \"translate(0,\" + height + \")\")\n",
    "      .call(xAxis)\n",
    "    .append(\"text\")\n",
    "      .attr(\"class\", \"label\")\n",
    "      .attr(\"x\", width)\n",
    "      .attr(\"y\", -6)\n",
    "      .style(\"text-anchor\", \"end\")\n",
    "      .text(\"Sepal Width (cm)\");\n",
    "\n",
    "  svg.append(\"g\")\n",
    "      .attr(\"class\", \"y axis\")\n",
    "      .call(yAxis)\n",
    "    .append(\"text\")\n",
    "      .attr(\"class\", \"label\")\n",
    "      .attr(\"transform\", \"rotate(-90)\")\n",
    "      .attr(\"y\", 6)\n",
    "      .attr(\"dy\", \".71em\")\n",
    "      .style(\"text-anchor\", \"end\")\n",
    "      .text(\"Sepal Length (cm)\")\n",
    "\n",
    "  svg.selectAll(\".dot\")\n",
    "      .data(data)\n",
    "    .enter().append(\"circle\")\n",
    "      .attr(\"class\", \"dot\")\n",
    "      .attr(\"r\", 3.5)\n",
    "      .attr(\"cx\", function(d) { return x(d.sepalWidth); })\n",
    "      .attr(\"cy\", function(d) { return y(d.sepalLength); })\n",
    "      .style(\"fill\", function(d) { return color(d.species); });\n",
    "\n",
    "  var legend = svg.selectAll(\".legend\")\n",
    "      .data(color.domain())\n",
    "    .enter().append(\"g\")\n",
    "      .attr(\"class\", \"legend\")\n",
    "      .attr(\"transform\", function(d, i) { return \"translate(0,\" + i * 20 + \")\"; });\n",
    "\n",
    "  legend.append(\"rect\")\n",
    "      .attr(\"x\", width - 18)\n",
    "      .attr(\"width\", 18)\n",
    "      .attr(\"height\", 18)\n",
    "      .style(\"fill\", color);\n",
    "\n",
    "  legend.append(\"text\")\n",
    "      .attr(\"x\", width - 24)\n",
    "      .attr(\"y\", 9)\n",
    "      .attr(\"dy\", \".35em\")\n",
    "      .style(\"text-anchor\", \"end\")\n",
    "      .text(function(d) { return d; });\n",
    "\n",
    "// **** }); ****\n",
    "\n",
    "''')"
   ]
  },
  {
   "cell_type": "code",
   "execution_count": 10,
   "metadata": {
    "collapsed": true
   },
   "outputs": [],
   "source": [
    "js_text_template = Template('''\n",
    "\n",
    "// http://blog.thomsonreuters.com/index.php/mobile-patent-suits-graphic-of-the-day/\n",
    "var links = $python_data;\n",
    "\n",
    "//sort links by source, then target\n",
    "links.sort(function(a,b) {\n",
    "    if (a.source > b.source) {return 1;}\n",
    "    else if (a.source < b.source) {return -1;}\n",
    "    else {\n",
    "        if (a.target > b.target) {return 1;}\n",
    "        if (a.target < b.target) {return -1;}\n",
    "        else {return 0;}\n",
    "    }\n",
    "});\n",
    "\n",
    "//any links with duplicate source and target get an incremented 'linknum'\n",
    "for (var i=0; i<links.length; i++) {\n",
    "    if (i != 0 &&\n",
    "        links[i].source == links[i-1].source &&\n",
    "        links[i].target == links[i-1].target) {\n",
    "            links[i].linknum = links[i-1].linknum + 1;\n",
    "        }\n",
    "    else {links[i].linknum = 1;};\n",
    "};\n",
    "\n",
    "var nodes = {};\n",
    "\n",
    "// Compute the distinct nodes from the links.\n",
    "links.forEach(function(link) {\n",
    "  link.source = nodes[link.source] || (nodes[link.source] = {name: link.source});\n",
    "  link.target = nodes[link.target] || (nodes[link.target] = {name: link.target});\n",
    "});\n",
    "\n",
    "var w = 600,\n",
    "    h = 600;\n",
    "\n",
    "var force = d3.layout.force()\n",
    "    .nodes(d3.values(nodes))\n",
    "    .links(links)\n",
    "    .size([w, h])\n",
    "    .linkDistance(60)\n",
    "    .charge(-300)\n",
    "    .on(\"tick\", tick)\n",
    "    .start();\n",
    "\n",
    "var svg = d3.select(\"#$graphdiv\").append(\"svg\")\n",
    "    .attr(\"width\", w)\n",
    "    .attr(\"height\", h);\n",
    "\n",
    "// Per-type markers, as they don't inherit styles.\n",
    "svg.append(\"svg:defs\").selectAll(\"marker\")\n",
    "    .data([\"suit\", \"licensing\", \"resolved\"])\n",
    "  .enter().append(\"svg:marker\")\n",
    "    .attr(\"id\", String)\n",
    "    .attr(\"viewBox\", \"0 -5 10 10\")\n",
    "    .attr(\"refX\", 15)\n",
    "    .attr(\"refY\", -1.5)\n",
    "    .attr(\"markerWidth\", 6)\n",
    "    .attr(\"markerHeight\", 6)\n",
    "    .attr(\"orient\", \"auto\")\n",
    "  .append(\"svg:path\")\n",
    "    .attr(\"d\", \"M0,-5L10,0L0,5\");\n",
    "\n",
    "var path = svg.append(\"svg:g\").selectAll(\"path\")\n",
    "    .data(force.links())\n",
    "  .enter().append(\"svg:path\")\n",
    "    .attr(\"class\", function(d) { return \"link \" + d.type; })\n",
    "    .attr(\"marker-end\", function(d) { return \"url(#\" + d.type + \")\"; });\n",
    "\n",
    "var circle = svg.append(\"svg:g\").selectAll(\"circle\")\n",
    "    .data(force.nodes())\n",
    "  .enter().append(\"svg:circle\")\n",
    "    .attr(\"r\", 6)\n",
    "    .call(force.drag);\n",
    "\n",
    "var text = svg.append(\"svg:g\").selectAll(\"g\")\n",
    "    .data(force.nodes())\n",
    "  .enter().append(\"svg:g\");\n",
    "\n",
    "// A copy of the text with a thick white stroke for legibility.\n",
    "text.append(\"svg:text\")\n",
    "    .attr(\"x\", 8)\n",
    "    .attr(\"y\", \".31em\")\n",
    "    .attr(\"class\", \"shadow\")\n",
    "    .text(function(d) { return d.name; });\n",
    "\n",
    "text.append(\"svg:text\")\n",
    "    .attr(\"x\", 8)\n",
    "    .attr(\"y\", \".31em\")\n",
    "    .text(function(d) { return d.name; });\n",
    "\n",
    "// Use elliptical arc path segments to doubly-encode directionality.\n",
    "function tick() {\n",
    "  path.attr(\"d\", function(d) {\n",
    "    var dx = d.target.x - d.source.x,\n",
    "        dy = d.target.y - d.source.y,\n",
    "        dr = 75/d.linknum;  //linknum is defined above\n",
    "    return \"M\" + d.source.x + \",\" + d.source.y + \"A\" + dr + \",\" + dr + \" 0 0,1 \" + d.target.x + \",\" + d.target.y;\n",
    "  });\n",
    "\n",
    "  circle.attr(\"transform\", function(d) {\n",
    "    return \"translate(\" + d.x + \",\" + d.y + \")\";\n",
    "  });\n",
    "\n",
    "  text.attr(\"transform\", function(d) {\n",
    "    return \"translate(\" + d.x + \",\" + d.y + \")\";\n",
    "  });\n",
    "  \n",
    "}\n",
    "\n",
    "''')"
   ]
  },
  {
   "cell_type": "markdown",
   "metadata": {},
   "source": [
    "#### And finally, the viz"
   ]
  },
  {
   "cell_type": "markdown",
   "metadata": {},
   "source": [
    "## Typical structures in de bruijn graphs arising from genetic variantion."
   ]
  },
  {
   "cell_type": "markdown",
   "metadata": {},
   "source": [
    "# Simple SNP (clean bubble)"
   ]
  },
  {
   "cell_type": "markdown",
   "metadata": {},
   "source": [
    "The graph is a colored de bruijn graph containing 3 individuals. The sequence was broken down into 7-mers. This example shows a bubble of length k representing a clean SNP."
   ]
  },
  {
   "cell_type": "code",
   "execution_count": 11,
   "metadata": {
    "collapsed": true
   },
   "outputs": [],
   "source": [
    "# The yield MSA is represented bellow:\n",
    "#read_1          TACACGTCGGCACATCGGATACA\n",
    "#read_2          TACACGTCTGCACATCG------\n",
    "#ref             TACACGTCAGCACATCGGATACA\n",
    "#                ******** *******    "
   ]
  },
  {
   "cell_type": "markdown",
   "metadata": {
    "collapsed": true
   },
   "source": [
    "dicSeqDummy1 = set_g_json(\"TACACGTCGGCACATCG\",8, \"licensing\")\n",
    "dicSeqDummy2 = set_g_json(\"TACACGTCTGCACATCG\",8, \"suit\")\n",
    "dicSeqRef =    set_g_json(\"TACACGTCAGCACATCG\",8, \"resolved\")"
   ]
  },
  {
   "cell_type": "markdown",
   "metadata": {},
   "source": [
    "### Effects of branching bubbles in graph\n",
    "\n",
    "In discoSNP paper the authors showed four possible branching bubbles."
   ]
  },
  {
   "cell_type": "markdown",
   "metadata": {},
   "source": [
    "![](images/discosnp.png)"
   ]
  },
  {
   "cell_type": "markdown",
   "metadata": {},
   "source": [
    "The first case that we're checking is related to non-symetrically branching bubbles. The sequences used to demonstrate the graph are not the same as the sequences used in figure bellow.\n",
    "\n",
    "We have three paths corresponding to first bubble (top and bottom path) and branching bubble (higher top path) mimic figure 3(a)."
   ]
  },
  {
   "cell_type": "code",
   "execution_count": 184,
   "metadata": {
    "collapsed": true
   },
   "outputs": [],
   "source": [
    "# \"TACACGTCGGCACATCG\",\"TACACGTCTGCACATCG\",\"TACACGTCTTCACATCG\"\n",
    "# Check variant in position 9 -----** and a second variant in position 10 branching from two alleles (Dummy1 and Dummy3)\n",
    "# The Dummy1 is colored in green and Dummy2 has black line while branching variants are dashed lines\n",
    "dicSeqDummy1 = set_g_json(\"TACACGTCGGCACATCG\",7, \"licensing\")\n",
    "dicSeqDummy2 = set_g_json(\"TACACGTCTGCACATCG\",7, \"suit\")\n",
    "dicSeqRef =    set_g_json(\"TACACGTCGTCACATCG\",7, \"resolved\")"
   ]
  },
  {
   "cell_type": "code",
   "execution_count": 185,
   "metadata": {
    "collapsed": false
   },
   "outputs": [],
   "source": [
    "dataDummy1 = dicSeqDummy1['links']\n",
    "dataDummy2 = dicSeqDummy2['links']\n",
    "dataRef = dicSeqRef['links']\n",
    "\n",
    "data = json.dumps(dataDummy1 + dataDummy2 + dataRef)"
   ]
  },
  {
   "cell_type": "markdown",
   "metadata": {
    "collapsed": false
   },
   "source": [
    "fake = set_g_json(\"ACGTACGTTGTGCAGTAGTAGTAGT\",5,\"licensing\")\n",
    "data = json.dumps(fake['links'])"
   ]
  },
  {
   "cell_type": "code",
   "execution_count": 186,
   "metadata": {
    "collapsed": false
   },
   "outputs": [
    {
     "data": {
      "text/html": [
       "\n",
       "<style> \n",
       "path.link {\n",
       "  fill: none;\n",
       "  stroke: #666;\n",
       "  stroke-width: 1.5px;\n",
       "}\n",
       "\n",
       "marker#licensing {\n",
       "  fill: green;\n",
       "}\n",
       "\n",
       "path.link.licensing {\n",
       "  stroke: green;\n",
       "}\n",
       "\n",
       "path.link.resolved {\n",
       "  stroke-dasharray: 0,2 1;\n",
       "}\n",
       "\n",
       "circle {\n",
       "  fill: #ccc;\n",
       "  stroke: #333;\n",
       "  stroke-width: 1.5px;\n",
       "}\n",
       "\n",
       "text {\n",
       "  font: 10px sans-serif;\n",
       "  pointer-events: none;\n",
       "}\n",
       "\n",
       "text.shadow {\n",
       "  stroke: #fff;\n",
       "  stroke-width: 3px;\n",
       "  stroke-opacity: .8;\n",
       "}\n",
       " </style>\n",
       "<div id=\"graph-div\"></div>\n",
       "<script> \n",
       "\n",
       "// http://blog.thomsonreuters.com/index.php/mobile-patent-suits-graphic-of-the-day/\n",
       "var links = [{\"source\": \"ACGTCG\", \"type\": \"licensing\", \"target\": \"CGTCGG\", \"width\": 1}, {\"source\": \"CGGCAC\", \"type\": \"licensing\", \"target\": \"GGCACA\", \"width\": 1}, {\"source\": \"CGTCGG\", \"type\": \"licensing\", \"target\": \"GTCGGC\", \"width\": 1}, {\"source\": \"CACGTC\", \"type\": \"licensing\", \"target\": \"ACGTCG\", \"width\": 1}, {\"source\": \"CACATC\", \"type\": \"licensing\", \"target\": \"ACATCG\", \"width\": 1}, {\"source\": \"ACACGT\", \"type\": \"licensing\", \"target\": \"CACGTC\", \"width\": 1}, {\"source\": \"GGCACA\", \"type\": \"licensing\", \"target\": \"GCACAT\", \"width\": 1}, {\"source\": \"TCGGCA\", \"type\": \"licensing\", \"target\": \"CGGCAC\", \"width\": 1}, {\"source\": \"GTCGGC\", \"type\": \"licensing\", \"target\": \"TCGGCA\", \"width\": 1}, {\"source\": \"GCACAT\", \"type\": \"licensing\", \"target\": \"CACATC\", \"width\": 1}, {\"source\": \"TACACG\", \"type\": \"licensing\", \"target\": \"ACACGT\", \"width\": 1}, {\"source\": \"TCTGCA\", \"type\": \"suit\", \"target\": \"CTGCAC\", \"width\": 1}, {\"source\": \"CACGTC\", \"type\": \"suit\", \"target\": \"ACGTCT\", \"width\": 1}, {\"source\": \"CACATC\", \"type\": \"suit\", \"target\": \"ACATCG\", \"width\": 1}, {\"source\": \"ACACGT\", \"type\": \"suit\", \"target\": \"CACGTC\", \"width\": 1}, {\"source\": \"CTGCAC\", \"type\": \"suit\", \"target\": \"TGCACA\", \"width\": 1}, {\"source\": \"GCACAT\", \"type\": \"suit\", \"target\": \"CACATC\", \"width\": 1}, {\"source\": \"ACGTCT\", \"type\": \"suit\", \"target\": \"CGTCTG\", \"width\": 1}, {\"source\": \"GTCTGC\", \"type\": \"suit\", \"target\": \"TCTGCA\", \"width\": 1}, {\"source\": \"TGCACA\", \"type\": \"suit\", \"target\": \"GCACAT\", \"width\": 1}, {\"source\": \"CGTCTG\", \"type\": \"suit\", \"target\": \"GTCTGC\", \"width\": 1}, {\"source\": \"TACACG\", \"type\": \"suit\", \"target\": \"ACACGT\", \"width\": 1}, {\"source\": \"TCGTCA\", \"type\": \"resolved\", \"target\": \"CGTCAC\", \"width\": 1}, {\"source\": \"ACGTCG\", \"type\": \"resolved\", \"target\": \"CGTCGT\", \"width\": 1}, {\"source\": \"GTCGTC\", \"type\": \"resolved\", \"target\": \"TCGTCA\", \"width\": 1}, {\"source\": \"CACGTC\", \"type\": \"resolved\", \"target\": \"ACGTCG\", \"width\": 1}, {\"source\": \"CACATC\", \"type\": \"resolved\", \"target\": \"ACATCG\", \"width\": 1}, {\"source\": \"ACACGT\", \"type\": \"resolved\", \"target\": \"CACGTC\", \"width\": 1}, {\"source\": \"GTCACA\", \"type\": \"resolved\", \"target\": \"TCACAT\", \"width\": 1}, {\"source\": \"CGTCGT\", \"type\": \"resolved\", \"target\": \"GTCGTC\", \"width\": 1}, {\"source\": \"CGTCAC\", \"type\": \"resolved\", \"target\": \"GTCACA\", \"width\": 1}, {\"source\": \"TACACG\", \"type\": \"resolved\", \"target\": \"ACACGT\", \"width\": 1}, {\"source\": \"TCACAT\", \"type\": \"resolved\", \"target\": \"CACATC\", \"width\": 1}];\n",
       "\n",
       "//sort links by source, then target\n",
       "links.sort(function(a,b) {\n",
       "    if (a.source > b.source) {return 1;}\n",
       "    else if (a.source < b.source) {return -1;}\n",
       "    else {\n",
       "        if (a.target > b.target) {return 1;}\n",
       "        if (a.target < b.target) {return -1;}\n",
       "        else {return 0;}\n",
       "    }\n",
       "});\n",
       "\n",
       "//any links with duplicate source and target get an incremented 'linknum'\n",
       "for (var i=0; i<links.length; i++) {\n",
       "    if (i != 0 &&\n",
       "        links[i].source == links[i-1].source &&\n",
       "        links[i].target == links[i-1].target) {\n",
       "            links[i].linknum = links[i-1].linknum + 1;\n",
       "        }\n",
       "    else {links[i].linknum = 1;};\n",
       "};\n",
       "\n",
       "var nodes = {};\n",
       "\n",
       "// Compute the distinct nodes from the links.\n",
       "links.forEach(function(link) {\n",
       "  link.source = nodes[link.source] || (nodes[link.source] = {name: link.source});\n",
       "  link.target = nodes[link.target] || (nodes[link.target] = {name: link.target});\n",
       "});\n",
       "\n",
       "var w = 600,\n",
       "    h = 600;\n",
       "\n",
       "var force = d3.layout.force()\n",
       "    .nodes(d3.values(nodes))\n",
       "    .links(links)\n",
       "    .size([w, h])\n",
       "    .linkDistance(60)\n",
       "    .charge(-300)\n",
       "    .on(\"tick\", tick)\n",
       "    .start();\n",
       "\n",
       "var svg = d3.select(\"#graph-div\").append(\"svg\")\n",
       "    .attr(\"width\", w)\n",
       "    .attr(\"height\", h);\n",
       "\n",
       "// Per-type markers, as they don't inherit styles.\n",
       "svg.append(\"svg:defs\").selectAll(\"marker\")\n",
       "    .data([\"suit\", \"licensing\", \"resolved\"])\n",
       "  .enter().append(\"svg:marker\")\n",
       "    .attr(\"id\", String)\n",
       "    .attr(\"viewBox\", \"0 -5 10 10\")\n",
       "    .attr(\"refX\", 15)\n",
       "    .attr(\"refY\", -1.5)\n",
       "    .attr(\"markerWidth\", 6)\n",
       "    .attr(\"markerHeight\", 6)\n",
       "    .attr(\"orient\", \"auto\")\n",
       "  .append(\"svg:path\")\n",
       "    .attr(\"d\", \"M0,-5L10,0L0,5\");\n",
       "\n",
       "var path = svg.append(\"svg:g\").selectAll(\"path\")\n",
       "    .data(force.links())\n",
       "  .enter().append(\"svg:path\")\n",
       "    .attr(\"class\", function(d) { return \"link \" + d.type; })\n",
       "    .attr(\"marker-end\", function(d) { return \"url(#\" + d.type + \")\"; });\n",
       "\n",
       "var circle = svg.append(\"svg:g\").selectAll(\"circle\")\n",
       "    .data(force.nodes())\n",
       "  .enter().append(\"svg:circle\")\n",
       "    .attr(\"r\", 6)\n",
       "    .call(force.drag);\n",
       "\n",
       "var text = svg.append(\"svg:g\").selectAll(\"g\")\n",
       "    .data(force.nodes())\n",
       "  .enter().append(\"svg:g\");\n",
       "\n",
       "// A copy of the text with a thick white stroke for legibility.\n",
       "text.append(\"svg:text\")\n",
       "    .attr(\"x\", 8)\n",
       "    .attr(\"y\", \".31em\")\n",
       "    .attr(\"class\", \"shadow\")\n",
       "    .text(function(d) { return d.name; });\n",
       "\n",
       "text.append(\"svg:text\")\n",
       "    .attr(\"x\", 8)\n",
       "    .attr(\"y\", \".31em\")\n",
       "    .text(function(d) { return d.name; });\n",
       "\n",
       "// Use elliptical arc path segments to doubly-encode directionality.\n",
       "function tick() {\n",
       "  path.attr(\"d\", function(d) {\n",
       "    var dx = d.target.x - d.source.x,\n",
       "        dy = d.target.y - d.source.y,\n",
       "        dr = 75/d.linknum;  //linknum is defined above\n",
       "    return \"M\" + d.source.x + \",\" + d.source.y + \"A\" + dr + \",\" + dr + \" 0 0,1 \" + d.target.x + \",\" + d.target.y;\n",
       "  });\n",
       "\n",
       "  circle.attr(\"transform\", function(d) {\n",
       "    return \"translate(\" + d.x + \",\" + d.y + \")\";\n",
       "  });\n",
       "\n",
       "  text.attr(\"transform\", function(d) {\n",
       "    return \"translate(\" + d.x + \",\" + d.y + \")\";\n",
       "  });\n",
       "  \n",
       "}\n",
       "\n",
       " </script>\n"
      ],
      "text/plain": [
       "<IPython.core.display.HTML object>"
      ]
     },
     "execution_count": 186,
     "metadata": {},
     "output_type": "execute_result"
    }
   ],
   "source": [
    "html_template = Template('''\n",
    "<style> $css_text </style>\n",
    "<div id=\"graph-div\"></div>\n",
    "<script> $js_text </script>\n",
    "''')\n",
    "js_text = js_text_template.substitute({'graphdiv': 'graph-div', 'python_data': data})\n",
    "HTML(html_template.substitute({'css_text': css_text, 'js_text': js_text}))"
   ]
  },
  {
   "cell_type": "code",
   "execution_count": 15,
   "metadata": {
    "collapsed": true
   },
   "outputs": [],
   "source": [
    "GA = buildDBG(\"TACACGTCGGCACATCG\"+\"TACACGTCTGCACATCG\", 7)\n",
    "adj = nx.to_numpy_matrix(GA)"
   ]
  },
  {
   "cell_type": "markdown",
   "metadata": {},
   "source": [
    "## Graph Entropy"
   ]
  },
  {
   "cell_type": "markdown",
   "metadata": {},
   "source": [
    "### Tutzauer metric"
   ]
  },
  {
   "cell_type": "markdown",
   "metadata": {},
   "source": [
    "Given the example in Tutzauer (2007) showing the gang alliance network with a undirected graph lets implement the functions to measure its entropy. The nodes in the graph have the same name as in authors paper."
   ]
  },
  {
   "cell_type": "code",
   "execution_count": 16,
   "metadata": {
    "collapsed": false
   },
   "outputs": [],
   "source": [
    "G = nx.Graph()\n",
    "G.add_edge(1,2)\n",
    "G.add_edge(2,3)\n",
    "G.add_edge(3,5)\n",
    "G.add_edge(5,4)\n",
    "G.add_edge(5,6)\n",
    "G.add_edge(6,7)\n",
    "G.add_edge(7,10)\n",
    "G.add_edge(7,8)\n",
    "G.add_edge(8,10)\n",
    "G.add_edge(8,9)\n",
    "G.add_edge(9,10)\n",
    "G.add_edge(10,11)"
   ]
  },
  {
   "cell_type": "markdown",
   "metadata": {},
   "source": [
    "![](images/tutzauer-graph.png)"
   ]
  },
  {
   "cell_type": "code",
   "execution_count": 17,
   "metadata": {
    "collapsed": false
   },
   "outputs": [],
   "source": [
    "def downstream_degree(node, path, G):\n",
    "    \"\"\"\n",
    "    Finds the downstream degree D(vt) of node vt.\n",
    "    It is the total number of edges incident with vt (i.e., its degree)\n",
    "    subtracted from total number of edges incident with\n",
    "    vertices appearing earlier in path (Tutzauer, 2007)\n",
    "    \n",
    "    Params:\n",
    "    --------\n",
    "    \n",
    "    G    : graph (undirected graph)\n",
    "    node : query node object\n",
    "    path : list that contains the name of nodes forming a path\n",
    "    \n",
    "    Returns:\n",
    "    --------\n",
    "    \n",
    "    The downstream (D(vt)) degree of input node\n",
    "    \n",
    "    \"\"\"\n",
    "    nodeDegree = G.degree(node)\n",
    "    idx = [item for item in range(len(path)) if path[item] == node][0]\n",
    "    n=0\n",
    "    sumPre = 0\n",
    "    while(node != path[n]):\n",
    "        if G.has_edge(path[n],node):\n",
    "            sumPre += 1\n",
    "        n+=1\n",
    "    return nodeDegree - sumPre + 1\n",
    "\n",
    "def find_all_paths2(graph, start, end, vn = []):\n",
    "        \"\"\" \n",
    "        Finds all paths between nodes start and end in graph.\n",
    "        If any node on such a path is within vn, the path is not         \n",
    "        returned.\n",
    "        !! start and end node can't be in the vn list !!\n",
    "\n",
    "        Params:\n",
    "        --------\n",
    "\n",
    "        G : igraph graph\n",
    "\n",
    "        start: start node index\n",
    "\n",
    "        end : end node index\n",
    "\n",
    "        vn : list of via- or stop-nodes indices\n",
    "\n",
    "        Returns:\n",
    "        --------\n",
    "\n",
    "        A list of paths (node index lists) between start and end node\n",
    "        \"\"\"\n",
    "        vn = vn if type(vn) is list else [vn]\n",
    "        path  = []\n",
    "        paths = []\n",
    "        queue = [(start, end, path)]\n",
    "        while queue:\n",
    "            start, end, path = queue.pop()\n",
    "            #print 'PATH', path\n",
    "            path = path + [start]\n",
    "            #print 'PATH after adding start ', path\n",
    "            if start in vn:\n",
    "               # print start,' is in vianodes ',str(vn)\n",
    "                pass #paths.append(path)\n",
    "            if start == end:\n",
    "               # print 'end'\n",
    "                paths.append(path)\n",
    "            #print graph.neighbors(start)\n",
    "            if start not in vn:\n",
    "               # print start,' not in vianodes ',str(vn)\n",
    "                for node in set(graph.neighbors(start)).difference(path):\n",
    "                    queue.append((node, end, path))\n",
    "        return paths\n",
    "    \n",
    "def pij(nodeBegin, nodeEnd, G):\n",
    "    \"\"\" \n",
    "    Calculates the entropy of every path between a specified start\n",
    "    and end node (i.e, nodeBegin and nodeEnd). The entropy of a path P\n",
    "    is the multiplication of every node transfer probability which is \n",
    "    the inverse of downstream edge (1/D(vt) that traverses P. \n",
    "    path is \n",
    "\n",
    "    Params:\n",
    "    --------\n",
    "\n",
    "    G : undirected Graph\n",
    "\n",
    "    nodeBegin: start node object\n",
    "\n",
    "    nodeEng : end node object\n",
    "\n",
    "    Returns:\n",
    "    --------\n",
    "\n",
    "    The path probabilities summed across the K(i,j) paths from i to j given\n",
    "    that the stop probability sigma is 1/D(vt)\n",
    "    \"\"\"\n",
    "    pij = 0\n",
    "    paths = find_all_paths2(G,nodeBegin,nodeEnd,[])\n",
    "    for p in paths:\n",
    "        #print(p)\n",
    "        pij_p = 1\n",
    "        for n in p:\n",
    "            pij_p = pij_p * downstream_degree(n,p,G)\n",
    "        #print(pij_p)\n",
    "        pij += 1./pij_p\n",
    "    #print \"PIJ: \", pij\n",
    "    return pij\n",
    "\n",
    "def path_transfer(node, G):\n",
    "    \"\"\" \n",
    "    Finds the path-transfer centrality of node given\n",
    "    the graph G\n",
    "\n",
    "    Params:\n",
    "    --------\n",
    "\n",
    "    G : undirected Graph\n",
    "\n",
    "    node : query node (vt)\n",
    "\n",
    "    Returns:\n",
    "    --------\n",
    "\n",
    "    The path-transfer centrality C_H(vt)\n",
    "    \"\"\"\n",
    "    ch =0\n",
    "    for n in nx.nodes(G):\n",
    "        p_in = pij(node, n, G)\n",
    "        if p_in != 0:\n",
    "            ch -= (p_in * np.log2(p_in))\n",
    "    return ch\n",
    "    "
   ]
  },
  {
   "cell_type": "code",
   "execution_count": 18,
   "metadata": {
    "collapsed": false
   },
   "outputs": [
    {
     "name": "stdout",
     "output_type": "stream",
     "text": [
      "3.02828722796\n"
     ]
    }
   ],
   "source": [
    "print path_transfer(6,G)"
   ]
  },
  {
   "cell_type": "markdown",
   "metadata": {},
   "source": [
    "Showing a more general example (section 6) of Tutzauer, et al 2007 paper. Its a modification taking the earlier graph and turning it into a directed graph and a unconected hub (nodes 12, 13, 14, 15). You can see the resulting digraph bellow.\n",
    "\n",
    "![](images/tutzauer-digraph.png)"
   ]
  },
  {
   "cell_type": "code",
   "execution_count": 19,
   "metadata": {
    "collapsed": true
   },
   "outputs": [],
   "source": [
    "G=nx.DiGraph()\n",
    "\n",
    "G.add_edge(1,2,weight=1)\n",
    "G.add_edge(2,1,weight=2)\n",
    "G.add_edge(2,3,weight=2)\n",
    "G.add_edge(3,2,weight=3)\n",
    "G.add_edge(3,5,weight=2)\n",
    "G.add_edge(5,4,weight=8)\n",
    "G.add_edge(5,6,weight=9)\n",
    "G.add_edge(7,6,weight=4)\n",
    "G.add_edge(7,8,weight=4)\n",
    "G.add_edge(8,9,weight=1)\n",
    "G.add_edge(9,10,weight=2)\n",
    "G.add_edge(8,10,weight=3)\n",
    "G.add_edge(10,7,weight=5)\n",
    "G.add_edge(10,11,weight=8)\n",
    "G.add_edge(12,13,weight=3)\n",
    "G.add_edge(13,14,weight=1)\n",
    "G.add_edge(14,12,weight=2)\n",
    "G.add_edge(15,14,weight=4)\n",
    "G.add_edge(14,16,weight=4)\n",
    "\n"
   ]
  },
  {
   "cell_type": "code",
   "execution_count": 20,
   "metadata": {
    "collapsed": false
   },
   "outputs": [],
   "source": [
    "def downstream_degree_DAG(node,path, G, w=None):\n",
    "    \"\"\"\n",
    "    Finds the downstream degree D(vt) of node vt.\n",
    "    It us tge total number of edges incident with vt (i.e., its degree)\n",
    "    subtract from total number of edges incident with\n",
    "    vertices appearing earlier in path\n",
    "    \"\"\"\n",
    "     \n",
    "    nodeDegree = G.out_degree(node, weight=w)\n",
    "    idx = [item for item in range(len(path)) if path[item] == node][0]\n",
    "    n=0\n",
    "    sumPre = nodeDegree\n",
    "    in_nodes = [i for i,o in G.in_edges(node)]\n",
    "    out_nodes = [j for ni,j in G.out_edges(node)]\n",
    "    print \"out: \", out_nodes\n",
    "    pij=1\n",
    "    while(n <= idx): # the path must be sorted in topological order\n",
    "        if (path[n] == node):\n",
    "            if (len(path) != 1):\n",
    "                if (idx < len(path)-1):\n",
    "                    weight_j = G.get_edge_data(node, path[n+1], default=0)\n",
    "                    if weight_j != 0:\n",
    "                        numerator = float(weight_j[w])\n",
    "                else:\n",
    "                        return (1.0,nodeDegree,\"sigma\")\n",
    "            else:\n",
    "                #if (n == 0) and (len(out_nodes) == 0):\n",
    "                if (n == 0) and (len(out_nodes) == 0):\n",
    "                    return (0,0,0)\n",
    "                else:\n",
    "                    numerator = 1.0\n",
    "        if path[n] != node:\n",
    "            if path[n] in in_nodes:\n",
    "                #sumPre -= G.get_edge_data(node, path[n], default=0)\n",
    "                weight = G.get_edge_data(path[n], node, default=0)\n",
    "                if weight != 0:\n",
    "                    sumPre -= weight[w]\n",
    "        n+=1\n",
    "    return (numerator, nodeDegree, sumPre )\n",
    "\n",
    "def sigma(node, D, G):\n",
    "    if D == 0:\n",
    "        return 1\n",
    "    else:\n",
    "        a_vt = 1.0\n",
    "        return (a_vt/D)\n",
    "    \n",
    "#     print \"out_nodes:\", out_nodes\n",
    "#     if nodej in out_nodes:\n",
    "#         weight_j = G.get_edge_data(node, nodej, default=0)\n",
    "#         wj = weight_j[w]\n",
    "#         return (float(wj),sumPre,nodeDegree)\n",
    "#     else:\n",
    "#         return (1., sumPre,nodeDegree)\n",
    "\n",
    "    \n",
    "    \n",
    "\n",
    "def pij(nodeBegin, nodeEnd, G):\n",
    "    pij = 0\n",
    "    paths = find_all_paths2(G,nodeBegin,nodeEnd,[])\n",
    "    for p in paths:\n",
    "        print \"PATH: \", p\n",
    "        pij_p = 1\n",
    "        for n in xrange(len(p)):\n",
    "            numerator, D, _ = downstream_degree_DAG(p[n],p,G,w='weight')\n",
    "            print numerator, D\n",
    "            # last node\n",
    "            if n == (len(p)-1):\n",
    "                print \"ultimo no testado: \", p[n]\n",
    "                #if (D == 4) or (D==0):\n",
    "                if (D==0):\n",
    "                    pij_p *= 1\n",
    "                else:\n",
    "                    pij_p *= (numerator/D)\n",
    "            else:\n",
    "                print \"no testado: \", p[n]\n",
    "                tal_k = numerator/D\n",
    "                pij_p *= tal_k\n",
    "        print(\"pij_p:\", pij_p)\n",
    "        #pij += 1./pij_p\n",
    "        pij += pij_p\n",
    "    print \"PIJ: \", pij\n",
    "    return pij\n",
    "\n",
    "def path_transfer(node, G):\n",
    "    ch =0\n",
    "    for n in nx.nodes(G):\n",
    "        p_in_for = pij(node, n, G)\n",
    "        #p_in_inv = pij(n, node, G)\n",
    "        if (p_in_for != 0):\n",
    "            ch -= (p_in_for * np.log2(p_in_for))\n",
    "        #if p_in_inv != 0:\n",
    "        #    ch -= (p_in_inv * np.log2(p_in_inv))\n",
    "    return ch"
   ]
  },
  {
   "cell_type": "code",
   "execution_count": 21,
   "metadata": {
    "collapsed": false
   },
   "outputs": [
    {
     "name": "stdout",
     "output_type": "stream",
     "text": [
      "out:  [2]\n",
      "(1.0, 1, 'sigma')\n"
     ]
    }
   ],
   "source": [
    "print downstream_degree_DAG(1, [2,1], G, w='weight')"
   ]
  },
  {
   "cell_type": "code",
   "execution_count": 22,
   "metadata": {
    "collapsed": false
   },
   "outputs": [
    {
     "name": "stdout",
     "output_type": "stream",
     "text": [
      "PIJ:  0\n",
      "PIJ:  0\n",
      "PIJ:  0\n",
      "PIJ:  0\n",
      "PIJ:  0\n",
      "PIJ:  0\n",
      "PIJ:  0\n",
      "PIJ:  0\n",
      "PIJ:  0\n",
      "PIJ:  0\n",
      "PIJ:  0\n",
      "PATH:  [15, 14, 12]\n",
      "out:  [14]\n",
      "4.0 4\n",
      "no testado:  15\n",
      "out:  [16, 12]\n",
      "2.0 6\n",
      "no testado:  14\n",
      "out:  [13]\n",
      "1.0 3\n",
      "ultimo no testado:  12\n",
      "('pij_p:', 0.1111111111111111)\n",
      "PIJ:  0.111111111111\n",
      "PATH:  [15, 14, 12, 13]\n",
      "out:  [14]\n",
      "4.0 4\n",
      "no testado:  15\n",
      "out:  [16, 12]\n",
      "2.0 6\n",
      "no testado:  14\n",
      "out:  [13]\n",
      "3.0 3\n",
      "no testado:  12\n",
      "out:  [14]\n",
      "1.0 1\n",
      "ultimo no testado:  13\n",
      "('pij_p:', 0.3333333333333333)\n",
      "PIJ:  0.333333333333\n",
      "PATH:  [15, 14]\n",
      "out:  [14]\n",
      "4.0 4\n",
      "no testado:  15\n",
      "out:  [16, 12]\n",
      "1.0 6\n",
      "ultimo no testado:  14\n",
      "('pij_p:', 0.16666666666666666)\n",
      "PIJ:  0.166666666667\n",
      "PATH:  [15]\n",
      "out:  [14]\n",
      "1.0 4\n",
      "ultimo no testado:  15\n",
      "('pij_p:', 0.25)\n",
      "PIJ:  0.25\n",
      "PATH:  [15, 14, 16]\n",
      "out:  [14]\n",
      "4.0 4\n",
      "no testado:  15\n",
      "out:  [16, 12]\n",
      "4.0 6\n",
      "no testado:  14\n",
      "out:  []\n",
      "1.0 0\n",
      "ultimo no testado:  16\n",
      "('pij_p:', 0.6666666666666666)\n",
      "PIJ:  0.666666666667\n",
      "2.20133680656\n"
     ]
    }
   ],
   "source": [
    "print path_transfer(15, G)"
   ]
  },
  {
   "cell_type": "code",
   "execution_count": 23,
   "metadata": {
    "collapsed": false,
    "scrolled": true
   },
   "outputs": [
    {
     "name": "stdout",
     "output_type": "stream",
     "text": [
      "PATH:  [1]\n",
      "out:  [2]\n",
      "1.0 1\n",
      "ultimo no testado:  1\n",
      "('pij_p:', 1.0)\n",
      "PIJ:  1.0\n",
      "PATH:  [1, 2]\n",
      "out:  [2]\n",
      "1.0 1\n",
      "no testado:  1\n",
      "out:  [1, 3]\n",
      "1.0 4\n",
      "ultimo no testado:  2\n",
      "('pij_p:', 0.25)\n",
      "PIJ:  0.25\n",
      "PATH:  [1, 2, 3]\n",
      "out:  [2]\n",
      "1.0 1\n",
      "no testado:  1\n",
      "out:  [1, 3]\n",
      "2.0 4\n",
      "no testado:  2\n",
      "out:  [2, 5]\n",
      "1.0 5\n",
      "ultimo no testado:  3\n",
      "('pij_p:', 0.1)\n",
      "PIJ:  0.1\n",
      "PATH:  [1, 2, 3, 5, 4]\n",
      "out:  [2]\n",
      "1.0 1\n",
      "no testado:  1\n",
      "out:  [1, 3]\n",
      "2.0 4\n",
      "no testado:  2\n",
      "out:  [2, 5]\n",
      "2.0 5\n",
      "no testado:  3\n",
      "out:  [4, 6]\n",
      "8.0 17\n",
      "no testado:  5\n",
      "out:  []\n",
      "1.0 0\n",
      "ultimo no testado:  4\n",
      "('pij_p:', 0.09411764705882353)\n",
      "PIJ:  0.0941176470588\n",
      "PATH:  [1, 2, 3, 5]\n",
      "out:  [2]\n",
      "1.0 1\n",
      "no testado:  1\n",
      "out:  [1, 3]\n",
      "2.0 4\n",
      "no testado:  2\n",
      "out:  [2, 5]\n",
      "2.0 5\n",
      "no testado:  3\n",
      "out:  [4, 6]\n",
      "1.0 17\n",
      "ultimo no testado:  5\n",
      "('pij_p:', 0.011764705882352941)\n",
      "PIJ:  0.0117647058824\n",
      "PATH:  [1, 2, 3, 5, 6]\n",
      "out:  [2]\n",
      "1.0 1\n",
      "no testado:  1\n",
      "out:  [1, 3]\n",
      "2.0 4\n",
      "no testado:  2\n",
      "out:  [2, 5]\n",
      "2.0 5\n",
      "no testado:  3\n",
      "out:  [4, 6]\n",
      "9.0 17\n",
      "no testado:  5\n",
      "out:  []\n",
      "1.0 0\n",
      "ultimo no testado:  6\n",
      "('pij_p:', 0.10588235294117648)\n",
      "PIJ:  0.105882352941\n",
      "PIJ:  0\n",
      "PIJ:  0\n",
      "PIJ:  0\n",
      "PIJ:  0\n",
      "PIJ:  0\n",
      "PIJ:  0\n",
      "PIJ:  0\n",
      "PIJ:  0\n",
      "PIJ:  0\n",
      "PIJ:  0\n",
      "PATH:  [2, 1]\n",
      "out:  [1, 3]\n",
      "2.0 4\n",
      "no testado:  2\n",
      "out:  [2]\n",
      "1.0 1\n",
      "ultimo no testado:  1\n",
      "('pij_p:', 0.5)\n",
      "PIJ:  0.5\n",
      "PATH:  [2]\n",
      "out:  [1, 3]\n",
      "1.0 4\n",
      "ultimo no testado:  2\n",
      "('pij_p:', 0.25)\n",
      "PIJ:  0.25\n",
      "PATH:  [2, 3]\n",
      "out:  [1, 3]\n",
      "2.0 4\n",
      "no testado:  2\n",
      "out:  [2, 5]\n",
      "1.0 5\n",
      "ultimo no testado:  3\n",
      "('pij_p:', 0.1)\n",
      "PIJ:  0.1\n",
      "PATH:  [2, 3, 5, 4]\n",
      "out:  [1, 3]\n",
      "2.0 4\n",
      "no testado:  2\n",
      "out:  [2, 5]\n",
      "2.0 5\n",
      "no testado:  3\n",
      "out:  [4, 6]\n",
      "8.0 17\n",
      "no testado:  5\n",
      "out:  []\n",
      "1.0 0\n",
      "ultimo no testado:  4\n",
      "('pij_p:', 0.09411764705882353)\n",
      "PIJ:  0.0941176470588\n",
      "PATH:  [2, 3, 5]\n",
      "out:  [1, 3]\n",
      "2.0 4\n",
      "no testado:  2\n",
      "out:  [2, 5]\n",
      "2.0 5\n",
      "no testado:  3\n",
      "out:  [4, 6]\n",
      "1.0 17\n",
      "ultimo no testado:  5\n",
      "('pij_p:', 0.011764705882352941)\n",
      "PIJ:  0.0117647058824\n",
      "PATH:  [2, 3, 5, 6]\n",
      "out:  [1, 3]\n",
      "2.0 4\n",
      "no testado:  2\n",
      "out:  [2, 5]\n",
      "2.0 5\n",
      "no testado:  3\n",
      "out:  [4, 6]\n",
      "9.0 17\n",
      "no testado:  5\n",
      "out:  []\n",
      "1.0 0\n",
      "ultimo no testado:  6\n",
      "('pij_p:', 0.10588235294117648)\n",
      "PIJ:  0.105882352941\n",
      "PIJ:  0\n",
      "PIJ:  0\n",
      "PIJ:  0\n",
      "PIJ:  0\n",
      "PIJ:  0\n",
      "PIJ:  0\n",
      "PIJ:  0\n",
      "PIJ:  0\n",
      "PIJ:  0\n",
      "PIJ:  0\n",
      "PATH:  [3, 2, 1]\n",
      "out:  [2, 5]\n",
      "3.0 5\n",
      "no testado:  3\n",
      "out:  [1, 3]\n",
      "2.0 4\n",
      "no testado:  2\n",
      "out:  [2]\n",
      "1.0 1\n",
      "ultimo no testado:  1\n",
      "('pij_p:', 0.3)\n",
      "PIJ:  0.3\n",
      "PATH:  [3, 2]\n",
      "out:  [2, 5]\n",
      "3.0 5\n",
      "no testado:  3\n",
      "out:  [1, 3]\n",
      "1.0 4\n",
      "ultimo no testado:  2\n",
      "('pij_p:', 0.15)\n",
      "PIJ:  0.15\n",
      "PATH:  [3]\n",
      "out:  [2, 5]\n",
      "1.0 5\n",
      "ultimo no testado:  3\n",
      "('pij_p:', 0.2)\n",
      "PIJ:  0.2\n",
      "PATH:  [3, 5, 4]\n",
      "out:  [2, 5]\n",
      "2.0 5\n",
      "no testado:  3\n",
      "out:  [4, 6]\n",
      "8.0 17\n",
      "no testado:  5\n",
      "out:  []\n",
      "1.0 0\n",
      "ultimo no testado:  4\n",
      "('pij_p:', 0.18823529411764706)\n",
      "PIJ:  0.188235294118\n",
      "PATH:  [3, 5]\n",
      "out:  [2, 5]\n",
      "2.0 5\n",
      "no testado:  3\n",
      "out:  [4, 6]\n",
      "1.0 17\n",
      "ultimo no testado:  5\n",
      "('pij_p:', 0.023529411764705882)\n",
      "PIJ:  0.0235294117647\n",
      "PATH:  [3, 5, 6]\n",
      "out:  [2, 5]\n",
      "2.0 5\n",
      "no testado:  3\n",
      "out:  [4, 6]\n",
      "9.0 17\n",
      "no testado:  5\n",
      "out:  []\n",
      "1.0 0\n",
      "ultimo no testado:  6\n",
      "('pij_p:', 0.21176470588235297)\n",
      "PIJ:  0.211764705882\n",
      "PIJ:  0\n",
      "PIJ:  0\n",
      "PIJ:  0\n",
      "PIJ:  0\n",
      "PIJ:  0\n",
      "PIJ:  0\n",
      "PIJ:  0\n",
      "PIJ:  0\n",
      "PIJ:  0\n",
      "PIJ:  0\n",
      "PIJ:  0\n",
      "PIJ:  0\n",
      "PIJ:  0\n",
      "PATH:  [4]\n",
      "out:  []\n",
      "0 0\n",
      "ultimo no testado:  4\n",
      "('pij_p:', 1)\n",
      "PIJ:  1\n",
      "PIJ:  0\n",
      "PIJ:  0\n",
      "PIJ:  0\n",
      "PIJ:  0\n",
      "PIJ:  0\n",
      "PIJ:  0\n",
      "PIJ:  0\n",
      "PIJ:  0\n",
      "PIJ:  0\n",
      "PIJ:  0\n",
      "PIJ:  0\n",
      "PIJ:  0\n",
      "PIJ:  0\n",
      "PIJ:  0\n",
      "PIJ:  0\n",
      "PATH:  [5, 4]\n",
      "out:  [4, 6]\n",
      "8.0 17\n",
      "no testado:  5\n",
      "out:  []\n",
      "1.0 0\n",
      "ultimo no testado:  4\n",
      "('pij_p:', 0.47058823529411764)\n",
      "PIJ:  0.470588235294\n",
      "PATH:  [5]\n",
      "out:  [4, 6]\n",
      "1.0 17\n",
      "ultimo no testado:  5\n",
      "('pij_p:', 0.058823529411764705)\n",
      "PIJ:  0.0588235294118\n",
      "PATH:  [5, 6]\n",
      "out:  [4, 6]\n",
      "9.0 17\n",
      "no testado:  5\n",
      "out:  []\n",
      "1.0 0\n",
      "ultimo no testado:  6\n",
      "('pij_p:', 0.5294117647058824)\n",
      "PIJ:  0.529411764706\n",
      "PIJ:  0\n",
      "PIJ:  0\n",
      "PIJ:  0\n",
      "PIJ:  0\n",
      "PIJ:  0\n",
      "PIJ:  0\n",
      "PIJ:  0\n",
      "PIJ:  0\n",
      "PIJ:  0\n",
      "PIJ:  0\n",
      "PIJ:  0\n",
      "PIJ:  0\n",
      "PIJ:  0\n",
      "PIJ:  0\n",
      "PIJ:  0\n",
      "PATH:  [6]\n",
      "out:  []\n",
      "0 0\n",
      "ultimo no testado:  6\n",
      "('pij_p:', 1)\n",
      "PIJ:  1\n",
      "PIJ:  0\n",
      "PIJ:  0\n",
      "PIJ:  0\n",
      "PIJ:  0\n",
      "PIJ:  0\n",
      "PIJ:  0\n",
      "PIJ:  0\n",
      "PIJ:  0\n",
      "PIJ:  0\n",
      "PIJ:  0\n",
      "PIJ:  0\n",
      "PIJ:  0\n",
      "PIJ:  0\n",
      "PIJ:  0\n",
      "PIJ:  0\n",
      "PATH:  [7, 6]\n",
      "out:  [8, 6]\n",
      "4.0 8\n",
      "no testado:  7\n",
      "out:  []\n",
      "1.0 0\n",
      "ultimo no testado:  6\n",
      "('pij_p:', 0.5)\n",
      "PIJ:  0.5\n",
      "PATH:  [7]\n",
      "out:  [8, 6]\n",
      "1.0 8\n",
      "ultimo no testado:  7\n",
      "('pij_p:', 0.125)\n",
      "PIJ:  0.125\n",
      "PATH:  [7, 8]\n",
      "out:  [8, 6]\n",
      "4.0 8\n",
      "no testado:  7\n",
      "out:  [9, 10]\n",
      "1.0 4\n",
      "ultimo no testado:  8\n",
      "('pij_p:', 0.125)\n",
      "PIJ:  0.125\n",
      "PATH:  [7, 8, 9]\n",
      "out:  [8, 6]\n",
      "4.0 8\n",
      "no testado:  7\n",
      "out:  [9, 10]\n",
      "1.0 4\n",
      "no testado:  8\n",
      "out:  [10]\n",
      "1.0 2\n",
      "ultimo no testado:  9\n",
      "('pij_p:', 0.0625)\n",
      "PIJ:  0.0625\n",
      "PATH:  [7, 8, 10]\n",
      "out:  [8, 6]\n",
      "4.0 8\n",
      "no testado:  7\n",
      "out:  [9, 10]\n",
      "3.0 4\n",
      "no testado:  8\n",
      "out:  [11, 7]\n",
      "1.0 13\n",
      "ultimo no testado:  10\n",
      "('pij_p:', 0.028846153846153848)\n",
      "PATH:  [7, 8, 9, 10]\n",
      "out:  [8, 6]\n",
      "4.0 8\n",
      "no testado:  7\n",
      "out:  [9, 10]\n",
      "1.0 4\n",
      "no testado:  8\n",
      "out:  [10]\n",
      "2.0 2\n",
      "no testado:  9\n",
      "out:  [11, 7]\n",
      "1.0 13\n",
      "ultimo no testado:  10\n",
      "('pij_p:', 0.009615384615384616)\n",
      "PIJ:  0.0384615384615\n",
      "PATH:  [7, 8, 10, 11]\n",
      "out:  [8, 6]\n",
      "4.0 8\n",
      "no testado:  7\n",
      "out:  [9, 10]\n",
      "3.0 4\n",
      "no testado:  8\n",
      "out:  [11, 7]\n",
      "8.0 13\n",
      "no testado:  10\n",
      "out:  []\n",
      "1.0 0\n",
      "ultimo no testado:  11\n",
      "('pij_p:', 0.23076923076923078)\n",
      "PATH:  [7, 8, 9, 10, 11]\n",
      "out:  [8, 6]\n",
      "4.0 8\n",
      "no testado:  7\n",
      "out:  [9, 10]\n",
      "1.0 4\n",
      "no testado:  8\n",
      "out:  [10]\n",
      "2.0 2\n",
      "no testado:  9\n",
      "out:  [11, 7]\n",
      "8.0 13\n",
      "no testado:  10\n",
      "out:  []\n",
      "1.0 0\n",
      "ultimo no testado:  11\n",
      "('pij_p:', 0.07692307692307693)\n",
      "PIJ:  0.307692307692\n",
      "PIJ:  0\n",
      "PIJ:  0\n",
      "PIJ:  0\n",
      "PIJ:  0\n",
      "PIJ:  0\n",
      "PIJ:  0\n",
      "PIJ:  0\n",
      "PIJ:  0\n",
      "PIJ:  0\n",
      "PIJ:  0\n",
      "PATH:  [8, 10, 7, 6]\n",
      "out:  [9, 10]\n",
      "3.0 4\n",
      "no testado:  8\n",
      "out:  [11, 7]\n",
      "5.0 13\n",
      "no testado:  10\n",
      "out:  [8, 6]\n",
      "4.0 8\n",
      "no testado:  7\n",
      "out:  []\n",
      "1.0 0\n",
      "ultimo no testado:  6\n",
      "('pij_p:', 0.14423076923076925)\n",
      "PATH:  [8, 9, 10, 7, 6]\n",
      "out:  [9, 10]\n",
      "1.0 4\n",
      "no testado:  8\n",
      "out:  [10]\n",
      "2.0 2\n",
      "no testado:  9\n",
      "out:  [11, 7]\n",
      "5.0 13\n",
      "no testado:  10\n",
      "out:  [8, 6]\n",
      "4.0 8\n",
      "no testado:  7\n",
      "out:  []\n",
      "1.0 0\n",
      "ultimo no testado:  6\n",
      "('pij_p:', 0.04807692307692308)\n",
      "PIJ:  0.192307692308\n",
      "PATH:  [8, 10, 7]\n",
      "out:  [9, 10]\n",
      "3.0 4\n",
      "no testado:  8\n",
      "out:  [11, 7]\n",
      "5.0 13\n",
      "no testado:  10\n",
      "out:  [8, 6]\n",
      "1.0 8\n",
      "ultimo no testado:  7\n",
      "('pij_p:', 0.03605769230769231)\n",
      "PATH:  [8, 9, 10, 7]\n",
      "out:  [9, 10]\n",
      "1.0 4\n",
      "no testado:  8\n",
      "out:  [10]\n",
      "2.0 2\n",
      "no testado:  9\n",
      "out:  [11, 7]\n",
      "5.0 13\n",
      "no testado:  10\n",
      "out:  [8, 6]\n",
      "1.0 8\n",
      "ultimo no testado:  7\n",
      "('pij_p:', 0.01201923076923077)\n",
      "PIJ:  0.0480769230769\n",
      "PATH:  [8]\n",
      "out:  [9, 10]\n",
      "1.0 4\n",
      "ultimo no testado:  8\n",
      "('pij_p:', 0.25)\n",
      "PIJ:  0.25\n",
      "PATH:  [8, 9]\n",
      "out:  [9, 10]\n",
      "1.0 4\n",
      "no testado:  8\n",
      "out:  [10]\n",
      "1.0 2\n",
      "ultimo no testado:  9\n",
      "('pij_p:', 0.125)\n",
      "PIJ:  0.125\n",
      "PATH:  [8, 10]\n",
      "out:  [9, 10]\n",
      "3.0 4\n",
      "no testado:  8\n",
      "out:  [11, 7]\n",
      "1.0 13\n",
      "ultimo no testado:  10\n",
      "('pij_p:', 0.057692307692307696)\n",
      "PATH:  [8, 9, 10]\n",
      "out:  [9, 10]\n",
      "1.0 4\n",
      "no testado:  8\n",
      "out:  [10]\n",
      "2.0 2\n",
      "no testado:  9\n",
      "out:  [11, 7]\n",
      "1.0 13\n",
      "ultimo no testado:  10\n",
      "('pij_p:', 0.019230769230769232)\n",
      "PIJ:  0.0769230769231\n",
      "PATH:  [8, 10, 11]\n",
      "out:  [9, 10]\n",
      "3.0 4\n",
      "no testado:  8\n",
      "out:  [11, 7]\n",
      "8.0 13\n",
      "no testado:  10\n",
      "out:  []\n",
      "1.0 0\n",
      "ultimo no testado:  11\n",
      "('pij_p:', 0.46153846153846156)\n",
      "PATH:  [8, 9, 10, 11]\n",
      "out:  [9, 10]\n",
      "1.0 4\n",
      "no testado:  8\n",
      "out:  [10]\n",
      "2.0 2\n",
      "no testado:  9\n",
      "out:  [11, 7]\n",
      "8.0 13\n",
      "no testado:  10\n",
      "out:  []\n",
      "1.0 0\n",
      "ultimo no testado:  11\n",
      "('pij_p:', 0.15384615384615385)\n",
      "PIJ:  0.615384615385\n",
      "PIJ:  0\n",
      "PIJ:  0\n",
      "PIJ:  0\n",
      "PIJ:  0\n",
      "PIJ:  0\n",
      "PIJ:  0\n",
      "PIJ:  0\n",
      "PIJ:  0\n",
      "PIJ:  0\n",
      "PIJ:  0\n",
      "PATH:  [9, 10, 7, 6]\n",
      "out:  [10]\n",
      "2.0 2\n",
      "no testado:  9\n",
      "out:  [11, 7]\n",
      "5.0 13\n",
      "no testado:  10\n",
      "out:  [8, 6]\n",
      "4.0 8\n",
      "no testado:  7\n",
      "out:  []\n",
      "1.0 0\n",
      "ultimo no testado:  6\n",
      "('pij_p:', 0.19230769230769232)\n",
      "PIJ:  0.192307692308\n",
      "PATH:  [9, 10, 7]\n",
      "out:  [10]\n",
      "2.0 2\n",
      "no testado:  9\n",
      "out:  [11, 7]\n",
      "5.0 13\n",
      "no testado:  10\n",
      "out:  [8, 6]\n",
      "1.0 8\n",
      "ultimo no testado:  7\n",
      "('pij_p:', 0.04807692307692308)\n",
      "PIJ:  0.0480769230769\n",
      "PATH:  [9, 10, 7, 8]\n",
      "out:  [10]\n",
      "2.0 2\n",
      "no testado:  9\n",
      "out:  [11, 7]\n",
      "5.0 13\n",
      "no testado:  10\n",
      "out:  [8, 6]\n",
      "4.0 8\n",
      "no testado:  7\n",
      "out:  [9, 10]\n",
      "1.0 4\n",
      "ultimo no testado:  8\n",
      "('pij_p:', 0.04807692307692308)\n",
      "PIJ:  0.0480769230769\n",
      "PATH:  [9]\n",
      "out:  [10]\n",
      "1.0 2\n",
      "ultimo no testado:  9\n",
      "('pij_p:', 0.5)\n",
      "PIJ:  0.5\n",
      "PATH:  [9, 10]\n",
      "out:  [10]\n",
      "2.0 2\n",
      "no testado:  9\n",
      "out:  [11, 7]\n",
      "1.0 13\n",
      "ultimo no testado:  10\n",
      "('pij_p:', 0.07692307692307693)\n",
      "PIJ:  0.0769230769231\n",
      "PATH:  [9, 10, 11]\n",
      "out:  [10]\n",
      "2.0 2\n",
      "no testado:  9\n",
      "out:  [11, 7]\n",
      "8.0 13\n",
      "no testado:  10\n",
      "out:  []\n",
      "1.0 0\n",
      "ultimo no testado:  11\n",
      "('pij_p:', 0.6153846153846154)\n",
      "PIJ:  0.615384615385\n",
      "PIJ:  0\n",
      "PIJ:  0\n",
      "PIJ:  0\n",
      "PIJ:  0\n",
      "PIJ:  0\n",
      "PIJ:  0\n",
      "PIJ:  0\n",
      "PIJ:  0\n",
      "PIJ:  0\n",
      "PIJ:  0\n",
      "PATH:  [10, 7, 6]\n",
      "out:  [11, 7]\n",
      "5.0 13\n",
      "no testado:  10\n",
      "out:  [8, 6]\n",
      "4.0 8\n",
      "no testado:  7\n",
      "out:  []\n",
      "1.0 0\n",
      "ultimo no testado:  6\n",
      "('pij_p:', 0.19230769230769232)\n",
      "PIJ:  0.192307692308\n",
      "PATH:  [10, 7]\n",
      "out:  [11, 7]\n",
      "5.0 13\n",
      "no testado:  10\n",
      "out:  [8, 6]\n",
      "1.0 8\n",
      "ultimo no testado:  7\n",
      "('pij_p:', 0.04807692307692308)\n",
      "PIJ:  0.0480769230769\n",
      "PATH:  [10, 7, 8]\n",
      "out:  [11, 7]\n",
      "5.0 13\n",
      "no testado:  10\n",
      "out:  [8, 6]\n",
      "4.0 8\n",
      "no testado:  7\n",
      "out:  [9, 10]\n",
      "1.0 4\n",
      "ultimo no testado:  8\n",
      "('pij_p:', 0.04807692307692308)\n",
      "PIJ:  0.0480769230769\n",
      "PATH:  [10, 7, 8, 9]\n",
      "out:  [11, 7]\n",
      "5.0 13\n",
      "no testado:  10\n",
      "out:  [8, 6]\n",
      "4.0 8\n",
      "no testado:  7\n",
      "out:  [9, 10]\n",
      "1.0 4\n",
      "no testado:  8\n",
      "out:  [10]\n",
      "1.0 2\n",
      "ultimo no testado:  9\n",
      "('pij_p:', 0.02403846153846154)\n",
      "PIJ:  0.0240384615385\n",
      "PATH:  [10]\n",
      "out:  [11, 7]\n",
      "1.0 13\n",
      "ultimo no testado:  10\n",
      "('pij_p:', 0.07692307692307693)\n",
      "PIJ:  0.0769230769231\n",
      "PATH:  [10, 11]\n",
      "out:  [11, 7]\n",
      "8.0 13\n",
      "no testado:  10\n",
      "out:  []\n",
      "1.0 0\n",
      "ultimo no testado:  11\n",
      "('pij_p:', 0.6153846153846154)\n",
      "PIJ:  0.615384615385\n",
      "PIJ:  0\n",
      "PIJ:  0\n",
      "PIJ:  0\n",
      "PIJ:  0\n",
      "PIJ:  0\n",
      "PIJ:  0\n",
      "PIJ:  0\n",
      "PIJ:  0\n",
      "PIJ:  0\n",
      "PIJ:  0\n",
      "PIJ:  0\n",
      "PIJ:  0\n",
      "PIJ:  0\n",
      "PIJ:  0\n",
      "PIJ:  0\n",
      "PATH:  [11]\n",
      "out:  []\n",
      "0 0\n",
      "ultimo no testado:  11\n",
      "('pij_p:', 1)\n",
      "PIJ:  1\n",
      "PIJ:  0\n",
      "PIJ:  0\n",
      "PIJ:  0\n",
      "PIJ:  0\n",
      "PIJ:  0\n",
      "PIJ:  0\n",
      "PIJ:  0\n",
      "PIJ:  0\n",
      "PIJ:  0\n",
      "PIJ:  0\n",
      "PIJ:  0\n",
      "PIJ:  0\n",
      "PIJ:  0\n",
      "PIJ:  0\n",
      "PIJ:  0\n",
      "PIJ:  0\n",
      "PATH:  [12]\n",
      "out:  [13]\n",
      "1.0 3\n",
      "ultimo no testado:  12\n",
      "('pij_p:', 0.3333333333333333)\n",
      "PIJ:  0.333333333333\n",
      "PATH:  [12, 13]\n",
      "out:  [13]\n",
      "3.0 3\n",
      "no testado:  12\n",
      "out:  [14]\n",
      "1.0 1\n",
      "ultimo no testado:  13\n",
      "('pij_p:', 1.0)\n",
      "PIJ:  1.0\n",
      "PATH:  [12, 13, 14]\n",
      "out:  [13]\n",
      "3.0 3\n",
      "no testado:  12\n",
      "out:  [14]\n",
      "1.0 1\n",
      "no testado:  13\n",
      "out:  [16, 12]\n",
      "1.0 6\n",
      "ultimo no testado:  14\n",
      "('pij_p:', 0.16666666666666666)\n",
      "PIJ:  0.166666666667\n",
      "PIJ:  0\n",
      "PATH:  [12, 13, 14, 16]\n",
      "out:  [13]\n",
      "3.0 3\n",
      "no testado:  12\n",
      "out:  [14]\n",
      "1.0 1\n",
      "no testado:  13\n",
      "out:  [16, 12]\n",
      "4.0 6\n",
      "no testado:  14\n",
      "out:  []\n",
      "1.0 0\n",
      "ultimo no testado:  16\n",
      "('pij_p:', 0.6666666666666666)\n",
      "PIJ:  0.666666666667\n",
      "PIJ:  0\n",
      "PIJ:  0\n",
      "PIJ:  0\n",
      "PIJ:  0\n",
      "PIJ:  0\n",
      "PIJ:  0\n",
      "PIJ:  0\n",
      "PIJ:  0\n",
      "PIJ:  0\n",
      "PIJ:  0\n",
      "PIJ:  0\n",
      "PATH:  [13, 14, 12]\n",
      "out:  [14]\n",
      "1.0 1\n",
      "no testado:  13\n",
      "out:  [16, 12]\n",
      "2.0 6\n",
      "no testado:  14\n",
      "out:  [13]\n",
      "1.0 3\n",
      "ultimo no testado:  12\n",
      "('pij_p:', 0.1111111111111111)\n",
      "PIJ:  0.111111111111\n",
      "PATH:  [13]\n",
      "out:  [14]\n",
      "1.0 1\n",
      "ultimo no testado:  13\n",
      "('pij_p:', 1.0)\n",
      "PIJ:  1.0\n",
      "PATH:  [13, 14]\n",
      "out:  [14]\n",
      "1.0 1\n",
      "no testado:  13\n",
      "out:  [16, 12]\n",
      "1.0 6\n",
      "ultimo no testado:  14\n",
      "('pij_p:', 0.16666666666666666)\n",
      "PIJ:  0.166666666667\n",
      "PIJ:  0\n",
      "PATH:  [13, 14, 16]\n",
      "out:  [14]\n",
      "1.0 1\n",
      "no testado:  13\n",
      "out:  [16, 12]\n",
      "4.0 6\n",
      "no testado:  14\n",
      "out:  []\n",
      "1.0 0\n",
      "ultimo no testado:  16\n",
      "('pij_p:', 0.6666666666666666)\n",
      "PIJ:  0.666666666667\n",
      "PIJ:  0\n",
      "PIJ:  0\n",
      "PIJ:  0\n",
      "PIJ:  0\n",
      "PIJ:  0\n",
      "PIJ:  0\n",
      "PIJ:  0\n",
      "PIJ:  0\n",
      "PIJ:  0\n",
      "PIJ:  0\n",
      "PIJ:  0\n",
      "PATH:  [14, 12]\n",
      "out:  [16, 12]\n",
      "2.0 6\n",
      "no testado:  14\n",
      "out:  [13]\n",
      "1.0 3\n",
      "ultimo no testado:  12\n",
      "('pij_p:', 0.1111111111111111)\n",
      "PIJ:  0.111111111111\n",
      "PATH:  [14, 12, 13]\n",
      "out:  [16, 12]\n",
      "2.0 6\n",
      "no testado:  14\n",
      "out:  [13]\n",
      "3.0 3\n",
      "no testado:  12\n",
      "out:  [14]\n",
      "1.0 1\n",
      "ultimo no testado:  13\n",
      "('pij_p:', 0.3333333333333333)\n",
      "PIJ:  0.333333333333\n",
      "PATH:  [14]\n",
      "out:  [16, 12]\n",
      "1.0 6\n",
      "ultimo no testado:  14\n",
      "('pij_p:', 0.16666666666666666)\n",
      "PIJ:  0.166666666667\n",
      "PIJ:  0\n",
      "PATH:  [14, 16]\n",
      "out:  [16, 12]\n",
      "4.0 6\n",
      "no testado:  14\n",
      "out:  []\n",
      "1.0 0\n",
      "ultimo no testado:  16\n",
      "('pij_p:', 0.6666666666666666)\n",
      "PIJ:  0.666666666667\n",
      "PIJ:  0\n",
      "PIJ:  0\n",
      "PIJ:  0\n",
      "PIJ:  0\n",
      "PIJ:  0\n",
      "PIJ:  0\n",
      "PIJ:  0\n",
      "PIJ:  0\n",
      "PIJ:  0\n",
      "PIJ:  0\n",
      "PIJ:  0\n",
      "PATH:  [15, 14, 12]\n",
      "out:  [14]\n",
      "4.0 4\n",
      "no testado:  15\n",
      "out:  [16, 12]\n",
      "2.0 6\n",
      "no testado:  14\n",
      "out:  [13]\n",
      "1.0 3\n",
      "ultimo no testado:  12\n",
      "('pij_p:', 0.1111111111111111)\n",
      "PIJ:  0.111111111111\n",
      "PATH:  [15, 14, 12, 13]\n",
      "out:  [14]\n",
      "4.0 4\n",
      "no testado:  15\n",
      "out:  [16, 12]\n",
      "2.0 6\n",
      "no testado:  14\n",
      "out:  [13]\n",
      "3.0 3\n",
      "no testado:  12\n",
      "out:  [14]\n",
      "1.0 1\n",
      "ultimo no testado:  13\n",
      "('pij_p:', 0.3333333333333333)\n",
      "PIJ:  0.333333333333\n",
      "PATH:  [15, 14]\n",
      "out:  [14]\n",
      "4.0 4\n",
      "no testado:  15\n",
      "out:  [16, 12]\n",
      "1.0 6\n",
      "ultimo no testado:  14\n",
      "('pij_p:', 0.16666666666666666)\n",
      "PIJ:  0.166666666667\n",
      "PATH:  [15]\n",
      "out:  [14]\n",
      "1.0 4\n",
      "ultimo no testado:  15\n",
      "('pij_p:', 0.25)\n",
      "PIJ:  0.25\n",
      "PATH:  [15, 14, 16]\n",
      "out:  [14]\n",
      "4.0 4\n",
      "no testado:  15\n",
      "out:  [16, 12]\n",
      "4.0 6\n",
      "no testado:  14\n",
      "out:  []\n",
      "1.0 0\n",
      "ultimo no testado:  16\n",
      "('pij_p:', 0.6666666666666666)\n",
      "PIJ:  0.666666666667\n"
     ]
    }
   ],
   "source": [
    "results = []\n",
    "for x in range(1,16):\n",
    "    results.append((x, path_transfer(x, G)))"
   ]
  },
  {
   "cell_type": "code",
   "execution_count": 24,
   "metadata": {
    "collapsed": false
   },
   "outputs": [
    {
     "data": {
      "text/plain": [
       "[(3, 2.4510721795875079),\n",
       " (8, 2.2586004835336722),\n",
       " (7, 2.2039983639719165),\n",
       " (15, 2.2013368065571615),\n",
       " (9, 2.0941058500362555),\n",
       " (2, 2.071483536988711),\n",
       " (10, 1.7233969948260082),\n",
       " (14, 1.7013368065571615),\n",
       " (1, 1.5714835369887108),\n",
       " (12, 1.3491229175080157),\n",
       " (5, 1.2379415370308999),\n",
       " (13, 1.1730159729834426),\n",
       " (4, 0.0),\n",
       " (6, 0.0),\n",
       " (11, 0.0)]"
      ]
     },
     "execution_count": 24,
     "metadata": {},
     "output_type": "execute_result"
    }
   ],
   "source": [
    "results_sorted = sorted(results, key=lambda x:x[1], reverse=True)\n",
    "results_sorted"
   ]
  },
  {
   "cell_type": "code",
   "execution_count": 25,
   "metadata": {
    "collapsed": false
   },
   "outputs": [
    {
     "name": "stdout",
     "output_type": "stream",
     "text": [
      "-1.5\n"
     ]
    }
   ],
   "source": [
    "def entropy(p):\n",
    "    return -p*np.log2(p)\n",
    "\n",
    "#a = [(2./8)*(4./5), (4./8), (2./8)*(4./9),\n",
    "#     (2./8)*(2./9)*(8./21)*(1), (2./8)*(2./9)*(4./21), (2./8)*(2./9)*(9./21)*(1)]\n",
    "\n",
    "#a = [(2./12)*(4./5),(4./12),(2./12)*(4./12),(2./12)*(2./9)*(8./21)*(1),\n",
    "#     (2./12)*(2./9)*(4./21),(2./12)*(2./9)*(9./21)*(1)]\n",
    "\n",
    "#a = [(4./8)*(2./6)*(4./7),(4./8)*(2./6)*(3./7)*(4./5),(4./8)*(4./6),\n",
    "#    (4./8), (4./8)*(2./6)*(3./7)*(1./5)*(4./6)]\n",
    "\n",
    "#a = [(4./8)*(2./7)*(4./7),(4./8)*(2./7)*(3./7),(4./8)*(4./7),\n",
    "#    (4./8), (4./8)*(2./7)*(3./7)*(1./5)*(1)]\n",
    "\n",
    "a = [1, 1./2, 1./2, 1./2]\n",
    "shannon = 0\n",
    "for termo in a:\n",
    "    shannon -= entropy(termo)\n",
    "print shannon\n",
    "    "
   ]
  },
  {
   "cell_type": "markdown",
   "metadata": {},
   "source": [
    "Explorando entropia para grafos relacionados a montagens genomicas."
   ]
  },
  {
   "cell_type": "markdown",
   "metadata": {},
   "source": [
    "Clean Bubbles para n nós entre as duas junções."
   ]
  },
  {
   "cell_type": "code",
   "execution_count": 26,
   "metadata": {
    "collapsed": false
   },
   "outputs": [],
   "source": [
    "def get_bubble_graph(n, w, printGraph=False):\n",
    "    \"\"\"\n",
    "    Return a graph structure networkX similar to a clean bubble found in\n",
    "    genomics graphs. It has two paths of size N nodes and the edges have weight W.\n",
    "    \"\"\"\n",
    "    B = nx.DiGraph()\n",
    "    n = 2*n\n",
    "    ini = 1\n",
    "    for idx in range(1,n+1,2):\n",
    "        if ini:\n",
    "            B.add_edge(0,idx,weight=w)\n",
    "            B.add_edge(0,idx+1, weight=w)\n",
    "            ini=0\n",
    "        else:\n",
    "            B.add_edge(idx-2,idx,weight=w)\n",
    "            B.add_edge(idx-1,idx+1,weight=w)\n",
    "    B.add_edge(idx,idx+2, weight=1)\n",
    "    B.add_edge(idx+1,idx+2, weight=1)\n",
    "    if printGraph:\n",
    "        pos = nx.spectral_layout(B)\n",
    "        nx.draw_networkx(B, pos=pos)\n",
    "    return B"
   ]
  },
  {
   "cell_type": "code",
   "execution_count": 247,
   "metadata": {
    "collapsed": false
   },
   "outputs": [
    {
     "data": {
      "image/png": "[encoded data removed]",
      "text/plain": [
       "<matplotlib.figure.Figure at 0x117d1c690>"
      ]
     },
     "metadata": {},
     "output_type": "display_data"
    }
   ],
   "source": [
    "B = get_bubble_graph(10, 1, printGraph=True)"
   ]
  },
  {
   "cell_type": "code",
   "execution_count": 76,
   "metadata": {
    "collapsed": false
   },
   "outputs": [
    {
     "ename": "NameError",
     "evalue": "global name 'path_transfer' is not defined",
     "output_type": "error",
     "traceback": [
      "\u001b[0;31m---------------------------------------------------------------------------\u001b[0m",
      "\u001b[0;31mNameError\u001b[0m                                 Traceback (most recent call last)",
      "\u001b[0;32m<ipython-input-76-3b7f2e7636df>\u001b[0m in \u001b[0;36m<module>\u001b[0;34m()\u001b[0m\n\u001b[1;32m      3\u001b[0m \u001b[0mresults_clean_w100\u001b[0m \u001b[0;34m=\u001b[0m \u001b[0;34m[\u001b[0m\u001b[0;34m]\u001b[0m\u001b[0;34m\u001b[0m\u001b[0m\n\u001b[1;32m      4\u001b[0m \u001b[0;32mfor\u001b[0m \u001b[0mn0\u001b[0m \u001b[0;32min\u001b[0m \u001b[0mrange\u001b[0m\u001b[0;34m(\u001b[0m\u001b[0;36m7\u001b[0m\u001b[0;34m,\u001b[0m\u001b[0;36m33\u001b[0m\u001b[0;34m+\u001b[0m\u001b[0;36m1\u001b[0m\u001b[0;34m,\u001b[0m\u001b[0;36m4\u001b[0m\u001b[0;34m)\u001b[0m\u001b[0;34m:\u001b[0m\u001b[0;34m\u001b[0m\u001b[0m\n\u001b[0;32m----> 5\u001b[0;31m     \u001b[0mresults_clean_w1\u001b[0m\u001b[0;34m.\u001b[0m\u001b[0mappend\u001b[0m\u001b[0;34m(\u001b[0m\u001b[0;34m(\u001b[0m\u001b[0mn0\u001b[0m\u001b[0;34m,\u001b[0m \u001b[0mget_entropy_clean_bubble\u001b[0m\u001b[0;34m(\u001b[0m\u001b[0mn0\u001b[0m\u001b[0;34m,\u001b[0m \u001b[0;36m1\u001b[0m\u001b[0;34m)\u001b[0m\u001b[0;34m)\u001b[0m\u001b[0;34m)\u001b[0m\u001b[0;34m\u001b[0m\u001b[0m\n\u001b[0m\u001b[1;32m      6\u001b[0m     \u001b[0mresults_clean_w3\u001b[0m\u001b[0;34m.\u001b[0m\u001b[0mappend\u001b[0m\u001b[0;34m(\u001b[0m\u001b[0;34m(\u001b[0m\u001b[0mn0\u001b[0m\u001b[0;34m,\u001b[0m \u001b[0mget_entropy_clean_bubble\u001b[0m\u001b[0;34m(\u001b[0m\u001b[0mn0\u001b[0m\u001b[0;34m,\u001b[0m \u001b[0;36m3\u001b[0m\u001b[0;34m)\u001b[0m\u001b[0;34m)\u001b[0m\u001b[0;34m)\u001b[0m\u001b[0;34m\u001b[0m\u001b[0m\n\u001b[1;32m      7\u001b[0m     \u001b[0mresults_clean_w100\u001b[0m\u001b[0;34m.\u001b[0m\u001b[0mappend\u001b[0m\u001b[0;34m(\u001b[0m\u001b[0;34m(\u001b[0m\u001b[0mn0\u001b[0m\u001b[0;34m,\u001b[0m \u001b[0mget_entropy_clean_bubble\u001b[0m\u001b[0;34m(\u001b[0m\u001b[0mn0\u001b[0m\u001b[0;34m,\u001b[0m \u001b[0;36m100\u001b[0m\u001b[0;34m)\u001b[0m\u001b[0;34m)\u001b[0m\u001b[0;34m)\u001b[0m\u001b[0;34m\u001b[0m\u001b[0m\n",
      "\u001b[0;32m<ipython-input-74-9ef6f239f3d9>\u001b[0m in \u001b[0;36mget_entropy_clean_bubble\u001b[0;34m(n, w, normalize, printGraph)\u001b[0m\n\u001b[1;32m     16\u001b[0m         \u001b[0mpos\u001b[0m \u001b[0;34m=\u001b[0m \u001b[0mnx\u001b[0m\u001b[0;34m.\u001b[0m\u001b[0mspectral_layout\u001b[0m\u001b[0;34m(\u001b[0m\u001b[0mB\u001b[0m\u001b[0;34m)\u001b[0m\u001b[0;34m\u001b[0m\u001b[0m\n\u001b[1;32m     17\u001b[0m         \u001b[0mnx\u001b[0m\u001b[0;34m.\u001b[0m\u001b[0mdraw_networkx\u001b[0m\u001b[0;34m(\u001b[0m\u001b[0mB\u001b[0m\u001b[0;34m,\u001b[0m \u001b[0mpos\u001b[0m\u001b[0;34m=\u001b[0m\u001b[0mpos\u001b[0m\u001b[0;34m)\u001b[0m\u001b[0;34m\u001b[0m\u001b[0m\n\u001b[0;32m---> 18\u001b[0;31m     \u001b[0mgraphH\u001b[0m \u001b[0;34m=\u001b[0m \u001b[0mpath_transfer\u001b[0m\u001b[0;34m(\u001b[0m\u001b[0;36m0\u001b[0m\u001b[0;34m,\u001b[0m \u001b[0mB\u001b[0m\u001b[0;34m)\u001b[0m\u001b[0;34m\u001b[0m\u001b[0m\n\u001b[0m\u001b[1;32m     19\u001b[0m     \u001b[0;32mif\u001b[0m \u001b[0mnormalize\u001b[0m\u001b[0;34m:\u001b[0m\u001b[0;34m\u001b[0m\u001b[0m\n\u001b[1;32m     20\u001b[0m         \u001b[0mgraphH\u001b[0m \u001b[0;34m=\u001b[0m \u001b[0mgraphH\u001b[0m\u001b[0;34m/\u001b[0m\u001b[0mnp\u001b[0m\u001b[0;34m.\u001b[0m\u001b[0mlog\u001b[0m\u001b[0;34m(\u001b[0m\u001b[0mn\u001b[0m\u001b[0;34m+\u001b[0m\u001b[0;36m2\u001b[0m\u001b[0;34m)\u001b[0m\u001b[0;34m\u001b[0m\u001b[0m\n",
      "\u001b[0;31mNameError\u001b[0m: global name 'path_transfer' is not defined"
     ]
    }
   ],
   "source": [
    "results_clean_w1 = []\n",
    "results_clean_w3 = []\n",
    "results_clean_w100 = []\n",
    "for n0 in range(7,33+1,4):\n",
    "    results_clean_w1.append((n0, get_entropy_clean_bubble(n0, 1)))\n",
    "    results_clean_w3.append((n0, get_entropy_clean_bubble(n0, 3)))\n",
    "    results_clean_w100.append((n0, get_entropy_clean_bubble(n0, 100)))"
   ]
  },
  {
   "cell_type": "markdown",
   "metadata": {},
   "source": [
    "A entropia do caminho cresce linearmente a medida que o número de nós na bolha aumenta. O número de nós numa bolha pode ser relacionado ao tamanho do k-mer usado na construção do grafo já que SNPs formam bolhas contendo k-mer nós + 2 (nó junção inicial e nó fechamento). Essa afirmação só é válida para bolhas limpas (clean bubbles)."
   ]
  },
  {
   "cell_type": "code",
   "execution_count": 117,
   "metadata": {
    "collapsed": false
   },
   "outputs": [
    {
     "ename": "NameError",
     "evalue": "name 'results_clean_w1' is not defined",
     "output_type": "error",
     "traceback": [
      "\u001b[0;31m---------------------------------------------------------------------------\u001b[0m",
      "\u001b[0;31mNameError\u001b[0m                                 Traceback (most recent call last)",
      "\u001b[0;32m<ipython-input-117-db041be63d17>\u001b[0m in \u001b[0;36m<module>\u001b[0;34m()\u001b[0m\n\u001b[0;32m----> 1\u001b[0;31m \u001b[0msize_bubbles_w1\u001b[0m \u001b[0;34m=\u001b[0m \u001b[0;34m[\u001b[0m\u001b[0ms\u001b[0m\u001b[0;34m[\u001b[0m\u001b[0;36m0\u001b[0m\u001b[0;34m]\u001b[0m \u001b[0;32mfor\u001b[0m \u001b[0ms\u001b[0m \u001b[0;32min\u001b[0m \u001b[0mresults_clean_w1\u001b[0m\u001b[0;34m]\u001b[0m\u001b[0;34m\u001b[0m\u001b[0m\n\u001b[0m\u001b[1;32m      2\u001b[0m \u001b[0mentropy_bubbles_w1\u001b[0m \u001b[0;34m=\u001b[0m \u001b[0;34m[\u001b[0m\u001b[0me\u001b[0m\u001b[0;34m[\u001b[0m\u001b[0;36m1\u001b[0m\u001b[0;34m]\u001b[0m \u001b[0;32mfor\u001b[0m \u001b[0me\u001b[0m \u001b[0;32min\u001b[0m \u001b[0mresults_clean_w1\u001b[0m\u001b[0;34m]\u001b[0m\u001b[0;34m\u001b[0m\u001b[0m\n\u001b[1;32m      3\u001b[0m \u001b[0;34m\u001b[0m\u001b[0m\n\u001b[1;32m      4\u001b[0m \u001b[0msize_bubbles_w3\u001b[0m \u001b[0;34m=\u001b[0m \u001b[0;34m[\u001b[0m\u001b[0ms\u001b[0m\u001b[0;34m[\u001b[0m\u001b[0;36m0\u001b[0m\u001b[0;34m]\u001b[0m \u001b[0;32mfor\u001b[0m \u001b[0ms\u001b[0m \u001b[0;32min\u001b[0m \u001b[0mresults_clean_w3\u001b[0m\u001b[0;34m]\u001b[0m\u001b[0;34m\u001b[0m\u001b[0m\n\u001b[1;32m      5\u001b[0m \u001b[0mentropy_bubbles_w3\u001b[0m \u001b[0;34m=\u001b[0m \u001b[0;34m[\u001b[0m\u001b[0me\u001b[0m\u001b[0;34m[\u001b[0m\u001b[0;36m1\u001b[0m\u001b[0;34m]\u001b[0m \u001b[0;32mfor\u001b[0m \u001b[0me\u001b[0m \u001b[0;32min\u001b[0m \u001b[0mresults_clean_w3\u001b[0m\u001b[0;34m]\u001b[0m\u001b[0;34m\u001b[0m\u001b[0m\n",
      "\u001b[0;31mNameError\u001b[0m: name 'results_clean_w1' is not defined"
     ]
    }
   ],
   "source": [
    "size_bubbles_w1 = [s[0] for s in results_clean_w1]\n",
    "entropy_bubbles_w1 = [e[1] for e in results_clean_w1]\n",
    "\n",
    "size_bubbles_w3 = [s[0] for s in results_clean_w3]\n",
    "entropy_bubbles_w3 = [e[1] for e in results_clean_w3]\n",
    "\n",
    "size_bubbles_w100 = [s[0] for s in results_clean_w100]\n",
    "entropy_bubbles_w100 = [e[1] for e in results_clean_w100]\n",
    "\n",
    "plt.plot(size_bubbles_w1, entropy_bubbles_w1)\n",
    "plt.plot(size_bubbles_w3, entropy_bubbles_w3)\n",
    "plt.plot(size_bubbles_w3, entropy_bubbles_w100)"
   ]
  },
  {
   "cell_type": "code",
   "execution_count": 78,
   "metadata": {
    "collapsed": false
   },
   "outputs": [
    {
     "data": {
      "text/plain": [
       "array([], dtype=float64)"
      ]
     },
     "execution_count": 78,
     "metadata": {},
     "output_type": "execute_result"
    }
   ],
   "source": [
    "np.array(entropy_bubbles_w1)-np.array(entropy_bubbles_w3)"
   ]
  },
  {
   "cell_type": "markdown",
   "metadata": {},
   "source": [
    "Rascunhando cálculos determinei a centralidade do nó da primeira bifurcação, $i$, denominado $C_H(i)$ equivalendo à expressão,\n",
    "\n",
    "$C_H(i) = \\frac{(outDegree(i)\\ast N + 1)}{outDegree(i)} $,\n",
    "\n",
    "com $N$ sendo o número de nós entre as bifurcações para todos os pesos de arestas iguais a 1 (sem peso).\n",
    "\n",
    "**TODO:** descobrir a diferença entre a entropia do caminho com peso igual a 1 e os caminhos com peso W."
   ]
  },
  {
   "cell_type": "code",
   "execution_count": 67,
   "metadata": {
    "collapsed": false
   },
   "outputs": [
    {
     "data": {
      "image/png": "[encoded data removed]",
      "text/plain": [
       "<matplotlib.figure.Figure at 0x1130aec10>"
      ]
     },
     "metadata": {},
     "output_type": "display_data"
    }
   ],
   "source": [
    "G_VI = nx.Graph()\n",
    "G_VI.add_edge(1,2)\n",
    "G_VI.add_edge(2,3)\n",
    "G_VI.add_edge(3,4)\n",
    "G_VI.add_edge(4,5)\n",
    "\n",
    "\n",
    "pos = nx.spectral_layout(G_VI)\n",
    "nx.draw_networkx(G_VI, pos=pos)"
   ]
  },
  {
   "cell_type": "markdown",
   "metadata": {},
   "source": [
    "### Bonchev metric"
   ]
  },
  {
   "cell_type": "code",
   "execution_count": 275,
   "metadata": {
    "collapsed": false
   },
   "outputs": [
    {
     "data": {
      "image/png": "[encoded data removed]",
      "text/plain": [
       "<matplotlib.figure.Figure at 0x113093590>"
      ]
     },
     "metadata": {},
     "output_type": "display_data"
    }
   ],
   "source": [
    "dG_VI = nx.DiGraph()\n",
    "dG_VI.add_edge(1,2)\n",
    "dG_VI.add_edge(2,3)\n",
    "dG_VI.add_edge(3,4)\n",
    "dG_VI.add_edge(4,5)\n",
    "\n",
    "pos = nx.spectral_layout(dG_VI)\n",
    "nx.draw_networkx(dG_VI, pos=pos)"
   ]
  },
  {
   "cell_type": "code",
   "execution_count": 276,
   "metadata": {
    "collapsed": false
   },
   "outputs": [
    {
     "data": {
      "text/plain": [
       "0.7000000000000001"
      ]
     },
     "execution_count": 276,
     "metadata": {},
     "output_type": "execute_result"
    }
   ],
   "source": [
    "dummy_linked_end = dG_VI.copy()\n",
    "dummy_linked_end.add_edge(5,1)\n",
    "von_entropy(dummy_linked_end)"
   ]
  },
  {
   "cell_type": "code",
   "execution_count": 277,
   "metadata": {
    "collapsed": false
   },
   "outputs": [
    {
     "data": {
      "text/plain": [
       "0.7825000000000001"
      ]
     },
     "execution_count": 277,
     "metadata": {},
     "output_type": "execute_result"
    }
   ],
   "source": [
    "von_entropy(add_selfedges(dG_VI))"
   ]
  },
  {
   "cell_type": "code",
   "execution_count": 278,
   "metadata": {
    "collapsed": false
   },
   "outputs": [
    {
     "data": {
      "text/plain": [
       "0.7000000000000001"
      ]
     },
     "execution_count": 278,
     "metadata": {},
     "output_type": "execute_result"
    }
   ],
   "source": [
    "von_entropy(dG_VI, add_fake=True)"
   ]
  },
  {
   "cell_type": "code",
   "execution_count": 279,
   "metadata": {
    "collapsed": false
   },
   "outputs": [
    {
     "data": {
      "text/plain": [
       "0.7000000000000001"
      ]
     },
     "execution_count": 279,
     "metadata": {},
     "output_type": "execute_result"
    }
   ],
   "source": [
    "von_entropy(dG_VI, add_fake=True, normalize=False)"
   ]
  },
  {
   "cell_type": "code",
   "execution_count": 280,
   "metadata": {
    "collapsed": false
   },
   "outputs": [
    {
     "data": {
      "text/plain": [
       "0.5"
      ]
     },
     "execution_count": 280,
     "metadata": {},
     "output_type": "execute_result"
    }
   ],
   "source": [
    "von_entropy(dG_VI, add_fake=True, normalize=True)"
   ]
  },
  {
   "cell_type": "code",
   "execution_count": 281,
   "metadata": {
    "collapsed": false
   },
   "outputs": [
    {
     "data": {
      "text/plain": [
       "0.74"
      ]
     },
     "execution_count": 281,
     "metadata": {},
     "output_type": "execute_result"
    }
   ],
   "source": [
    "von_entropy(dG_VI)"
   ]
  },
  {
   "cell_type": "code",
   "execution_count": 82,
   "metadata": {
    "collapsed": true
   },
   "outputs": [],
   "source": [
    "G_VII = nx.Graph()\n",
    "G_VII.add_edge(1,2)\n",
    "G_VII.add_edge(2,3)\n",
    "G_VII.add_edge(3,5)\n",
    "G_VII.add_edge(3,4)\n",
    "\n",
    "G_VIII = nx.Graph()\n",
    "G_VIII.add_edge(2,5)\n",
    "G_VIII.add_edge(5,3)\n",
    "G_VIII.add_edge(5,4)\n",
    "G_VIII.add_edge(5,1)"
   ]
  },
  {
   "cell_type": "code",
   "execution_count": 73,
   "metadata": {
    "collapsed": false
   },
   "outputs": [],
   "source": [
    "def entropy_bonchev_shannon(G):\n",
    "    nVertices = len(nx.nodes(G))\n",
    "    # print \"Number of vertices: \",nVertices\n",
    "    I_mean = 0\n",
    "    M = {}\n",
    "    dist_back = []\n",
    "#     normalizing = (nVertices**2-nVertices)\n",
    "    normalizing = nVertices*(nVertices-1)    #(N-1)N\n",
    "    for node_i in nx.nodes(G):\n",
    "        for node_j in nx.nodes(G):\n",
    "            if node_j >= node_i:\n",
    "                try:\n",
    "                    dist = len(nx.shortest_path(G, source=node_i, target=node_j))-1\n",
    "                except nx.NetworkXNoPath:\n",
    "                    dist = 0\n",
    "                # print \"Dist (\", node_i,\",\",node_j,\") = \", dist\n",
    "                if dist in dist_back:\n",
    "                    M[dist] += 1\n",
    "                else:\n",
    "                    M[dist] = 1\n",
    "                    dist_back.append(dist)\n",
    "    for i in M.keys():\n",
    "        if i != 0:\n",
    "            # print \"key: \",i\n",
    "            #log_pi = np.log(M[i])-np.log(nVertices**2)\n",
    "            #pi = np.exp(log_pi)\n",
    "            pi = float(M[i])/normalizing\n",
    "            I_mean -= pi * np.log2(pi)\n",
    "    # print M\n",
    "    return I_mean, M, normalizing"
   ]
  },
  {
   "cell_type": "code",
   "execution_count": 293,
   "metadata": {
    "collapsed": false
   },
   "outputs": [],
   "source": [
    "def add_selfedges(dG):\n",
    "    dGout = dG.copy()\n",
    "    for node in nx.nodes(dGout):\n",
    "        dGout.add_edge(node, node)\n",
    "    return dGout\n",
    "\n",
    "def add_fake_source(dG):\n",
    "    topological = nx.topological_sort(dG)\n",
    "    fakeSource = -1\n",
    "    source = topological[0]\n",
    "    dG.add_edge(fakeSource, fakeSource)\n",
    "    dG.add_edge(fakeSource, source)\n",
    "    return dG\n",
    "\n",
    "def von_entropy(dG, add_fake=False, normalize=False, add_self=False):\n",
    "    dGfake = dG.copy()\n",
    "    if (add_fake == True):\n",
    "        dGfake = add_fake_source(dGfake)\n",
    "        nNodes = len(nx.nodes(dGfake))-1\n",
    "    else:\n",
    "        nNodes = len(nx.nodes(dGfake))\n",
    "    if (add_self == True):\n",
    "        dGfake = add_selfedges(dGfake)\n",
    "        nNodes = len(nx.nodes(dGfake))-1\n",
    "    sumEls = 0\n",
    "    for u,v in nx.edges(dGfake):\n",
    "        if u != v:\n",
    "           # print(u,\"->\",v)\n",
    "            d_u_in = dGfake.in_degree(u)\n",
    "            d_v_in = dGfake.in_degree(v)\n",
    "            d_u_out = dGfake.out_degree(u)\n",
    "            el = float(d_u_in)/(d_v_in*(d_u_out**2))\n",
    "            sumEls += el\n",
    "    if (add_fake == True):\n",
    "        sumEls += (3./4)\n",
    "    if (normalize == True):\n",
    "        return ((1./(2*nNodes))*sumEls)\n",
    "    else:\n",
    "        nNodesSquare = nNodes ** 2\n",
    "        return (1 - (1./nNodes) - ((1./(2*nNodesSquare))*sumEls))\n",
    "    "
   ]
  },
  {
   "cell_type": "code",
   "execution_count": 269,
   "metadata": {
    "collapsed": false
   },
   "outputs": [],
   "source": [
    "from networkx.algorithms import isomorphism\n",
    "\n",
    "G_I = nx.Graph()\n",
    "G_I.add_edge(1,2)\n",
    "# G_I.add_edge(2,3)\n",
    "# G_I.add_edge(3,1)\n",
    "G_I.add_edge(1,5)\n",
    "G_I.add_edge(2,5)\n",
    "G_I.add_edge(2,6)\n",
    "G_I.add_edge(5,7)\n",
    "G_I.add_edge(5,4)\n",
    "G_I.add_edge(3,4)\n",
    "G_I.add_edge(2,3)\n",
    "\n",
    "G_B = nx.DiGraph()\n",
    "G_B.add_edge(1,2)\n",
    "G_B.add_edge(2,3)\n",
    "\n",
    "def entropy_rashevsky(G_I, digraph=False):\n",
    "    if digraph:\n",
    "        GM = isomorphism.DiGraphMatcher(G_I, G_I)\n",
    "    else:\n",
    "        GM = isomorphism.GraphMatcher(G_I, G_I)\n",
    "    nNodes = len(nx.nodes(G_I))\n",
    "    numBig = 0\n",
    "    for sets in list(GM.isomorphisms_iter()):\n",
    "#         print \"---------------\"\n",
    "#         print sets\n",
    "#         print \"---------------\"\n",
    "        num = 0\n",
    "        for (key,value) in sets.iteritems():\n",
    "            #if (key != value) and (key in nodes) and (value in nodes):\n",
    "            if (key != value):\n",
    "                num += 1\n",
    "#         print \"num: \", num\n",
    "        if num > numBig:\n",
    "            numBig = num\n",
    "            result = sets\n",
    "            #    nodes.remove(key)\n",
    "            #    nodes.remove(value)\n",
    "            #    print \"(\",key,value,\")\"\n",
    "        #print \"xxxxxxxxxxxxxxx\"\n",
    "    if numBig == 0:\n",
    "        HR = np.log2(nNodes)\n",
    "        return numBig, [], [], HR\n",
    "    checked_nodes = []\n",
    "    rr = []\n",
    "    HR = 0\n",
    "    for (key,value) in result.iteritems():\n",
    "        if key not in checked_nodes:\n",
    "            r = []\n",
    "            if key != result[key]:\n",
    "                checked_nodes.append(key)\n",
    "                r.append(key)\n",
    "                newKey = result[key]\n",
    "                while(newKey != key):\n",
    "                    checked_nodes.append(newKey)\n",
    "                    r.append(newKey)\n",
    "                    newKey = result[newKey]          \n",
    "            else:\n",
    "    #             HR -= (1./nNodes)*np.log2(1./nNodes)\n",
    "                r.append(key)\n",
    "            pi = float(len(r))/nNodes\n",
    "            HR -= pi*np.log2(pi)\n",
    "            rr.append(r)\n",
    "    #         print \"(\",key,value,\")\"\n",
    "    #         nodes.remove(key)\n",
    "    #         try:\n",
    "    #             nodes.remove(value)\n",
    "    #         except ValueError:\n",
    "    #             continue\n",
    "    return numBig, result, rr, HR\n"
   ]
  },
  {
   "cell_type": "markdown",
   "metadata": {},
   "source": [
    "Lets consider a chain of nodes with N vertices represented in a digraph. We're going to increase the chain's size up to 100 nodes jumping from 3 to 103 in 10 to simulate unitigs. After that we will compute the entropy using Rashevsky, Bonchev and Von Neumann measures."
   ]
  },
  {
   "cell_type": "code",
   "execution_count": 102,
   "metadata": {
    "collapsed": false
   },
   "outputs": [
    {
     "name": "stdout",
     "output_type": "stream",
     "text": [
      "Construct chain size:  3\n",
      "Construct chain size:  13\n",
      "Construct chain size:  23\n",
      "Construct chain size:  33\n",
      "Construct chain size:  43\n",
      "Construct chain size:  53\n",
      "Construct chain size:  63\n",
      "Construct chain size:  73\n",
      "Construct chain size:  83\n",
      "Construct chain size:  93\n",
      "Construct chain size:  103\n"
     ]
    }
   ],
   "source": [
    "x=1\n",
    "G_c = nx.DiGraph()\n",
    "size_graphs = []\n",
    "entropy_rashevsky_values = []\n",
    "entropy_bonchev_values = []\n",
    "entropy_von = []\n",
    "entropy_von_norm = []\n",
    "for size in range(3, 103+1, 10):\n",
    "    print \"Construct chain size: \", size\n",
    "    for i in range(x+1,size):\n",
    "        G_c.add_edge(x,i)\n",
    "        x+=1\n",
    "        \n",
    "    size_graphs.append(len(nx.nodes(G_c)))\n",
    "    _, _, _, HR = entropy_rashevsky(G_c, digraph=True)\n",
    "    HB, _, _ = entropy_bonchev_shannon(G_c)\n",
    "    H_vn = von_entropy(G_c, add_fake=True, normalize=False)\n",
    "    H_vn_norm = von_entropy(G_c, add_fake=True, normalize=True)\n",
    "    entropy_rashevsky_values.append(HR)\n",
    "    entropy_bonchev_values.append(HB)\n",
    "    entropy_von.append(H_vn)\n",
    "    entropy_von_norm.append(H_vn_norm)"
   ]
  },
  {
   "cell_type": "code",
   "execution_count": 103,
   "metadata": {
    "collapsed": false
   },
   "outputs": [
    {
     "data": {
      "text/plain": [
       "<matplotlib.legend.Legend at 0x112ce1e50>"
      ]
     },
     "execution_count": 103,
     "metadata": {},
     "output_type": "execute_result"
    },
    {
     "data": {
      "image/png": "[encoded data removed]",
      "text/plain": [
       "<matplotlib.figure.Figure at 0x113b97450>"
      ]
     },
     "metadata": {},
     "output_type": "display_data"
    }
   ],
   "source": [
    "plt.plot(size_graphs, entropy_rashevsky_values, label='Rashevsky')\n",
    "plt.plot(size_graphs, entropy_bonchev_values, label='Bonchev')\n",
    "plt.plot(size_graphs, entropy_von, label='Von-Neumann')\n",
    "plt.plot(size_graphs, entropy_von_norm, label='Von-Neumann-norm')\n",
    "plt.legend(loc=2)"
   ]
  },
  {
   "cell_type": "markdown",
   "metadata": {},
   "source": [
    "### Explorando non-clean bubbles"
   ]
  },
  {
   "cell_type": "markdown",
   "metadata": {},
   "source": [
    "O exemplo explorado refere-se ao grafo mostrado na fig A."
   ]
  },
  {
   "cell_type": "code",
   "execution_count": 210,
   "metadata": {
    "collapsed": false
   },
   "outputs": [
    {
     "data": {
      "image/png": "[encoded data removed]",
      "text/plain": [
       "<matplotlib.figure.Figure at 0x116c208d0>"
      ]
     },
     "metadata": {},
     "output_type": "display_data"
    }
   ],
   "source": [
    "G_A = nx.DiGraph()\n",
    "banish = [\"TACACG\", \"ACACGT\",\"ACATCG\"]\n",
    "for difpath in [dicSeqDummy1[\"links\"],dicSeqDummy2[\"links\"],dicSeqRef[\"links\"]]:\n",
    "    for edge in difpath:\n",
    "        if ((edge[\"source\"] not in banish) and (edge[\"target\"] not in banish)):\n",
    "            G_A.add_edge(edge[\"source\"], edge[\"target\"],weight=1)\n",
    "pos = nx.spectral_layout(G_A)\n",
    "nx.draw_networkx(G_A, pos=pos)"
   ]
  },
  {
   "cell_type": "code",
   "execution_count": 211,
   "metadata": {
    "collapsed": true
   },
   "outputs": [],
   "source": [
    "dG_X = nx.DiGraph()\n",
    "dG_X.add_edge(1,2)\n",
    "dG_X.add_edge(2,3)\n",
    "dG_X.add_edge(3,4)\n",
    "dG_X.add_edge(4,5)\n",
    "dG_X.add_edge(5,6)\n",
    "dG_X.add_edge(6,7)\n",
    "dG_X.add_edge(7,8)\n",
    "dG_X.add_edge(8,9)\n",
    "#dG_X.add_edge(9,10)\n"
   ]
  },
  {
   "cell_type": "code",
   "execution_count": 212,
   "metadata": {
    "collapsed": true
   },
   "outputs": [],
   "source": [
    "def compute_dif_entropy(G):\n",
    "    _, _, _, HR = entropy_rashevsky(G, digraph=True)\n",
    "    HB, _, _ = entropy_bonchev_shannon(G)\n",
    "    H_vn = von_entropy(G, add_fake=True, normalize=False)\n",
    "    H_vn_norm = von_entropy(G, add_fake=True, normalize=True)\n",
    "    return (HR, HB, H_vn, H_vn_norm)"
   ]
  },
  {
   "cell_type": "code",
   "execution_count": 213,
   "metadata": {
    "collapsed": false
   },
   "outputs": [],
   "source": [
    "GA_HR, GA_HB, GA_H_vn, GA_H_vn_norm = compute_dif_entropy(G_A)"
   ]
  },
  {
   "cell_type": "code",
   "execution_count": 214,
   "metadata": {
    "collapsed": false
   },
   "outputs": [
    {
     "data": {
      "text/plain": [
       "(4.3923174227787607,\n",
       " 0.81792298565503796,\n",
       " 0.9314058956916099,\n",
       " 0.44047619047619047)"
      ]
     },
     "execution_count": 214,
     "metadata": {},
     "output_type": "execute_result"
    }
   ],
   "source": [
    "GA_HR, GA_HB, GA_H_vn, GA_H_vn_norm"
   ]
  },
  {
   "cell_type": "code",
   "execution_count": 215,
   "metadata": {
    "collapsed": false
   },
   "outputs": [
    {
     "data": {
      "text/plain": [
       "(0.8333333333333333, 0.5)"
      ]
     },
     "execution_count": 215,
     "metadata": {},
     "output_type": "execute_result"
    }
   ],
   "source": [
    "von_entropy(dG_X, add_fake=True, normalize=False), von_entropy(dG_X, add_fake=True, normalize=True)"
   ]
  },
  {
   "cell_type": "markdown",
   "metadata": {},
   "source": [
    "**Exemplo B**"
   ]
  },
  {
   "cell_type": "code",
   "execution_count": 216,
   "metadata": {
    "collapsed": false
   },
   "outputs": [],
   "source": [
    "# \"TACACGTCGGCACATCG\",\"TACACGTCTGCACATCG\",\"TACACGTCTTCACATCG\"\n",
    "# Check variant in position 9 -----** and a second variant in position 10 branching from two alleles (Dummy1 and Dummy3)\n",
    "# The Dummy1 is colored in green and Dummy2 has black line while branching variants are dashed lines\n",
    "dicSeqDummy1 = set_g_json(\"TACACGTCGGCACATCG\",7, \"licensing\")\n",
    "dicSeqDummy2 = set_g_json(\"TACACGTCTGCACATCG\",7, \"suit\")\n",
    "dicSeqRef =    set_g_json(\"TACACGTCGTCACATCG\",7, \"resolved\")\n",
    "dicSeqDummy3 = set_g_json(\"TACACGTCTTCACATCG\",7, \"resolved\")"
   ]
  },
  {
   "cell_type": "code",
   "execution_count": 217,
   "metadata": {
    "collapsed": true
   },
   "outputs": [],
   "source": [
    "dataDummy1 = dicSeqDummy1['links']\n",
    "dataDummy2 = dicSeqDummy2['links']\n",
    "dataDummy3 = dicSeqDummy3['links']\n",
    "dataRef = dicSeqRef['links']\n",
    "\n",
    "data = json.dumps(dataDummy1 + dataDummy2 + dataDummy3 + dataRef)"
   ]
  },
  {
   "cell_type": "code",
   "execution_count": 218,
   "metadata": {
    "collapsed": false
   },
   "outputs": [
    {
     "data": {
      "text/html": [
       "\n",
       "<style> \n",
       "path.link {\n",
       "  fill: none;\n",
       "  stroke: #666;\n",
       "  stroke-width: 1.5px;\n",
       "}\n",
       "\n",
       "marker#licensing {\n",
       "  fill: green;\n",
       "}\n",
       "\n",
       "path.link.licensing {\n",
       "  stroke: green;\n",
       "}\n",
       "\n",
       "path.link.resolved {\n",
       "  stroke-dasharray: 0,2 1;\n",
       "}\n",
       "\n",
       "circle {\n",
       "  fill: #ccc;\n",
       "  stroke: #333;\n",
       "  stroke-width: 1.5px;\n",
       "}\n",
       "\n",
       "text {\n",
       "  font: 10px sans-serif;\n",
       "  pointer-events: none;\n",
       "}\n",
       "\n",
       "text.shadow {\n",
       "  stroke: #fff;\n",
       "  stroke-width: 3px;\n",
       "  stroke-opacity: .8;\n",
       "}\n",
       " </style>\n",
       "<div id=\"graph-div-B\"></div>\n",
       "<script> \n",
       "\n",
       "// http://blog.thomsonreuters.com/index.php/mobile-patent-suits-graphic-of-the-day/\n",
       "var links = [{\"source\": \"ACGTCG\", \"type\": \"licensing\", \"target\": \"CGTCGG\", \"width\": 1}, {\"source\": \"CGGCAC\", \"type\": \"licensing\", \"target\": \"GGCACA\", \"width\": 1}, {\"source\": \"CGTCGG\", \"type\": \"licensing\", \"target\": \"GTCGGC\", \"width\": 1}, {\"source\": \"CACGTC\", \"type\": \"licensing\", \"target\": \"ACGTCG\", \"width\": 1}, {\"source\": \"CACATC\", \"type\": \"licensing\", \"target\": \"ACATCG\", \"width\": 1}, {\"source\": \"ACACGT\", \"type\": \"licensing\", \"target\": \"CACGTC\", \"width\": 1}, {\"source\": \"GGCACA\", \"type\": \"licensing\", \"target\": \"GCACAT\", \"width\": 1}, {\"source\": \"TCGGCA\", \"type\": \"licensing\", \"target\": \"CGGCAC\", \"width\": 1}, {\"source\": \"GTCGGC\", \"type\": \"licensing\", \"target\": \"TCGGCA\", \"width\": 1}, {\"source\": \"GCACAT\", \"type\": \"licensing\", \"target\": \"CACATC\", \"width\": 1}, {\"source\": \"TACACG\", \"type\": \"licensing\", \"target\": \"ACACGT\", \"width\": 1}, {\"source\": \"TCTGCA\", \"type\": \"suit\", \"target\": \"CTGCAC\", \"width\": 1}, {\"source\": \"CACGTC\", \"type\": \"suit\", \"target\": \"ACGTCT\", \"width\": 1}, {\"source\": \"CACATC\", \"type\": \"suit\", \"target\": \"ACATCG\", \"width\": 1}, {\"source\": \"ACACGT\", \"type\": \"suit\", \"target\": \"CACGTC\", \"width\": 1}, {\"source\": \"CTGCAC\", \"type\": \"suit\", \"target\": \"TGCACA\", \"width\": 1}, {\"source\": \"GCACAT\", \"type\": \"suit\", \"target\": \"CACATC\", \"width\": 1}, {\"source\": \"ACGTCT\", \"type\": \"suit\", \"target\": \"CGTCTG\", \"width\": 1}, {\"source\": \"GTCTGC\", \"type\": \"suit\", \"target\": \"TCTGCA\", \"width\": 1}, {\"source\": \"TGCACA\", \"type\": \"suit\", \"target\": \"GCACAT\", \"width\": 1}, {\"source\": \"CGTCTG\", \"type\": \"suit\", \"target\": \"GTCTGC\", \"width\": 1}, {\"source\": \"TACACG\", \"type\": \"suit\", \"target\": \"ACACGT\", \"width\": 1}, {\"source\": \"CACGTC\", \"type\": \"resolved\", \"target\": \"ACGTCT\", \"width\": 1}, {\"source\": \"CACATC\", \"type\": \"resolved\", \"target\": \"ACATCG\", \"width\": 1}, {\"source\": \"ACACGT\", \"type\": \"resolved\", \"target\": \"CACGTC\", \"width\": 1}, {\"source\": \"TCTTCA\", \"type\": \"resolved\", \"target\": \"CTTCAC\", \"width\": 1}, {\"source\": \"CGTCTT\", \"type\": \"resolved\", \"target\": \"GTCTTC\", \"width\": 1}, {\"source\": \"ACGTCT\", \"type\": \"resolved\", \"target\": \"CGTCTT\", \"width\": 1}, {\"source\": \"TACACG\", \"type\": \"resolved\", \"target\": \"ACACGT\", \"width\": 1}, {\"source\": \"TCACAT\", \"type\": \"resolved\", \"target\": \"CACATC\", \"width\": 1}, {\"source\": \"CTTCAC\", \"type\": \"resolved\", \"target\": \"TTCACA\", \"width\": 1}, {\"source\": \"GTCTTC\", \"type\": \"resolved\", \"target\": \"TCTTCA\", \"width\": 1}, {\"source\": \"TTCACA\", \"type\": \"resolved\", \"target\": \"TCACAT\", \"width\": 1}, {\"source\": \"TCGTCA\", \"type\": \"resolved\", \"target\": \"CGTCAC\", \"width\": 1}, {\"source\": \"ACGTCG\", \"type\": \"resolved\", \"target\": \"CGTCGT\", \"width\": 1}, {\"source\": \"GTCGTC\", \"type\": \"resolved\", \"target\": \"TCGTCA\", \"width\": 1}, {\"source\": \"CACGTC\", \"type\": \"resolved\", \"target\": \"ACGTCG\", \"width\": 1}, {\"source\": \"CACATC\", \"type\": \"resolved\", \"target\": \"ACATCG\", \"width\": 1}, {\"source\": \"ACACGT\", \"type\": \"resolved\", \"target\": \"CACGTC\", \"width\": 1}, {\"source\": \"GTCACA\", \"type\": \"resolved\", \"target\": \"TCACAT\", \"width\": 1}, {\"source\": \"CGTCGT\", \"type\": \"resolved\", \"target\": \"GTCGTC\", \"width\": 1}, {\"source\": \"CGTCAC\", \"type\": \"resolved\", \"target\": \"GTCACA\", \"width\": 1}, {\"source\": \"TACACG\", \"type\": \"resolved\", \"target\": \"ACACGT\", \"width\": 1}, {\"source\": \"TCACAT\", \"type\": \"resolved\", \"target\": \"CACATC\", \"width\": 1}];\n",
       "\n",
       "//sort links by source, then target\n",
       "links.sort(function(a,b) {\n",
       "    if (a.source > b.source) {return 1;}\n",
       "    else if (a.source < b.source) {return -1;}\n",
       "    else {\n",
       "        if (a.target > b.target) {return 1;}\n",
       "        if (a.target < b.target) {return -1;}\n",
       "        else {return 0;}\n",
       "    }\n",
       "});\n",
       "\n",
       "//any links with duplicate source and target get an incremented 'linknum'\n",
       "for (var i=0; i<links.length; i++) {\n",
       "    if (i != 0 &&\n",
       "        links[i].source == links[i-1].source &&\n",
       "        links[i].target == links[i-1].target) {\n",
       "            links[i].linknum = links[i-1].linknum + 1;\n",
       "        }\n",
       "    else {links[i].linknum = 1;};\n",
       "};\n",
       "\n",
       "var nodes = {};\n",
       "\n",
       "// Compute the distinct nodes from the links.\n",
       "links.forEach(function(link) {\n",
       "  link.source = nodes[link.source] || (nodes[link.source] = {name: link.source});\n",
       "  link.target = nodes[link.target] || (nodes[link.target] = {name: link.target});\n",
       "});\n",
       "\n",
       "var w = 600,\n",
       "    h = 600;\n",
       "\n",
       "var force = d3.layout.force()\n",
       "    .nodes(d3.values(nodes))\n",
       "    .links(links)\n",
       "    .size([w, h])\n",
       "    .linkDistance(60)\n",
       "    .charge(-300)\n",
       "    .on(\"tick\", tick)\n",
       "    .start();\n",
       "\n",
       "var svg = d3.select(\"#graph-div-B\").append(\"svg\")\n",
       "    .attr(\"width\", w)\n",
       "    .attr(\"height\", h);\n",
       "\n",
       "// Per-type markers, as they don't inherit styles.\n",
       "svg.append(\"svg:defs\").selectAll(\"marker\")\n",
       "    .data([\"suit\", \"licensing\", \"resolved\"])\n",
       "  .enter().append(\"svg:marker\")\n",
       "    .attr(\"id\", String)\n",
       "    .attr(\"viewBox\", \"0 -5 10 10\")\n",
       "    .attr(\"refX\", 15)\n",
       "    .attr(\"refY\", -1.5)\n",
       "    .attr(\"markerWidth\", 6)\n",
       "    .attr(\"markerHeight\", 6)\n",
       "    .attr(\"orient\", \"auto\")\n",
       "  .append(\"svg:path\")\n",
       "    .attr(\"d\", \"M0,-5L10,0L0,5\");\n",
       "\n",
       "var path = svg.append(\"svg:g\").selectAll(\"path\")\n",
       "    .data(force.links())\n",
       "  .enter().append(\"svg:path\")\n",
       "    .attr(\"class\", function(d) { return \"link \" + d.type; })\n",
       "    .attr(\"marker-end\", function(d) { return \"url(#\" + d.type + \")\"; });\n",
       "\n",
       "var circle = svg.append(\"svg:g\").selectAll(\"circle\")\n",
       "    .data(force.nodes())\n",
       "  .enter().append(\"svg:circle\")\n",
       "    .attr(\"r\", 6)\n",
       "    .call(force.drag);\n",
       "\n",
       "var text = svg.append(\"svg:g\").selectAll(\"g\")\n",
       "    .data(force.nodes())\n",
       "  .enter().append(\"svg:g\");\n",
       "\n",
       "// A copy of the text with a thick white stroke for legibility.\n",
       "text.append(\"svg:text\")\n",
       "    .attr(\"x\", 8)\n",
       "    .attr(\"y\", \".31em\")\n",
       "    .attr(\"class\", \"shadow\")\n",
       "    .text(function(d) { return d.name; });\n",
       "\n",
       "text.append(\"svg:text\")\n",
       "    .attr(\"x\", 8)\n",
       "    .attr(\"y\", \".31em\")\n",
       "    .text(function(d) { return d.name; });\n",
       "\n",
       "// Use elliptical arc path segments to doubly-encode directionality.\n",
       "function tick() {\n",
       "  path.attr(\"d\", function(d) {\n",
       "    var dx = d.target.x - d.source.x,\n",
       "        dy = d.target.y - d.source.y,\n",
       "        dr = 75/d.linknum;  //linknum is defined above\n",
       "    return \"M\" + d.source.x + \",\" + d.source.y + \"A\" + dr + \",\" + dr + \" 0 0,1 \" + d.target.x + \",\" + d.target.y;\n",
       "  });\n",
       "\n",
       "  circle.attr(\"transform\", function(d) {\n",
       "    return \"translate(\" + d.x + \",\" + d.y + \")\";\n",
       "  });\n",
       "\n",
       "  text.attr(\"transform\", function(d) {\n",
       "    return \"translate(\" + d.x + \",\" + d.y + \")\";\n",
       "  });\n",
       "  \n",
       "}\n",
       "\n",
       " </script>\n"
      ],
      "text/plain": [
       "<IPython.core.display.HTML object>"
      ]
     },
     "execution_count": 218,
     "metadata": {},
     "output_type": "execute_result"
    }
   ],
   "source": [
    "html_template = Template('''\n",
    "<style> $css_text </style>\n",
    "<div id=\"graph-div-B\"></div>\n",
    "<script> $js_text </script>\n",
    "''')\n",
    "js_text = js_text_template.substitute({'graphdiv': 'graph-div-B', 'python_data': data})\n",
    "HTML(html_template.substitute({'css_text': css_text, 'js_text': js_text}))"
   ]
  },
  {
   "cell_type": "code",
   "execution_count": 219,
   "metadata": {
    "collapsed": false
   },
   "outputs": [
    {
     "data": {
      "image/png": "[encoded data removed]",
      "text/plain": [
       "<matplotlib.figure.Figure at 0x1176044d0>"
      ]
     },
     "metadata": {},
     "output_type": "display_data"
    }
   ],
   "source": [
    "G_B = nx.DiGraph()\n",
    "banish = [\"TACACG\",\"ACACGT\",\"ACATCG\"]\n",
    "for difpath in [dicSeqDummy1[\"links\"],dicSeqDummy2[\"links\"],dicSeqRef[\"links\"],dicSeqDummy3[\"links\"]]:\n",
    "    for edge in difpath:\n",
    "        if ((edge[\"source\"] not in banish) and (edge[\"target\"] not in banish)):\n",
    "            G_B.add_edge(edge[\"source\"], edge[\"target\"],weight=1)\n",
    "pos = nx.spectral_layout(G_B)\n",
    "nx.draw_networkx(G_B, pos=pos)"
   ]
  },
  {
   "cell_type": "code",
   "execution_count": 220,
   "metadata": {
    "collapsed": false
   },
   "outputs": [],
   "source": [
    "GB_HR, GB_HB, GB_H_vn, GB_H_vn_norm = compute_dif_entropy(G_B)"
   ]
  },
  {
   "cell_type": "code",
   "execution_count": 221,
   "metadata": {
    "collapsed": false
   },
   "outputs": [
    {
     "data": {
      "text/plain": [
       "(3.7773627950641693, 0.7359654844915583, 0.944896449704142, 0.4326923076923077)"
      ]
     },
     "execution_count": 221,
     "metadata": {},
     "output_type": "execute_result"
    }
   ],
   "source": [
    "GB_HR, GB_HB, GB_H_vn, GB_H_vn_norm"
   ]
  },
  {
   "cell_type": "markdown",
   "metadata": {},
   "source": [
    "Exemplo **C**"
   ]
  },
  {
   "cell_type": "code",
   "execution_count": 222,
   "metadata": {
    "collapsed": true
   },
   "outputs": [],
   "source": [
    "# \"TACACGTCGGCACATCG\",\"TACACGTCTGCACATCG\",\"TACACGTCTTCACATCG\"\n",
    "# Check variant in position 9 -----** and a second variant in position 10 branching from two alleles (Dummy1 and Dummy3)\n",
    "# The Dummy1 is colored in green and Dummy2 has black line while branching variants are dashed lines\n",
    "dicSeqDummy1 = set_g_json(\"TACACGTCGGCACATCG\",7, \"licensing\")\n",
    "dicSeqDummy2 = set_g_json(\"TACACGTCTGCACATCG\",7, \"suit\")\n",
    "dicSeqRef =    set_g_json(\"TACACGTCGTCACATCG\",7, \"resolved\")\n",
    "dicSeqDummy3 = set_g_json(\"TACACGTCTCCACATCG\",7, \"resolved\")"
   ]
  },
  {
   "cell_type": "code",
   "execution_count": 223,
   "metadata": {
    "collapsed": true
   },
   "outputs": [],
   "source": [
    "dataDummy1 = dicSeqDummy1['links']\n",
    "dataDummy2 = dicSeqDummy2['links']\n",
    "dataDummy3 = dicSeqDummy3['links']\n",
    "dataRef = dicSeqRef['links']\n",
    "\n",
    "data = json.dumps(dataDummy1 + dataDummy2 + dataDummy3 + dataRef)"
   ]
  },
  {
   "cell_type": "code",
   "execution_count": 224,
   "metadata": {
    "collapsed": false
   },
   "outputs": [
    {
     "data": {
      "text/html": [
       "\n",
       "<style> \n",
       "path.link {\n",
       "  fill: none;\n",
       "  stroke: #666;\n",
       "  stroke-width: 1.5px;\n",
       "}\n",
       "\n",
       "marker#licensing {\n",
       "  fill: green;\n",
       "}\n",
       "\n",
       "path.link.licensing {\n",
       "  stroke: green;\n",
       "}\n",
       "\n",
       "path.link.resolved {\n",
       "  stroke-dasharray: 0,2 1;\n",
       "}\n",
       "\n",
       "circle {\n",
       "  fill: #ccc;\n",
       "  stroke: #333;\n",
       "  stroke-width: 1.5px;\n",
       "}\n",
       "\n",
       "text {\n",
       "  font: 10px sans-serif;\n",
       "  pointer-events: none;\n",
       "}\n",
       "\n",
       "text.shadow {\n",
       "  stroke: #fff;\n",
       "  stroke-width: 3px;\n",
       "  stroke-opacity: .8;\n",
       "}\n",
       " </style>\n",
       "<div id=\"graph-div-C\"></div>\n",
       "<script> \n",
       "\n",
       "// http://blog.thomsonreuters.com/index.php/mobile-patent-suits-graphic-of-the-day/\n",
       "var links = [{\"source\": \"ACGTCG\", \"type\": \"licensing\", \"target\": \"CGTCGG\", \"width\": 1}, {\"source\": \"CGGCAC\", \"type\": \"licensing\", \"target\": \"GGCACA\", \"width\": 1}, {\"source\": \"CGTCGG\", \"type\": \"licensing\", \"target\": \"GTCGGC\", \"width\": 1}, {\"source\": \"CACGTC\", \"type\": \"licensing\", \"target\": \"ACGTCG\", \"width\": 1}, {\"source\": \"CACATC\", \"type\": \"licensing\", \"target\": \"ACATCG\", \"width\": 1}, {\"source\": \"ACACGT\", \"type\": \"licensing\", \"target\": \"CACGTC\", \"width\": 1}, {\"source\": \"GGCACA\", \"type\": \"licensing\", \"target\": \"GCACAT\", \"width\": 1}, {\"source\": \"TCGGCA\", \"type\": \"licensing\", \"target\": \"CGGCAC\", \"width\": 1}, {\"source\": \"GTCGGC\", \"type\": \"licensing\", \"target\": \"TCGGCA\", \"width\": 1}, {\"source\": \"GCACAT\", \"type\": \"licensing\", \"target\": \"CACATC\", \"width\": 1}, {\"source\": \"TACACG\", \"type\": \"licensing\", \"target\": \"ACACGT\", \"width\": 1}, {\"source\": \"TCTGCA\", \"type\": \"suit\", \"target\": \"CTGCAC\", \"width\": 1}, {\"source\": \"CACGTC\", \"type\": \"suit\", \"target\": \"ACGTCT\", \"width\": 1}, {\"source\": \"CACATC\", \"type\": \"suit\", \"target\": \"ACATCG\", \"width\": 1}, {\"source\": \"ACACGT\", \"type\": \"suit\", \"target\": \"CACGTC\", \"width\": 1}, {\"source\": \"CTGCAC\", \"type\": \"suit\", \"target\": \"TGCACA\", \"width\": 1}, {\"source\": \"GCACAT\", \"type\": \"suit\", \"target\": \"CACATC\", \"width\": 1}, {\"source\": \"ACGTCT\", \"type\": \"suit\", \"target\": \"CGTCTG\", \"width\": 1}, {\"source\": \"GTCTGC\", \"type\": \"suit\", \"target\": \"TCTGCA\", \"width\": 1}, {\"source\": \"TGCACA\", \"type\": \"suit\", \"target\": \"GCACAT\", \"width\": 1}, {\"source\": \"CGTCTG\", \"type\": \"suit\", \"target\": \"GTCTGC\", \"width\": 1}, {\"source\": \"TACACG\", \"type\": \"suit\", \"target\": \"ACACGT\", \"width\": 1}, {\"source\": \"CCACAT\", \"type\": \"resolved\", \"target\": \"CACATC\", \"width\": 1}, {\"source\": \"TCTCCA\", \"type\": \"resolved\", \"target\": \"CTCCAC\", \"width\": 1}, {\"source\": \"CACGTC\", \"type\": \"resolved\", \"target\": \"ACGTCT\", \"width\": 1}, {\"source\": \"CACATC\", \"type\": \"resolved\", \"target\": \"ACATCG\", \"width\": 1}, {\"source\": \"ACACGT\", \"type\": \"resolved\", \"target\": \"CACGTC\", \"width\": 1}, {\"source\": \"TCCACA\", \"type\": \"resolved\", \"target\": \"CCACAT\", \"width\": 1}, {\"source\": \"CTCCAC\", \"type\": \"resolved\", \"target\": \"TCCACA\", \"width\": 1}, {\"source\": \"GTCTCC\", \"type\": \"resolved\", \"target\": \"TCTCCA\", \"width\": 1}, {\"source\": \"ACGTCT\", \"type\": \"resolved\", \"target\": \"CGTCTC\", \"width\": 1}, {\"source\": \"CGTCTC\", \"type\": \"resolved\", \"target\": \"GTCTCC\", \"width\": 1}, {\"source\": \"TACACG\", \"type\": \"resolved\", \"target\": \"ACACGT\", \"width\": 1}, {\"source\": \"TCGTCA\", \"type\": \"resolved\", \"target\": \"CGTCAC\", \"width\": 1}, {\"source\": \"ACGTCG\", \"type\": \"resolved\", \"target\": \"CGTCGT\", \"width\": 1}, {\"source\": \"GTCGTC\", \"type\": \"resolved\", \"target\": \"TCGTCA\", \"width\": 1}, {\"source\": \"CACGTC\", \"type\": \"resolved\", \"target\": \"ACGTCG\", \"width\": 1}, {\"source\": \"CACATC\", \"type\": \"resolved\", \"target\": \"ACATCG\", \"width\": 1}, {\"source\": \"ACACGT\", \"type\": \"resolved\", \"target\": \"CACGTC\", \"width\": 1}, {\"source\": \"GTCACA\", \"type\": \"resolved\", \"target\": \"TCACAT\", \"width\": 1}, {\"source\": \"CGTCGT\", \"type\": \"resolved\", \"target\": \"GTCGTC\", \"width\": 1}, {\"source\": \"CGTCAC\", \"type\": \"resolved\", \"target\": \"GTCACA\", \"width\": 1}, {\"source\": \"TACACG\", \"type\": \"resolved\", \"target\": \"ACACGT\", \"width\": 1}, {\"source\": \"TCACAT\", \"type\": \"resolved\", \"target\": \"CACATC\", \"width\": 1}];\n",
       "\n",
       "//sort links by source, then target\n",
       "links.sort(function(a,b) {\n",
       "    if (a.source > b.source) {return 1;}\n",
       "    else if (a.source < b.source) {return -1;}\n",
       "    else {\n",
       "        if (a.target > b.target) {return 1;}\n",
       "        if (a.target < b.target) {return -1;}\n",
       "        else {return 0;}\n",
       "    }\n",
       "});\n",
       "\n",
       "//any links with duplicate source and target get an incremented 'linknum'\n",
       "for (var i=0; i<links.length; i++) {\n",
       "    if (i != 0 &&\n",
       "        links[i].source == links[i-1].source &&\n",
       "        links[i].target == links[i-1].target) {\n",
       "            links[i].linknum = links[i-1].linknum + 1;\n",
       "        }\n",
       "    else {links[i].linknum = 1;};\n",
       "};\n",
       "\n",
       "var nodes = {};\n",
       "\n",
       "// Compute the distinct nodes from the links.\n",
       "links.forEach(function(link) {\n",
       "  link.source = nodes[link.source] || (nodes[link.source] = {name: link.source});\n",
       "  link.target = nodes[link.target] || (nodes[link.target] = {name: link.target});\n",
       "});\n",
       "\n",
       "var w = 600,\n",
       "    h = 600;\n",
       "\n",
       "var force = d3.layout.force()\n",
       "    .nodes(d3.values(nodes))\n",
       "    .links(links)\n",
       "    .size([w, h])\n",
       "    .linkDistance(60)\n",
       "    .charge(-300)\n",
       "    .on(\"tick\", tick)\n",
       "    .start();\n",
       "\n",
       "var svg = d3.select(\"#graph-div-C\").append(\"svg\")\n",
       "    .attr(\"width\", w)\n",
       "    .attr(\"height\", h);\n",
       "\n",
       "// Per-type markers, as they don't inherit styles.\n",
       "svg.append(\"svg:defs\").selectAll(\"marker\")\n",
       "    .data([\"suit\", \"licensing\", \"resolved\"])\n",
       "  .enter().append(\"svg:marker\")\n",
       "    .attr(\"id\", String)\n",
       "    .attr(\"viewBox\", \"0 -5 10 10\")\n",
       "    .attr(\"refX\", 15)\n",
       "    .attr(\"refY\", -1.5)\n",
       "    .attr(\"markerWidth\", 6)\n",
       "    .attr(\"markerHeight\", 6)\n",
       "    .attr(\"orient\", \"auto\")\n",
       "  .append(\"svg:path\")\n",
       "    .attr(\"d\", \"M0,-5L10,0L0,5\");\n",
       "\n",
       "var path = svg.append(\"svg:g\").selectAll(\"path\")\n",
       "    .data(force.links())\n",
       "  .enter().append(\"svg:path\")\n",
       "    .attr(\"class\", function(d) { return \"link \" + d.type; })\n",
       "    .attr(\"marker-end\", function(d) { return \"url(#\" + d.type + \")\"; });\n",
       "\n",
       "var circle = svg.append(\"svg:g\").selectAll(\"circle\")\n",
       "    .data(force.nodes())\n",
       "  .enter().append(\"svg:circle\")\n",
       "    .attr(\"r\", 6)\n",
       "    .call(force.drag);\n",
       "\n",
       "var text = svg.append(\"svg:g\").selectAll(\"g\")\n",
       "    .data(force.nodes())\n",
       "  .enter().append(\"svg:g\");\n",
       "\n",
       "// A copy of the text with a thick white stroke for legibility.\n",
       "text.append(\"svg:text\")\n",
       "    .attr(\"x\", 8)\n",
       "    .attr(\"y\", \".31em\")\n",
       "    .attr(\"class\", \"shadow\")\n",
       "    .text(function(d) { return d.name; });\n",
       "\n",
       "text.append(\"svg:text\")\n",
       "    .attr(\"x\", 8)\n",
       "    .attr(\"y\", \".31em\")\n",
       "    .text(function(d) { return d.name; });\n",
       "\n",
       "// Use elliptical arc path segments to doubly-encode directionality.\n",
       "function tick() {\n",
       "  path.attr(\"d\", function(d) {\n",
       "    var dx = d.target.x - d.source.x,\n",
       "        dy = d.target.y - d.source.y,\n",
       "        dr = 75/d.linknum;  //linknum is defined above\n",
       "    return \"M\" + d.source.x + \",\" + d.source.y + \"A\" + dr + \",\" + dr + \" 0 0,1 \" + d.target.x + \",\" + d.target.y;\n",
       "  });\n",
       "\n",
       "  circle.attr(\"transform\", function(d) {\n",
       "    return \"translate(\" + d.x + \",\" + d.y + \")\";\n",
       "  });\n",
       "\n",
       "  text.attr(\"transform\", function(d) {\n",
       "    return \"translate(\" + d.x + \",\" + d.y + \")\";\n",
       "  });\n",
       "  \n",
       "}\n",
       "\n",
       " </script>\n"
      ],
      "text/plain": [
       "<IPython.core.display.HTML object>"
      ]
     },
     "execution_count": 224,
     "metadata": {},
     "output_type": "execute_result"
    }
   ],
   "source": [
    "html_template = Template('''\n",
    "<style> $css_text </style>\n",
    "<div id=\"graph-div-C\"></div>\n",
    "<script> $js_text </script>\n",
    "''')\n",
    "js_text = js_text_template.substitute({'graphdiv': 'graph-div-C', 'python_data': data})\n",
    "HTML(html_template.substitute({'css_text': css_text, 'js_text': js_text}))"
   ]
  },
  {
   "cell_type": "code",
   "execution_count": 225,
   "metadata": {
    "collapsed": false
   },
   "outputs": [
    {
     "data": {
      "image/png": "[encoded data removed]",
      "text/plain": [
       "<matplotlib.figure.Figure at 0x117cea610>"
      ]
     },
     "metadata": {},
     "output_type": "display_data"
    }
   ],
   "source": [
    "G_C = nx.DiGraph()\n",
    "banish = [\"TACACG\",\"ACACGT\",\"ACATCG\"]\n",
    "for difpath in [dicSeqDummy1[\"links\"],dicSeqDummy2[\"links\"],dicSeqRef[\"links\"],dicSeqDummy3['links']]:\n",
    "    for edge in difpath:\n",
    "        if ((edge[\"source\"] not in banish) and (edge[\"target\"] not in banish)):\n",
    "            G_C.add_edge(edge[\"source\"], edge[\"target\"],weight=1)\n",
    "pos = nx.spectral_layout(G_C)\n",
    "nx.draw_networkx(G_C, pos=pos)"
   ]
  },
  {
   "cell_type": "code",
   "execution_count": 235,
   "metadata": {
    "collapsed": false
   },
   "outputs": [
    {
     "data": {
      "text/plain": [
       "[<matplotlib.lines.Line2D at 0x118741cd0>]"
      ]
     },
     "execution_count": 235,
     "metadata": {},
     "output_type": "execute_result"
    },
    {
     "data": {
      "image/png": "[encoded data removed]",
      "text/plain": [
       "<matplotlib.figure.Figure at 0x117995b10>"
      ]
     },
     "metadata": {},
     "output_type": "display_data"
    }
   ],
   "source": [
    "GC_HR, GC_HB, GC_H_vn, GC_H_vn_norm = compute_dif_entropy(G_C)\n",
    "ax1 = plt.subplot()\n",
    "ax1.set_xlim([-0.5,3.5])\n",
    "ax1.plot([GA_HR, GA_HB, GA_H_vn, GA_H_vn_norm], 'o')\n",
    "ax1.plot([GB_HR, GB_HB, GB_H_vn, GB_H_vn_norm], '^y')\n",
    "ax1.plot([GC_HR, GC_HB, GC_H_vn, GC_H_vn_norm], '*r')"
   ]
  },
  {
   "cell_type": "code",
   "execution_count": 205,
   "metadata": {
    "collapsed": false
   },
   "outputs": [
    {
     "data": {
      "text/plain": [
       "(3.8659986132745803,\n",
       " 0.67957451444413552,\n",
       " 0.9473022405121171,\n",
       " 0.42283950617283944)"
      ]
     },
     "execution_count": 205,
     "metadata": {},
     "output_type": "execute_result"
    }
   ],
   "source": [
    "GC_HR, GC_HB, GC_H_vn, GC_H_vn_norm"
   ]
  },
  {
   "cell_type": "markdown",
   "metadata": {},
   "source": [
    "## Complex SNP (bubble length < k)"
   ]
  },
  {
   "cell_type": "code",
   "execution_count": null,
   "metadata": {
    "collapsed": true
   },
   "outputs": [],
   "source": []
  },
  {
   "cell_type": "code",
   "execution_count": 57,
   "metadata": {
    "collapsed": false
   },
   "outputs": [],
   "source": [
    "dicSeqDummy1 = set_g_json(\"AATCGAGATAGA\",5, \"licensing\")\n",
    "dicSeqDummy2 = set_g_json(\"AATCGATATAGA\",5, \"suit\")"
   ]
  },
  {
   "cell_type": "code",
   "execution_count": 58,
   "metadata": {
    "collapsed": false
   },
   "outputs": [],
   "source": [
    "dataDummy1 = dicSeqDummy1['links']\n",
    "dataDummy2 = dicSeqDummy2['links']\n",
    "#dataRef = dicSeqRef['links']\n",
    "\n",
    "data = json.dumps(dataDummy1 + dataDummy2)"
   ]
  },
  {
   "cell_type": "code",
   "execution_count": 59,
   "metadata": {
    "collapsed": false
   },
   "outputs": [
    {
     "data": {
      "text/html": [
       "\n",
       "<style> \n",
       "path.link {\n",
       "  fill: none;\n",
       "  stroke: #666;\n",
       "  stroke-width: 1.5px;\n",
       "}\n",
       "\n",
       "marker#licensing {\n",
       "  fill: green;\n",
       "}\n",
       "\n",
       "path.link.licensing {\n",
       "  stroke: green;\n",
       "}\n",
       "\n",
       "path.link.resolved {\n",
       "  stroke-dasharray: 0,2 1;\n",
       "}\n",
       "\n",
       "circle {\n",
       "  fill: #ccc;\n",
       "  stroke: #333;\n",
       "  stroke-width: 1.5px;\n",
       "}\n",
       "\n",
       "text {\n",
       "  font: 10px sans-serif;\n",
       "  pointer-events: none;\n",
       "}\n",
       "\n",
       "text.shadow {\n",
       "  stroke: #fff;\n",
       "  stroke-width: 3px;\n",
       "  stroke-opacity: .8;\n",
       "}\n",
       " </style>\n",
       "<div id=\"graph-div-complex\"></div>\n",
       "<script> \n",
       "\n",
       "// http://blog.thomsonreuters.com/index.php/mobile-patent-suits-graphic-of-the-day/\n",
       "var links = [{\"source\": \"CGAG\", \"type\": \"licensing\", \"target\": \"GAGA\", \"width\": 1}, {\"source\": \"ATCG\", \"type\": \"licensing\", \"target\": \"TCGA\", \"width\": 1}, {\"source\": \"TCGA\", \"type\": \"licensing\", \"target\": \"CGAG\", \"width\": 1}, {\"source\": \"ATAG\", \"type\": \"licensing\", \"target\": \"TAGA\", \"width\": 1}, {\"source\": \"AATC\", \"type\": \"licensing\", \"target\": \"ATCG\", \"width\": 1}, {\"source\": \"GAGA\", \"type\": \"licensing\", \"target\": \"AGAT\", \"width\": 1}, {\"source\": \"AGAT\", \"type\": \"licensing\", \"target\": \"GATA\", \"width\": 1}, {\"source\": \"GATA\", \"type\": \"licensing\", \"target\": \"ATAG\", \"width\": 1}, {\"source\": \"CGAT\", \"type\": \"suit\", \"target\": \"GATA\", \"width\": 1}, {\"source\": \"TCGA\", \"type\": \"suit\", \"target\": \"CGAT\", \"width\": 1}, {\"source\": \"TATA\", \"type\": \"suit\", \"target\": \"ATAG\", \"width\": 1}, {\"source\": \"ATAG\", \"type\": \"suit\", \"target\": \"TAGA\", \"width\": 1}, {\"source\": \"AATC\", \"type\": \"suit\", \"target\": \"ATCG\", \"width\": 1}, {\"source\": \"ATCG\", \"type\": \"suit\", \"target\": \"TCGA\", \"width\": 1}, {\"source\": \"ATAT\", \"type\": \"suit\", \"target\": \"TATA\", \"width\": 1}, {\"source\": \"GATA\", \"type\": \"suit\", \"target\": \"ATAT\", \"width\": 1}];\n",
       "\n",
       "//sort links by source, then target\n",
       "links.sort(function(a,b) {\n",
       "    if (a.source > b.source) {return 1;}\n",
       "    else if (a.source < b.source) {return -1;}\n",
       "    else {\n",
       "        if (a.target > b.target) {return 1;}\n",
       "        if (a.target < b.target) {return -1;}\n",
       "        else {return 0;}\n",
       "    }\n",
       "});\n",
       "\n",
       "//any links with duplicate source and target get an incremented 'linknum'\n",
       "for (var i=0; i<links.length; i++) {\n",
       "    if (i != 0 &&\n",
       "        links[i].source == links[i-1].source &&\n",
       "        links[i].target == links[i-1].target) {\n",
       "            links[i].linknum = links[i-1].linknum + 1;\n",
       "        }\n",
       "    else {links[i].linknum = 1;};\n",
       "};\n",
       "\n",
       "var nodes = {};\n",
       "\n",
       "// Compute the distinct nodes from the links.\n",
       "links.forEach(function(link) {\n",
       "  link.source = nodes[link.source] || (nodes[link.source] = {name: link.source});\n",
       "  link.target = nodes[link.target] || (nodes[link.target] = {name: link.target});\n",
       "});\n",
       "\n",
       "var w = 600,\n",
       "    h = 600;\n",
       "\n",
       "var force = d3.layout.force()\n",
       "    .nodes(d3.values(nodes))\n",
       "    .links(links)\n",
       "    .size([w, h])\n",
       "    .linkDistance(60)\n",
       "    .charge(-300)\n",
       "    .on(\"tick\", tick)\n",
       "    .start();\n",
       "\n",
       "var svg = d3.select(\"#graph-div-complex\").append(\"svg\")\n",
       "    .attr(\"width\", w)\n",
       "    .attr(\"height\", h);\n",
       "\n",
       "// Per-type markers, as they don't inherit styles.\n",
       "svg.append(\"svg:defs\").selectAll(\"marker\")\n",
       "    .data([\"suit\", \"licensing\", \"resolved\"])\n",
       "  .enter().append(\"svg:marker\")\n",
       "    .attr(\"id\", String)\n",
       "    .attr(\"viewBox\", \"0 -5 10 10\")\n",
       "    .attr(\"refX\", 15)\n",
       "    .attr(\"refY\", -1.5)\n",
       "    .attr(\"markerWidth\", 6)\n",
       "    .attr(\"markerHeight\", 6)\n",
       "    .attr(\"orient\", \"auto\")\n",
       "  .append(\"svg:path\")\n",
       "    .attr(\"d\", \"M0,-5L10,0L0,5\");\n",
       "\n",
       "var path = svg.append(\"svg:g\").selectAll(\"path\")\n",
       "    .data(force.links())\n",
       "  .enter().append(\"svg:path\")\n",
       "    .attr(\"class\", function(d) { return \"link \" + d.type; })\n",
       "    .attr(\"marker-end\", function(d) { return \"url(#\" + d.type + \")\"; });\n",
       "\n",
       "var circle = svg.append(\"svg:g\").selectAll(\"circle\")\n",
       "    .data(force.nodes())\n",
       "  .enter().append(\"svg:circle\")\n",
       "    .attr(\"r\", 6)\n",
       "    .call(force.drag);\n",
       "\n",
       "var text = svg.append(\"svg:g\").selectAll(\"g\")\n",
       "    .data(force.nodes())\n",
       "  .enter().append(\"svg:g\");\n",
       "\n",
       "// A copy of the text with a thick white stroke for legibility.\n",
       "text.append(\"svg:text\")\n",
       "    .attr(\"x\", 8)\n",
       "    .attr(\"y\", \".31em\")\n",
       "    .attr(\"class\", \"shadow\")\n",
       "    .text(function(d) { return d.name; });\n",
       "\n",
       "text.append(\"svg:text\")\n",
       "    .attr(\"x\", 8)\n",
       "    .attr(\"y\", \".31em\")\n",
       "    .text(function(d) { return d.name; });\n",
       "\n",
       "// Use elliptical arc path segments to doubly-encode directionality.\n",
       "function tick() {\n",
       "  path.attr(\"d\", function(d) {\n",
       "    var dx = d.target.x - d.source.x,\n",
       "        dy = d.target.y - d.source.y,\n",
       "        dr = 75/d.linknum;  //linknum is defined above\n",
       "    return \"M\" + d.source.x + \",\" + d.source.y + \"A\" + dr + \",\" + dr + \" 0 0,1 \" + d.target.x + \",\" + d.target.y;\n",
       "  });\n",
       "\n",
       "  circle.attr(\"transform\", function(d) {\n",
       "    return \"translate(\" + d.x + \",\" + d.y + \")\";\n",
       "  });\n",
       "\n",
       "  text.attr(\"transform\", function(d) {\n",
       "    return \"translate(\" + d.x + \",\" + d.y + \")\";\n",
       "  });\n",
       "  \n",
       "}\n",
       "\n",
       " </script>\n"
      ],
      "text/plain": [
       "<IPython.core.display.HTML object>"
      ]
     },
     "execution_count": 59,
     "metadata": {},
     "output_type": "execute_result"
    }
   ],
   "source": [
    "html_template = Template('''\n",
    "<style> $css_text </style>\n",
    "<div id=\"graph-div-complex\"></div>\n",
    "<script> $js_text </script>\n",
    "''')\n",
    "js_text = js_text_template.substitute({'graphdiv': 'graph-div-complex', 'python_data': data})\n",
    "HTML(html_template.substitute({'css_text': css_text, 'js_text': js_text}))"
   ]
  },
  {
   "cell_type": "markdown",
   "metadata": {},
   "source": [
    "## SNPs + deletions in one bubble"
   ]
  },
  {
   "cell_type": "markdown",
   "metadata": {},
   "source": [
    "Structure where two SNPs and one Deletion combine to form one bubble."
   ]
  },
  {
   "cell_type": "code",
   "execution_count": 236,
   "metadata": {
    "collapsed": false
   },
   "outputs": [],
   "source": [
    "# MSA\n",
    "# read1    CATCGTATGCTA---CAGG\n",
    "# read2    CATCGCATGTTAGCTCAGG\n",
    "#          ***** *** **   ****"
   ]
  },
  {
   "cell_type": "code",
   "execution_count": 240,
   "metadata": {
    "collapsed": true
   },
   "outputs": [],
   "source": [
    "dicSeqDummy1 = set_g_json(\"CATCGTATGCTACAGG\",5, \"licensing\")\n",
    "dicSeqDummy2 = set_g_json(\"CATCGCATGTTAGCTCAGG\",5, \"suit\")"
   ]
  },
  {
   "cell_type": "code",
   "execution_count": 241,
   "metadata": {
    "collapsed": false
   },
   "outputs": [],
   "source": [
    "dataDummy1 = dicSeqDummy1['links']\n",
    "dataDummy2 = dicSeqDummy2['links']\n",
    "#dataRef = dicSeqRef['links']\n",
    "\n",
    "data = json.dumps(dataDummy1 + dataDummy2)"
   ]
  },
  {
   "cell_type": "code",
   "execution_count": 239,
   "metadata": {
    "collapsed": false
   },
   "outputs": [
    {
     "data": {
      "text/html": [
       "\n",
       "<style> \n",
       "path.link {\n",
       "  fill: none;\n",
       "  stroke: #666;\n",
       "  stroke-width: 1.5px;\n",
       "}\n",
       "\n",
       "marker#licensing {\n",
       "  fill: green;\n",
       "}\n",
       "\n",
       "path.link.licensing {\n",
       "  stroke: green;\n",
       "}\n",
       "\n",
       "path.link.resolved {\n",
       "  stroke-dasharray: 0,2 1;\n",
       "}\n",
       "\n",
       "circle {\n",
       "  fill: #ccc;\n",
       "  stroke: #333;\n",
       "  stroke-width: 1.5px;\n",
       "}\n",
       "\n",
       "text {\n",
       "  font: 10px sans-serif;\n",
       "  pointer-events: none;\n",
       "}\n",
       "\n",
       "text.shadow {\n",
       "  stroke: #fff;\n",
       "  stroke-width: 3px;\n",
       "  stroke-opacity: .8;\n",
       "}\n",
       " </style>\n",
       "<div id=\"graph-div-indel1\"></div>\n",
       "<script> \n",
       "\n",
       "// http://blog.thomsonreuters.com/index.php/mobile-patent-suits-graphic-of-the-day/\n",
       "var links = [{\"source\": \"ACAG\", \"type\": \"licensing\", \"target\": \"CAGG\", \"width\": 1}, {\"source\": \"ATGC\", \"type\": \"licensing\", \"target\": \"TGCT\", \"width\": 1}, {\"source\": \"CATC\", \"type\": \"licensing\", \"target\": \"ATCG\", \"width\": 1}, {\"source\": \"CTAC\", \"type\": \"licensing\", \"target\": \"TACA\", \"width\": 1}, {\"source\": \"TGCT\", \"type\": \"licensing\", \"target\": \"GCTA\", \"width\": 1}, {\"source\": \"GCTA\", \"type\": \"licensing\", \"target\": \"CTAC\", \"width\": 1}, {\"source\": \"TATG\", \"type\": \"licensing\", \"target\": \"ATGC\", \"width\": 1}, {\"source\": \"ATCG\", \"type\": \"licensing\", \"target\": \"TCGT\", \"width\": 1}, {\"source\": \"GTAT\", \"type\": \"licensing\", \"target\": \"TATG\", \"width\": 1}, {\"source\": \"TACA\", \"type\": \"licensing\", \"target\": \"ACAG\", \"width\": 1}, {\"source\": \"TCGT\", \"type\": \"licensing\", \"target\": \"CGTA\", \"width\": 1}, {\"source\": \"CGTA\", \"type\": \"licensing\", \"target\": \"GTAT\", \"width\": 1}, {\"source\": \"GTTA\", \"type\": \"suit\", \"target\": \"TTAG\", \"width\": 1}, {\"source\": \"CATC\", \"type\": \"suit\", \"target\": \"ATCG\", \"width\": 1}, {\"source\": \"CTCA\", \"type\": \"suit\", \"target\": \"TCAG\", \"width\": 1}, {\"source\": \"GCTC\", \"type\": \"suit\", \"target\": \"CTCA\", \"width\": 1}, {\"source\": \"CATG\", \"type\": \"suit\", \"target\": \"ATGT\", \"width\": 1}, {\"source\": \"TTAG\", \"type\": \"suit\", \"target\": \"TAGC\", \"width\": 1}, {\"source\": \"TCGC\", \"type\": \"suit\", \"target\": \"CGCA\", \"width\": 1}, {\"source\": \"TCAG\", \"type\": \"suit\", \"target\": \"CAGG\", \"width\": 1}, {\"source\": \"ATCG\", \"type\": \"suit\", \"target\": \"TCGC\", \"width\": 1}, {\"source\": \"ATGT\", \"type\": \"suit\", \"target\": \"TGTT\", \"width\": 1}, {\"source\": \"TAGC\", \"type\": \"suit\", \"target\": \"AGCT\", \"width\": 1}, {\"source\": \"GCAT\", \"type\": \"suit\", \"target\": \"CATG\", \"width\": 1}, {\"source\": \"AGCT\", \"type\": \"suit\", \"target\": \"GCTC\", \"width\": 1}, {\"source\": \"CGCA\", \"type\": \"suit\", \"target\": \"GCAT\", \"width\": 1}, {\"source\": \"TGTT\", \"type\": \"suit\", \"target\": \"GTTA\", \"width\": 1}];\n",
       "\n",
       "//sort links by source, then target\n",
       "links.sort(function(a,b) {\n",
       "    if (a.source > b.source) {return 1;}\n",
       "    else if (a.source < b.source) {return -1;}\n",
       "    else {\n",
       "        if (a.target > b.target) {return 1;}\n",
       "        if (a.target < b.target) {return -1;}\n",
       "        else {return 0;}\n",
       "    }\n",
       "});\n",
       "\n",
       "//any links with duplicate source and target get an incremented 'linknum'\n",
       "for (var i=0; i<links.length; i++) {\n",
       "    if (i != 0 &&\n",
       "        links[i].source == links[i-1].source &&\n",
       "        links[i].target == links[i-1].target) {\n",
       "            links[i].linknum = links[i-1].linknum + 1;\n",
       "        }\n",
       "    else {links[i].linknum = 1;};\n",
       "};\n",
       "\n",
       "var nodes = {};\n",
       "\n",
       "// Compute the distinct nodes from the links.\n",
       "links.forEach(function(link) {\n",
       "  link.source = nodes[link.source] || (nodes[link.source] = {name: link.source});\n",
       "  link.target = nodes[link.target] || (nodes[link.target] = {name: link.target});\n",
       "});\n",
       "\n",
       "var w = 600,\n",
       "    h = 600;\n",
       "\n",
       "var force = d3.layout.force()\n",
       "    .nodes(d3.values(nodes))\n",
       "    .links(links)\n",
       "    .size([w, h])\n",
       "    .linkDistance(60)\n",
       "    .charge(-300)\n",
       "    .on(\"tick\", tick)\n",
       "    .start();\n",
       "\n",
       "var svg = d3.select(\"#graph-div-indel1\").append(\"svg\")\n",
       "    .attr(\"width\", w)\n",
       "    .attr(\"height\", h);\n",
       "\n",
       "// Per-type markers, as they don't inherit styles.\n",
       "svg.append(\"svg:defs\").selectAll(\"marker\")\n",
       "    .data([\"suit\", \"licensing\", \"resolved\"])\n",
       "  .enter().append(\"svg:marker\")\n",
       "    .attr(\"id\", String)\n",
       "    .attr(\"viewBox\", \"0 -5 10 10\")\n",
       "    .attr(\"refX\", 15)\n",
       "    .attr(\"refY\", -1.5)\n",
       "    .attr(\"markerWidth\", 6)\n",
       "    .attr(\"markerHeight\", 6)\n",
       "    .attr(\"orient\", \"auto\")\n",
       "  .append(\"svg:path\")\n",
       "    .attr(\"d\", \"M0,-5L10,0L0,5\");\n",
       "\n",
       "var path = svg.append(\"svg:g\").selectAll(\"path\")\n",
       "    .data(force.links())\n",
       "  .enter().append(\"svg:path\")\n",
       "    .attr(\"class\", function(d) { return \"link \" + d.type; })\n",
       "    .attr(\"marker-end\", function(d) { return \"url(#\" + d.type + \")\"; });\n",
       "\n",
       "var circle = svg.append(\"svg:g\").selectAll(\"circle\")\n",
       "    .data(force.nodes())\n",
       "  .enter().append(\"svg:circle\")\n",
       "    .attr(\"r\", 6)\n",
       "    .call(force.drag);\n",
       "\n",
       "var text = svg.append(\"svg:g\").selectAll(\"g\")\n",
       "    .data(force.nodes())\n",
       "  .enter().append(\"svg:g\");\n",
       "\n",
       "// A copy of the text with a thick white stroke for legibility.\n",
       "text.append(\"svg:text\")\n",
       "    .attr(\"x\", 8)\n",
       "    .attr(\"y\", \".31em\")\n",
       "    .attr(\"class\", \"shadow\")\n",
       "    .text(function(d) { return d.name; });\n",
       "\n",
       "text.append(\"svg:text\")\n",
       "    .attr(\"x\", 8)\n",
       "    .attr(\"y\", \".31em\")\n",
       "    .text(function(d) { return d.name; });\n",
       "\n",
       "// Use elliptical arc path segments to doubly-encode directionality.\n",
       "function tick() {\n",
       "  path.attr(\"d\", function(d) {\n",
       "    var dx = d.target.x - d.source.x,\n",
       "        dy = d.target.y - d.source.y,\n",
       "        dr = 75/d.linknum;  //linknum is defined above\n",
       "    return \"M\" + d.source.x + \",\" + d.source.y + \"A\" + dr + \",\" + dr + \" 0 0,1 \" + d.target.x + \",\" + d.target.y;\n",
       "  });\n",
       "\n",
       "  circle.attr(\"transform\", function(d) {\n",
       "    return \"translate(\" + d.x + \",\" + d.y + \")\";\n",
       "  });\n",
       "\n",
       "  text.attr(\"transform\", function(d) {\n",
       "    return \"translate(\" + d.x + \",\" + d.y + \")\";\n",
       "  });\n",
       "  \n",
       "}\n",
       "\n",
       " </script>\n"
      ],
      "text/plain": [
       "<IPython.core.display.HTML object>"
      ]
     },
     "execution_count": 239,
     "metadata": {},
     "output_type": "execute_result"
    }
   ],
   "source": [
    "html_template = Template('''\n",
    "<style> $css_text </style>\n",
    "<div id=\"graph-div-indel1\"></div>\n",
    "<script> $js_text </script>\n",
    "''')\n",
    "js_text = js_text_template.substitute({'graphdiv': 'graph-div-indel1', 'python_data': data})\n",
    "HTML(html_template.substitute({'css_text': css_text, 'js_text': js_text}))"
   ]
  },
  {
   "cell_type": "code",
   "execution_count": 243,
   "metadata": {
    "collapsed": false
   },
   "outputs": [
    {
     "data": {
      "image/png": "[encoded data removed]",
      "text/plain": [
       "<matplotlib.figure.Figure at 0x118770710>"
      ]
     },
     "metadata": {},
     "output_type": "display_data"
    }
   ],
   "source": [
    "G_i = nx.DiGraph()\n",
    "banish = [\"CATC\"]\n",
    "for difpath in [dicSeqDummy1[\"links\"],dicSeqDummy2[\"links\"]]:\n",
    "    for edge in difpath:\n",
    "        if ((edge[\"source\"] not in banish) and (edge[\"target\"] not in banish)):\n",
    "            G_i.add_edge(edge[\"source\"], edge[\"target\"],weight=1)\n",
    "pos = nx.spectral_layout(G_i)\n",
    "nx.draw_networkx(G_i, pos=pos)"
   ]
  },
  {
   "cell_type": "code",
   "execution_count": 245,
   "metadata": {
    "collapsed": false
   },
   "outputs": [],
   "source": [
    "Gi_HR, Gi_HB, Gi_H_vn, Gi_H_vn_norm = compute_dif_entropy(G_i)"
   ]
  },
  {
   "cell_type": "code",
   "execution_count": 246,
   "metadata": {
    "collapsed": false
   },
   "outputs": [
    {
     "data": {
      "text/plain": [
       "(4.6438561897747244,\n",
       " 0.86763098737759259,\n",
       " 0.9411999999999999,\n",
       " 0.47000000000000003)"
      ]
     },
     "execution_count": 246,
     "metadata": {},
     "output_type": "execute_result"
    }
   ],
   "source": [
    "Gi_HR, Gi_HB, Gi_H_vn, Gi_H_vn_norm"
   ]
  },
  {
   "cell_type": "code",
   "execution_count": 258,
   "metadata": {
    "collapsed": false
   },
   "outputs": [],
   "source": [
    "G_simpleBubble = get_bubble_graph(100, 1, printGraph=False)\n",
    "Gs_HR, Gs_HB, Gs_H_vn, Gs_H_vn_norm = compute_dif_entropy(G_simpleBubble)"
   ]
  },
  {
   "cell_type": "code",
   "execution_count": 259,
   "metadata": {
    "collapsed": false
   },
   "outputs": [
    {
     "data": {
      "text/plain": [
       "(6.6681124728507886, 2.1221728944238727, 0.992592637976669, 0.4962871287128713)"
      ]
     },
     "execution_count": 259,
     "metadata": {},
     "output_type": "execute_result"
    }
   ],
   "source": [
    "Gs_HR, Gs_HB, Gs_H_vn, Gs_H_vn_norm"
   ]
  },
  {
   "cell_type": "markdown",
   "metadata": {},
   "source": [
    "Para o tamanho do path da clean-bubble maior que 100 os algoritmos de Rachevsky e Bonchev começam a apresentar esforço computacional considerável. Portanto, o calculo da entropia para P grande (> 100) vou me ater ao cálculo da entropia aproximada de Von Neumann."
   ]
  },
  {
   "cell_type": "code",
   "execution_count": 294,
   "metadata": {
    "collapsed": true
   },
   "outputs": [],
   "source": [
    "graph_size = []\n",
    "entropy_vn = []\n",
    "entropy_vn_norm = []\n",
    "entropy_vn_self = []\n",
    "entropy_vn_true = []\n",
    "for size in range(3, 103, 10):\n",
    "    G_simpleBubble = get_bubble_graph(100, 1, printGraph=False)\n",
    "    H_vn = von_entropy(G_simpleBubble, add_fake=True, normalize=False)\n",
    "    H_vn_norm = von_entropy(G_simpleBubble, add_fake=True, normalize=True)\n",
    "    H_vn_self = von_entropy(G_simpleBubble, add_fake=True, normalize=True, add_self=True)\n",
    "    H_vn_true = von_entropy(G_simpleBubble)\n",
    "    graph_size.append(size)\n",
    "    entropy_vn.append(H_vn)\n",
    "    entropy_vn_norm.append(H_vn_norm)\n",
    "    entropy_vn_self.append(H_vn_self)\n",
    "    entropy_vn_true.append(H_vn_true)"
   ]
  },
  {
   "cell_type": "code",
   "execution_count": 295,
   "metadata": {
    "collapsed": false
   },
   "outputs": [
    {
     "data": {
      "text/plain": [
       "[<matplotlib.lines.Line2D at 0x11b0cdd10>]"
      ]
     },
     "execution_count": 295,
     "metadata": {},
     "output_type": "execute_result"
    },
    {
     "data": {
      "image/png": "[encoded data removed]",
      "text/plain": [
       "<matplotlib.figure.Figure at 0x11a0438d0>"
      ]
     },
     "metadata": {},
     "output_type": "display_data"
    }
   ],
   "source": [
    "plt.plot(graph_size, entropy_vn)\n",
    "plt.plot(graph_size, entropy_vn_norm)\n",
    "plt.plot(graph_size, entropy_vn_self)\n",
    "plt.plot(graph_size, entropy_vn_true)"
   ]
  },
  {
   "cell_type": "code",
   "execution_count": null,
   "metadata": {
    "collapsed": true
   },
   "outputs": [],
   "source": []
  }
 ],
 "metadata": {
  "kernelspec": {
   "display_name": "Python 2",
   "language": "python",
   "name": "python2"
  },
  "language_info": {
   "codemirror_mode": {
    "name": "ipython",
    "version": 2
   },
   "file_extension": ".py",
   "mimetype": "text/x-python",
   "name": "python",
   "nbconvert_exporter": "python",
   "pygments_lexer": "ipython2",
   "version": "2.7.11"
  }
 },
 "nbformat": 4,
 "nbformat_minor": 0
}
